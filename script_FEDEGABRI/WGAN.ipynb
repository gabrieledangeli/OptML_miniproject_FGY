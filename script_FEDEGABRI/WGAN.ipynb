{
 "cells": [
  {
   "cell_type": "code",
   "execution_count": 1,
   "metadata": {},
   "outputs": [],
   "source": [
    "# Importing needed libraries\n",
    "\n",
    "import torch, time, os, pickle\n",
    "import numpy as np\n",
    "import torch.nn as nn\n",
    "import torch.optim as optim\n",
    "import torch.nn.functional as F\n",
    "\n",
    "\n",
    "\n",
    "from torch.utils.data import DataLoader\n",
    "from torchvision import datasets, transforms\n",
    "from torch.autograd import grad\n",
    "from helpers import *\n",
    "from torchmetrics.image.inception import InceptionScore\n",
    "from torchmetrics.image.fid import FrechetInceptionDistance"
   ]
  },
  {
   "cell_type": "code",
   "execution_count": 2,
   "metadata": {},
   "outputs": [],
   "source": [
    "class Generator(nn.Module):\n",
    "    \n",
    "    def __init__(self, input_dim=100, output_dim=1, input_size=32):\n",
    "        super(Generator, self).__init__()\n",
    "        self.input_dim = input_dim \n",
    "        self.output_dim = output_dim \n",
    "        self.input_size = input_size\n",
    "\n",
    "        self.fc = nn.Sequential(\n",
    "            nn.Linear(self.input_dim, 1024),\n",
    "            nn.BatchNorm1d(1024),\n",
    "            nn.ReLU(),\n",
    "            nn.Linear(1024, 128 * (self.input_size // 4) * (self.input_size // 4)),\n",
    "            nn.BatchNorm1d(128 * (self.input_size // 4) * (self.input_size // 4)),\n",
    "            nn.ReLU(),\n",
    "        )\n",
    "        # The following layers are used to upsample the input\n",
    "        #  noise and generate an output image. \n",
    "        self.deconv = nn.Sequential(\n",
    "            nn.ConvTranspose2d(128, 64, 4, 2, 1),\n",
    "            nn.BatchNorm2d(64),\n",
    "            nn.ReLU(),\n",
    "            nn.ConvTranspose2d(64, self.output_dim, 4, 2, 1),\n",
    "            nn.Tanh(),\n",
    "        )\n",
    "        # This function initializes the weights and biases of the \n",
    "        # generator's layers:\n",
    "        initialize_weights(self) \n",
    "\n",
    "    def forward(self, input):\n",
    "        '''\n",
    "        The input to the forward method represents the input noise \n",
    "        to the generator model. It returns the generated output image.\n",
    "        '''\n",
    "        x = self.fc(input)\n",
    "        x = x.view(-1, 128, (self.input_size // 4), (self.input_size // 4)) # reshapes x to match the expected size for the subsequent transposed convolutional layers. \n",
    "        x = self.deconv(x)\n",
    "        return x"
   ]
  },
  {
   "cell_type": "code",
   "execution_count": 3,
   "metadata": {},
   "outputs": [],
   "source": [
    "class Discriminator(nn.Module):\n",
    "    def __init__(self, input_dim=1, output_dim=1, input_size=32):\n",
    "        super(Discriminator, self).__init__()\n",
    "        self.input_dim = input_dim\n",
    "        self.output_dim = output_dim\n",
    "        self.input_size = input_size\n",
    "\n",
    "        self.conv = nn.Sequential(\n",
    "            nn.Conv2d(self.input_dim, 64, 4, 2, 1),\n",
    "            nn.LeakyReLU(0.2),\n",
    "            nn.Conv2d(64, 128, 4, 2, 1),\n",
    "            nn.BatchNorm2d(128),\n",
    "            nn.LeakyReLU(0.2),\n",
    "        )\n",
    "        self.fc = nn.Sequential(\n",
    "            nn.Linear(128 * (self.input_size // 4) * (self.input_size // 4), 1024),\n",
    "            nn.BatchNorm1d(1024),\n",
    "            nn.LeakyReLU(0.2),\n",
    "            nn.Linear(1024, self.output_dim),\n",
    "            # nn.Sigmoid(),\n",
    "        )\n",
    "        # This function initializes the weights and biases of the \n",
    "        # discriminator's layers:\n",
    "        initialize_weights(self)\n",
    "\n",
    "    def forward(self, input):\n",
    "        '''\n",
    "        The input to the forward method represents the input image\n",
    "        It returns the output prediction, which represents the discriminator's assessment of the input image.\n",
    "        '''\n",
    "        x = self.conv(input)\n",
    "        x = x.view(-1, 128 * (self.input_size // 4) * (self.input_size // 4))\n",
    "        x = self.fc(x)\n",
    "        return x"
   ]
  },
  {
   "cell_type": "code",
   "execution_count": 4,
   "metadata": {},
   "outputs": [],
   "source": [
    "class WGAN(object):\n",
    "    def __init__(self, epoch, batch_size, save_dir, result_dir, dataset, device, input_size, lrG, lrD, beta1, beta2):\n",
    "    \n",
    "        self.epoch = epoch\n",
    "        self.batch_size = batch_size\n",
    "        self.save_dir = save_dir\n",
    "        self.result_dir = result_dir\n",
    "        self.device = device\n",
    "        self.dataset = dataset\n",
    "        self.input_size = input_size    # Default: 32\n",
    "\n",
    "        self.model_name = 'WGAN'        \n",
    "        self.z_dim = 62                 # s an integer that represents the dimensionality of the (Gaussian) random input vector used by the generator.\n",
    "        self.d_param_max = 0.01         # Clipping value\n",
    "        self.iteration_g_per_d = 5      # specifies the number of iterations of the generator per discriminator iteration. \n",
    "                                        # This controls the relative training frequency of the generator and discriminator.\n",
    "\n",
    "        # transformation to be applied on data in the DataLoader function\n",
    "\n",
    "        self.inception=InceptionScore(normalize=True)\n",
    "        self.f=FrechetInceptionDistance(feature=64,normalize=True)\n",
    "\n",
    "        transform = transforms.Compose([\n",
    "                                        transforms.Resize((input_size, input_size)), \n",
    "                                        transforms.ToTensor(), \n",
    "                                        transforms.Normalize(mean=(0.5, 0.5, 0.5), std=(0.5, 0.5, 0.5))\n",
    "                                        ])\n",
    "        \n",
    "        if self.dataset == 'cifar10':\n",
    "                self.data_loader = DataLoader(\n",
    "                    datasets.CIFAR10('data/cifar10', train=True, download=True, transform=transform),\n",
    "                    batch_size=batch_size, shuffle=True)\n",
    "        elif self.dataset == 'mnist':\n",
    "                self.data_loader = DataLoader(\n",
    "                    datasets.MNIST('data/mnist', train=True, download=True, transform=transform),\n",
    "                    batch_size=batch_size, shuffle=True)\n",
    "        \n",
    "\n",
    "        data = self.data_loader.__iter__().__next__()[0]\n",
    "\n",
    "        # Initialize generator, discriminator and optimizers\n",
    "        self.G = Generator(input_dim=self.z_dim, output_dim=data.shape[1], input_size=self.input_size)\n",
    "        self.D = Discriminator(input_dim=data.shape[1], output_dim=1, input_size=self.input_size)\n",
    "        self.G_optimizer = optim.Adam(self.G.parameters(), lr=lrG, betas=(beta1, beta2))\n",
    "        self.D_optimizer = optim.Adam(self.D.parameters(), lr=lrD, betas=(beta1, beta2))\n",
    "\n",
    "        if self.device == 'cuda':\n",
    "            self.G.cuda()\n",
    "            self.D.cuda()\n",
    "\n",
    "        # Fixed noise: By setting up a fixed noise vector, the WGAN can generate consistent\n",
    "        # samples from the generator over the course of training. This allows for visualizing\n",
    "        # the progression of generated images or comparing them across different training iterations.\n",
    "        self.sample_z = torch.rand((self.batch_size, self.z_dim))\n",
    "        if self.device == 'cuda':\n",
    "            self.sample_z = self.sample_z.cuda()\n",
    "\n",
    "    def train(self):\n",
    "        self.D_losses = []\n",
    "        self.G_losses = []\n",
    "        self.inception_scores = []\n",
    "        self.fid=[] \n",
    "\n",
    "        self.y_real = torch.ones(self.batch_size, 1) # Initialize labels for real samples (i.e. 1)\n",
    "        self.y_fake = torch.zeros(self.batch_size, 1) # Initialize labels for fake samples (i.e. 0)\n",
    "\n",
    "        if self.device == 'cuda':\n",
    "            self.y_real = self.y_real.cuda()\n",
    "            self.y_fake = self.y_fake.cuda()\n",
    "\n",
    "        self.D.train() #D network in train mode\n",
    "\n",
    "        print('Start training!')\n",
    "\n",
    "        for epoch in range(self.epoch):\n",
    "            self.G.train() #G network in train mode\n",
    "\n",
    "            for iter, (x_train, _) in enumerate(self.data_loader):\n",
    "                if iter == self.data_loader.dataset.__len__() // self.batch_size:\n",
    "                    break\n",
    "\n",
    "                z_noise = torch.rand((self.batch_size, self.z_dim))\n",
    "\n",
    "                if self.device == 'cuda':\n",
    "                    x_train = x_train.cuda()\n",
    "                    z_noise = z_noise.cuda()\n",
    "\n",
    "                # PART 1: UPDATE THE DISCRIMINATOR\n",
    "                self.D_optimizer.zero_grad()\n",
    "\n",
    "                D_real = self.D(x_train) # Computes the discriminator output for real data\n",
    "                D_real_loss = -torch.mean(D_real) # Calculates the loss for the discriminator on real data. \n",
    "                                                  # The objective is to maximize the average output of the discriminator for real data.\n",
    "\n",
    "                G_ = self.G(z_noise) # Generates fake data using the generator\n",
    "                D_fake = self.D(G_) # Computes the discriminator output for fake data.\n",
    "                D_fake_loss = torch.mean(D_fake) # Calculates the loss for the discriminator on fake data. \n",
    "                                                 # The objective is to minimize the average output of the discriminator for fake data.\n",
    "\n",
    "                D_loss = D_real_loss + D_fake_loss # Calculates the total discriminator loss as the sum of the losses on real and fake data.\n",
    "\n",
    "                D_loss.backward()\n",
    "                self.D_optimizer.step()\n",
    "\n",
    "                # Clipping D parameters to a specified range to enforce Lipschitz continuity.\n",
    "                for p in self.D.parameters():\n",
    "                    p.data.clamp_(-self.d_param_max, self.d_param_max)\n",
    "\n",
    "                if ((iter+1) % self.iteration_g_per_d) == 0:\n",
    "                    # PART 2: UPDATE THE GENERATOR\n",
    "                    self.G_optimizer.zero_grad()\n",
    "\n",
    "                    G_ = self.G(z_noise)\n",
    "                    D_fake = self.D(G_)\n",
    "                    G_loss = -torch.mean(D_fake) # Calculates the generator loss as the negative average output of the discriminator for fake data. \n",
    "                                                 # The objective is to maximize the average output of the discriminator for the generated fake data.\n",
    "\n",
    "                    self.G_losses.append(G_loss.item())\n",
    "\n",
    "                    G_loss.backward()\n",
    "\n",
    "                    self.G_optimizer.step()\n",
    "\n",
    "                    self.D_losses.append(D_loss.item())\n",
    "                \n",
    "                #if (iter % 100) == 0:\n",
    "                #   self.inception_scores.append(self.calculateInceptionScore())\n",
    "\n",
    "            print(f'Epoch: {epoch}/{self.epoch}')\n",
    "            print(f'Average Discriminator loss: {np.mean(self.D_losses)}')\n",
    "            print(f'Average Generator loss: {np.mean(self.G_losses)}')\n",
    "\n",
    "            with torch.no_grad():\n",
    "                self.visualize_results((epoch+1))\n",
    "                score=self.IS()\n",
    "                print('inception_score:',score[0])\n",
    "                self.inception_scores.append(score[0].item())\n",
    "                distance=self.FID()\n",
    "                print('fid:',distance,'\\n')\n",
    "                self.inception_scores.append(distance.item())\n",
    "\n",
    "        print(\"Training finished.\")\n",
    "\n",
    "        #self.save()\n",
    "        generate_animation(self.result_dir + '/' + self.dataset + '/' + self.model_name + '/' + self.model_name,\n",
    "                                 self.epoch)\n",
    "        loss_plot(self.G_losses, self.D_losses, os.path.join(self.save_dir, self.dataset, self.model_name), self.model_name)\n",
    "        is_plot(self.inception_scores)\n",
    "    \n",
    "    def IS(self):\n",
    "        self.G.eval()\n",
    "        images = self.G(self.sample_z)\n",
    "        self.inception.update(images.cpu())\n",
    "        IS=self.inception.compute()   \n",
    "        return IS\n",
    "        \n",
    "    def FID(self):\n",
    "        self.G.eval()\n",
    "        imagesG = self.G(self.sample_z)\n",
    "        imagesR=self.data_loader.__iter__().__next__()[0]\n",
    "        self.f.update(imagesR.cpu(), real=True)\n",
    "        self.f.update(imagesG.cpu(), real=False)\n",
    "        FID=self.f.compute()\n",
    "        return FID\n",
    "\n",
    "    def visualize_results(self, epoch):\n",
    "        self.G.eval()\n",
    "\n",
    "        if not os.path.exists(self.result_dir + '/' + self.dataset + '/' + self.model_name):\n",
    "            os.makedirs(self.result_dir + '/' + self.dataset + '/' + self.model_name)\n",
    "\n",
    "        samples = self.G(self.sample_z)\n",
    "        \n",
    "        if self.device == 'cuda':\n",
    "            samples = samples.cpu().data.numpy().transpose(0, 2, 3, 1)\n",
    "        else:\n",
    "            samples = samples.data.numpy().transpose(0, 2, 3, 1)\n",
    "\n",
    "\n",
    "        samples = (samples + 1) / 2\n",
    "        save_images(samples, [8, 8],\n",
    "                          self.result_dir + '/' + self.dataset + '/' + self.model_name + '/' + self.model_name + '_epoch%03d' % epoch + '.png')\n",
    "    \n",
    "    def print_networks(self):\n",
    "        print('---------- Networks architecture -------------')\n",
    "        print(self.G)\n",
    "        print(self.D)\n",
    "        print('-----------------------------------------------')\n",
    "\n",
    "\n",
    "    '''\n",
    "    def save(self):\n",
    "        save_dir = os.path.join(self.save_dir, self.dataset, self.model_name)\n",
    "\n",
    "        if not os.path.exists(save_dir):\n",
    "            os.makedirs(save_dir)\n",
    "\n",
    "        torch.save(self.G.state_dict(), os.path.join(save_dir, self.model_name + '_G.pkl'))\n",
    "        torch.save(self.D.state_dict(), os.path.join(save_dir, self.model_name + '_D.pkl'))\n",
    "\n",
    "        with open(os.path.join(save_dir, self.model_name + '_history.pkl'), 'wb') as f:\n",
    "            pickle.dump(self.train_hist, f)\n",
    "\n",
    "    def load(self):\n",
    "        save_dir = os.path.join(self.save_dir, self.dataset, self.model_name)\n",
    "\n",
    "        self.G.load_state_dict(torch.load(os.path.join(save_dir, self.model_name + '_G.pkl')))\n",
    "        self.D.load_state_dict(torch.load(os.path.join(save_dir, self.model_name + '_D.pkl')))\n",
    "    '''"
   ]
  },
  {
   "cell_type": "code",
   "execution_count": 5,
   "metadata": {},
   "outputs": [],
   "source": [
    "class WGAN_GP(object):\n",
    "    def __init__(self, epoch, batch_size, save_dir, result_dir, dataset, device, input_size, lrG, lrD, beta1, beta2):\n",
    "        # parameters\n",
    "        self.epoch = epoch\n",
    "        self.dataset = dataset\n",
    "        self.batch_size = batch_size\n",
    "        self.save_dir = save_dir\n",
    "        self.result_dir = result_dir\n",
    "        self.device = device\n",
    "        self.input_size = input_size\n",
    "\n",
    "        self.model_name = 'WGAN_GP'\n",
    "        self.z_dim = 62\n",
    "        self.lambda_ = 10\n",
    "        self.iteration_g_per_d = 5\n",
    "\n",
    "        self.inception=InceptionScore(normalize=True)\n",
    "        self.f=FrechetInceptionDistance(feature=64,normalize=True)               \n",
    "        \n",
    "        # transformation to be applied on data in the DataLoader function\n",
    "        transform = transforms.Compose([\n",
    "                                transforms.Resize((self.input_size, self.input_size)), \n",
    "                                transforms.ToTensor(), \n",
    "                                transforms.Normalize(mean=(0.5, 0.5, 0.5), std=(0.5, 0.5, 0.5))\n",
    "                                ])\n",
    "\n",
    "        if self.dataset == 'cifar10':\n",
    "                self.data_loader = DataLoader(\n",
    "                    datasets.CIFAR10('data/cifar10', train=True, download=False, transform=transform),\n",
    "                    batch_size=batch_size, shuffle=True)\n",
    "        elif self.dataset == 'mnist':\n",
    "                self.data_loader = DataLoader(\n",
    "                    datasets.MNIST('data/mnist', train=True, download=True, transform=transform),\n",
    "                    batch_size=batch_size, shuffle=True)\n",
    "        \n",
    "        data = self.data_loader.__iter__().__next__()[0]\n",
    "\n",
    "        # Initialization of optimizers and of generator and discriminator\n",
    "        self.G = Generator(input_dim=self.z_dim, output_dim=data.shape[1], input_size=self.input_size)\n",
    "        self.D = Discriminator(input_dim=data.shape[1], output_dim=1, input_size=self.input_size)\n",
    "        self.G_optimizer = optim.Adam(self.G.parameters(), lr=lrG, betas=(beta1, beta2))\n",
    "        self.D_optimizer = optim.Adam(self.D.parameters(), lr=lrD, betas=(beta1, beta2))\n",
    "\n",
    "        if self.device == 'cuda':\n",
    "            self.G.cuda()\n",
    "            self.D.cuda()\n",
    "\n",
    "        # Fixed noise: By setting up a fixed noise vector, the WGAN can generate consistent\n",
    "        # samples from the generator over the course of training. This allows for visualizing\n",
    "        # the progression of generated images or comparing them across different training iterations.\n",
    "        self.sample_z = torch.rand((self.batch_size, self.z_dim))\n",
    "        if self.device == 'cuda':\n",
    "            self.sample_z = self.sample_z.cuda()\n",
    "\n",
    "    def train(self):\n",
    "        self.G_losses = []\n",
    "        self.D_losses = []\n",
    "\n",
    "        self.inception_scores = []\n",
    "        self.fid=[]\n",
    "        \n",
    "        self.y_real = torch.ones(self.batch_size, 1)\n",
    "        self.y_fake = torch.zeros(self.batch_size, 1)\n",
    "\n",
    "        if self.device == 'cuda':\n",
    "            self.y_real = self.y_real.cuda()\n",
    "            self.y_fake =  self.y_fake.cuda()\n",
    "\n",
    "        self.D.train() #Discriminator in train mode\n",
    "        print('Start training!')\n",
    "\n",
    "        for epoch in range(self.epoch):\n",
    "            self.G.train() #Generator in train mode\n",
    "\n",
    "            for iter, (x_train, _) in enumerate(self.data_loader):\n",
    "                if iter == self.data_loader.dataset.__len__() // self.batch_size:\n",
    "                    break\n",
    "\n",
    "                z_noise = torch.rand((self.batch_size, self.z_dim))\n",
    "                if self.device == 'cuda':\n",
    "                    x_train = x_train.cuda()\n",
    "                    z_noise = z_noise.cuda()\n",
    "\n",
    "                # PART 1: UPDATE THE DISCRIMINATOR\n",
    "                self.D_optimizer.zero_grad()\n",
    "\n",
    "                D_real = self.D(x_train)\n",
    "                D_real_loss = -torch.mean(D_real)\n",
    "\n",
    "                G_ = self.G(z_noise)\n",
    "                D_fake = self.D(G_)\n",
    "                D_fake_loss = torch.mean(D_fake)\n",
    "\n",
    "                # Gradient penalty\n",
    "                alpha = torch.rand((self.batch_size, 1, 1, 1))\n",
    "                if self.device == 'cuda':\n",
    "                    alpha = alpha.cuda()\n",
    "\n",
    "                x_hat = alpha * x_train.data + (1 - alpha) * G_.data\n",
    "                x_hat.requires_grad = True\n",
    "\n",
    "                pred_hat = self.D(x_hat)\n",
    "                if self.device == 'cuda':\n",
    "                    gradients = grad(outputs=pred_hat, inputs=x_hat, grad_outputs=torch.ones(pred_hat.size()).cuda(),\n",
    "                                 create_graph=True, retain_graph=True, only_inputs=True)[0]\n",
    "                else:\n",
    "                    gradients = grad(outputs=pred_hat, inputs=x_hat, grad_outputs=torch.ones(pred_hat.size()),\n",
    "                                     create_graph=True, retain_graph=True, only_inputs=True)[0]\n",
    "\n",
    "                gradient_penalty = self.lambda_ * ((gradients.view(gradients.size()[0], -1).norm(2, 1) - 1) ** 2).mean()\n",
    "\n",
    "                D_loss = D_real_loss + D_fake_loss + gradient_penalty #loss with gradient penalty\n",
    "\n",
    "                D_loss.backward()\n",
    "                self.D_optimizer.step()\n",
    "\n",
    "                if ((iter+1) % self.iteration_g_per_d) == 0:\n",
    "                    # PART 2: UPDATE THE GENERATOR\n",
    "                    self.G_optimizer.zero_grad()\n",
    "\n",
    "                    G_ = self.G(z_noise)\n",
    "                    D_fake = self.D(G_)\n",
    "                    G_loss = -torch.mean(D_fake)\n",
    "                    self.G_losses.append(G_loss.item())\n",
    "\n",
    "                    G_loss.backward()\n",
    "                    self.G_optimizer.step()\n",
    "\n",
    "                    self.D_losses.append(D_loss.item())\n",
    "                \n",
    "            print(f'Epoch: {epoch+1}/{self.epoch}')\n",
    "            print(f'Average Discriminator loss: {np.mean(self.D_losses)}')\n",
    "            print(f'Average Generator loss: {np.mean(self.G_losses)}\\n')\n",
    "\n",
    "            with torch.no_grad():\n",
    "                self.visualize_results((epoch+1))\n",
    "                score=self.IS()\n",
    "                print('inception_score:',score[0])\n",
    "                self.inception_scores.append(score[0].item())\n",
    "                distance=self.FID()\n",
    "                print('fid:',distance,'\\n')\n",
    "                self.inception_scores.append(distance.item())\n",
    "\n",
    "        print(\"Training finished!\")\n",
    "\n",
    "        #self.save()\n",
    "        generate_animation(self.result_dir + '/' + self.dataset + '/' + self.model_name + '/' + self.model_name,\n",
    "                                 self.epoch)\n",
    "        loss_plot(self.G_losses, self.D_losses, os.path.join(self.save_dir, self.dataset, self.model_name), self.model_name)\n",
    "        is_plot(self.inception_scores)\n",
    "    \n",
    "    def IS(self):\n",
    "        self.G.eval()\n",
    "        images = self.G(self.sample_z)\n",
    "        self.inception.update(images.cpu())\n",
    "        IS=self.inception.compute()   \n",
    "        return IS\n",
    "    \n",
    "    def FID(self):\n",
    "        self.G.eval()\n",
    "        imagesG = self.G(self.sample_z)\n",
    "        imagesR=self.data_loader.__iter__().__next__()[0]\n",
    "        self.f.update(imagesR.cpu(), real=True)\n",
    "        self.f.update(imagesG.cpu(), real=False)\n",
    "        FID=self.f.compute()\n",
    "        return FID\n",
    "\n",
    "    def visualize_results(self, epoch, fix=True):\n",
    "\n",
    "        '''\n",
    "        By calling this method during the training loop, you can visualize and save the \n",
    "        generated samples at regular intervals to monitor the progress \n",
    "        of the generator's output over the course of training.\n",
    "        '''\n",
    "\n",
    "        self.G.eval() # set the generator in evaluation mode.\n",
    "\n",
    "        if not os.path.exists(self.result_dir + '/' + self.dataset + '/' + self.model_name):\n",
    "            os.makedirs(self.result_dir + '/' + self.dataset + '/' + self.model_name)\n",
    "\n",
    "        samples = self.G(self.sample_z) # These samples represent the generator's output at the given epoch\n",
    "        \n",
    "        # The dimensions are transposed to match the image format\n",
    "        if self.device == 'cuda':\n",
    "            samples = samples.cpu().data.numpy().transpose(0, 2, 3, 1)\n",
    "        else:\n",
    "            samples = samples.data.numpy().transpose(0, 2, 3, 1)\n",
    "\n",
    "        samples = (samples + 1) / 2 # Normalizes the samples by scaling their pixel values from the range [-1, 1] to the range [0, 1]\n",
    "        save_images(samples, [8, 8],\n",
    "                          self.result_dir + '/' + self.dataset + '/' + self.model_name + '/' + self.model_name + '_epoch%03d' % epoch + '.png')\n",
    "\n",
    "    def print_networks(self):\n",
    "        print('---------- Networks architecture -------------')\n",
    "        print(self.G)\n",
    "        print(self.D)\n",
    "        print('-----------------------------------------------')\n",
    "\n",
    "    '''\n",
    "    def save(self):\n",
    "        save_dir = os.path.join(self.save_dir, self.dataset, self.model_name)\n",
    "\n",
    "        if not os.path.exists(save_dir):\n",
    "            os.makedirs(save_dir)\n",
    "\n",
    "        torch.save(self.G.state_dict(), os.path.join(save_dir, self.model_name + '_G.pkl'))\n",
    "        torch.save(self.D.state_dict(), os.path.join(save_dir, self.model_name + '_D.pkl'))\n",
    "\n",
    "        with open(os.path.join(save_dir, self.model_name + '_history.pkl'), 'wb') as f:\n",
    "            pickle.dump(self.train_hist, f)\n",
    "\n",
    "    def load(self):\n",
    "        save_dir = os.path.join(self.save_dir, self.dataset, self.model_name)\n",
    "\n",
    "        self.G.load_state_dict(torch.load(os.path.join(save_dir, self.model_name + '_G.pkl')))\n",
    "        self.D.load_state_dict(torch.load(os.path.join(save_dir, self.model_name + '_D.pkl')))\n",
    "    '''"
   ]
  },
  {
   "cell_type": "code",
   "execution_count": 6,
   "metadata": {},
   "outputs": [
    {
     "name": "stderr",
     "output_type": "stream",
     "text": [
      "/home/ytian/.conda/envs/swav/lib/python3.9/site-packages/torchmetrics/utilities/prints.py:36: UserWarning: Metric `InceptionScore` will save all extracted features in buffer. For large datasets this may lead to large memory footprint.\n",
      "  warnings.warn(*args, **kwargs)\n"
     ]
    },
    {
     "name": "stdout",
     "output_type": "stream",
     "text": [
      "Files already downloaded and verified\n"
     ]
    },
    {
     "data": {
      "text/plain": [
       "\"\\nif gan_type == 'WGAN':\\n    wgan = WGAN(epoch, batch_size, save_dir, result_dir, dataset, device, input_size, lrG, lrD, beta1, beta2)\\nelif gan_type == 'WGAN_GP':\\n    wgan = WGAN_GP(epoch, batch_size, save_dir, result_dir, dataset, device, input_size, lrG, lrD, beta1, beta2)\\n\""
      ]
     },
     "execution_count": 6,
     "metadata": {},
     "output_type": "execute_result"
    }
   ],
   "source": [
    "# PARAMETERS\n",
    "\n",
    "# Define dataset\n",
    "dataset = 'cifar10'\n",
    "\n",
    "# Define WGAN type (WGAN or WGAN_GP)\n",
    "gan_type = 'WGAN_GP'\n",
    "\n",
    "# Define number of epoch\n",
    "epoch = 100\n",
    "\n",
    "# Define batch_size\n",
    "batch_size = 64\n",
    "\n",
    "# Define input_size\n",
    "input_size = 32\n",
    "\n",
    "# Define directory for saving results and models\n",
    "save_dir = 'models'\n",
    "result_dir = 'results'\n",
    "\n",
    "# Defining learning rates\n",
    "lrG = 0.0002        # Generator\n",
    "lrD = 0.0002        # Discriminator\n",
    "\n",
    "# Adam beta parameters\n",
    "beta1 = 0.5\n",
    "beta2 = 0.999\n",
    "\n",
    "# 'cuda' if GPU is available, 'cpu' else\n",
    "device = 'cuda' if torch.cuda.is_available() else 'cpu'\n",
    "\n",
    "\n",
    "wgan = WGAN(epoch, batch_size, save_dir, result_dir, dataset, device, input_size, lrG, lrD, beta1, beta2)\n",
    "wgan_gp = WGAN_GP(epoch, batch_size, save_dir, result_dir, dataset, device, input_size, lrG, lrD, beta1, beta2)\n",
    "\n",
    "\n",
    "'''\n",
    "if gan_type == 'WGAN':\n",
    "    wgan = WGAN(epoch, batch_size, save_dir, result_dir, dataset, device, input_size, lrG, lrD, beta1, beta2)\n",
    "elif gan_type == 'WGAN_GP':\n",
    "    wgan = WGAN_GP(epoch, batch_size, save_dir, result_dir, dataset, device, input_size, lrG, lrD, beta1, beta2)\n",
    "'''"
   ]
  },
  {
   "cell_type": "code",
   "execution_count": 7,
   "metadata": {},
   "outputs": [
    {
     "name": "stdout",
     "output_type": "stream",
     "text": [
      "Start training!\n"
     ]
    },
    {
     "name": "stderr",
     "output_type": "stream",
     "text": [
      "Lossy conversion from float64 to uint8. Range [0, 1]. Convert image to uint8 prior to saving to suppress this warning.\n"
     ]
    },
    {
     "name": "stdout",
     "output_type": "stream",
     "text": [
      "Epoch: 0/100\n",
      "Average Discriminator loss: -0.01257175643546268\n",
      "Average Generator loss: 0.0026338156189572495\n",
      "inception_score: tensor(1.3971)\n",
      "fid: tensor(18.5162) \n",
      "\n"
     ]
    },
    {
     "name": "stderr",
     "output_type": "stream",
     "text": [
      "Lossy conversion from float64 to uint8. Range [0, 1]. Convert image to uint8 prior to saving to suppress this warning.\n"
     ]
    },
    {
     "name": "stdout",
     "output_type": "stream",
     "text": [
      "Epoch: 1/100\n",
      "Average Discriminator loss: -0.01368706935019686\n",
      "Average Generator loss: 0.003921580058000146\n",
      "inception_score: tensor(1.7412)\n",
      "fid: tensor(12.3190) \n",
      "\n"
     ]
    },
    {
     "name": "stderr",
     "output_type": "stream",
     "text": [
      "Lossy conversion from float64 to uint8. Range [0, 1]. Convert image to uint8 prior to saving to suppress this warning.\n"
     ]
    },
    {
     "name": "stdout",
     "output_type": "stream",
     "text": [
      "Epoch: 2/100\n",
      "Average Discriminator loss: -0.012391131014053702\n",
      "Average Generator loss: 0.0037322587901206477\n",
      "inception_score: tensor(1.9162)\n",
      "fid: tensor(9.8255) \n",
      "\n"
     ]
    },
    {
     "name": "stderr",
     "output_type": "stream",
     "text": [
      "Lossy conversion from float64 to uint8. Range [0, 1]. Convert image to uint8 prior to saving to suppress this warning.\n"
     ]
    },
    {
     "name": "stdout",
     "output_type": "stream",
     "text": [
      "Epoch: 3/100\n",
      "Average Discriminator loss: -0.012058962954399295\n",
      "Average Generator loss: 0.003726756609863421\n",
      "inception_score: tensor(1.9984)\n",
      "fid: tensor(9.0673) \n",
      "\n"
     ]
    },
    {
     "name": "stderr",
     "output_type": "stream",
     "text": [
      "Lossy conversion from float64 to uint8. Range [0, 1]. Convert image to uint8 prior to saving to suppress this warning.\n"
     ]
    },
    {
     "name": "stdout",
     "output_type": "stream",
     "text": [
      "Epoch: 4/100\n",
      "Average Discriminator loss: -0.011791246669152036\n",
      "Average Generator loss: 0.0037881229836411643\n",
      "inception_score: tensor(2.0774)\n",
      "fid: tensor(7.7922) \n",
      "\n"
     ]
    },
    {
     "name": "stderr",
     "output_type": "stream",
     "text": [
      "Lossy conversion from float64 to uint8. Range [0, 1]. Convert image to uint8 prior to saving to suppress this warning.\n"
     ]
    },
    {
     "name": "stdout",
     "output_type": "stream",
     "text": [
      "Epoch: 5/100\n",
      "Average Discriminator loss: -0.01151444835928627\n",
      "Average Generator loss: 0.0037887972532780236\n",
      "inception_score: tensor(2.1575)\n",
      "fid: tensor(6.8764) \n",
      "\n"
     ]
    },
    {
     "name": "stderr",
     "output_type": "stream",
     "text": [
      "Lossy conversion from float64 to uint8. Range [0, 1]. Convert image to uint8 prior to saving to suppress this warning.\n"
     ]
    },
    {
     "name": "stdout",
     "output_type": "stream",
     "text": [
      "Epoch: 6/100\n",
      "Average Discriminator loss: -0.011992757006944072\n",
      "Average Generator loss: 0.004097970608433034\n",
      "inception_score: tensor(2.1402)\n",
      "fid: tensor(6.9670) \n",
      "\n"
     ]
    },
    {
     "name": "stderr",
     "output_type": "stream",
     "text": [
      "Lossy conversion from float64 to uint8. Range [0, 1]. Convert image to uint8 prior to saving to suppress this warning.\n"
     ]
    },
    {
     "name": "stdout",
     "output_type": "stream",
     "text": [
      "Epoch: 7/100\n",
      "Average Discriminator loss: -0.013169028861552644\n",
      "Average Generator loss: 0.004683579875967179\n",
      "inception_score: tensor(2.1351)\n",
      "fid: tensor(6.7604) \n",
      "\n"
     ]
    },
    {
     "name": "stderr",
     "output_type": "stream",
     "text": [
      "Lossy conversion from float64 to uint8. Range [0, 1]. Convert image to uint8 prior to saving to suppress this warning.\n"
     ]
    },
    {
     "name": "stdout",
     "output_type": "stream",
     "text": [
      "Epoch: 8/100\n",
      "Average Discriminator loss: -0.01300486891468764\n",
      "Average Generator loss: 0.004577080738627331\n",
      "inception_score: tensor(2.1555)\n",
      "fid: tensor(6.3542) \n",
      "\n"
     ]
    },
    {
     "name": "stderr",
     "output_type": "stream",
     "text": [
      "Lossy conversion from float64 to uint8. Range [0, 1]. Convert image to uint8 prior to saving to suppress this warning.\n"
     ]
    },
    {
     "name": "stdout",
     "output_type": "stream",
     "text": [
      "Epoch: 9/100\n",
      "Average Discriminator loss: -0.012466600918634914\n",
      "Average Generator loss: 0.004273208162190619\n",
      "inception_score: tensor(2.1688)\n",
      "fid: tensor(5.9964) \n",
      "\n"
     ]
    },
    {
     "name": "stderr",
     "output_type": "stream",
     "text": [
      "Lossy conversion from float64 to uint8. Range [0, 1]. Convert image to uint8 prior to saving to suppress this warning.\n"
     ]
    },
    {
     "name": "stdout",
     "output_type": "stream",
     "text": [
      "Epoch: 10/100\n",
      "Average Discriminator loss: -0.012295208845720659\n",
      "Average Generator loss: 0.004077518520356288\n",
      "inception_score: tensor(2.1972)\n",
      "fid: tensor(5.5974) \n",
      "\n"
     ]
    },
    {
     "name": "stderr",
     "output_type": "stream",
     "text": [
      "Lossy conversion from float64 to uint8. Range [0, 1]. Convert image to uint8 prior to saving to suppress this warning.\n"
     ]
    },
    {
     "name": "stdout",
     "output_type": "stream",
     "text": [
      "Epoch: 11/100\n",
      "Average Discriminator loss: -0.01204800836801127\n",
      "Average Generator loss: 0.003941514648672598\n",
      "inception_score: tensor(2.2337)\n",
      "fid: tensor(5.1530) \n",
      "\n"
     ]
    },
    {
     "name": "stderr",
     "output_type": "stream",
     "text": [
      "Lossy conversion from float64 to uint8. Range [0, 1]. Convert image to uint8 prior to saving to suppress this warning.\n"
     ]
    },
    {
     "name": "stdout",
     "output_type": "stream",
     "text": [
      "Epoch: 12/100\n",
      "Average Discriminator loss: -0.011897659611532784\n",
      "Average Generator loss: 0.0038874390064573367\n",
      "inception_score: tensor(2.2640)\n",
      "fid: tensor(5.1457) \n",
      "\n"
     ]
    },
    {
     "name": "stderr",
     "output_type": "stream",
     "text": [
      "Lossy conversion from float64 to uint8. Range [0, 1]. Convert image to uint8 prior to saving to suppress this warning.\n"
     ]
    },
    {
     "name": "stdout",
     "output_type": "stream",
     "text": [
      "Epoch: 13/100\n",
      "Average Discriminator loss: -0.011931277155784903\n",
      "Average Generator loss: 0.003930696173457086\n",
      "inception_score: tensor(2.2810)\n",
      "fid: tensor(5.0066) \n",
      "\n"
     ]
    },
    {
     "name": "stderr",
     "output_type": "stream",
     "text": [
      "Lossy conversion from float64 to uint8. Range [0, 1]. Convert image to uint8 prior to saving to suppress this warning.\n"
     ]
    },
    {
     "name": "stdout",
     "output_type": "stream",
     "text": [
      "Epoch: 14/100\n",
      "Average Discriminator loss: -0.011867369153401535\n",
      "Average Generator loss: 0.003934679510631314\n",
      "inception_score: tensor(2.3010)\n",
      "fid: tensor(4.7578) \n",
      "\n"
     ]
    },
    {
     "name": "stderr",
     "output_type": "stream",
     "text": [
      "Lossy conversion from float64 to uint8. Range [0, 1]. Convert image to uint8 prior to saving to suppress this warning.\n"
     ]
    },
    {
     "name": "stdout",
     "output_type": "stream",
     "text": [
      "Epoch: 15/100\n",
      "Average Discriminator loss: -0.011882312097534454\n",
      "Average Generator loss: 0.003961035117894285\n",
      "inception_score: tensor(2.3189)\n",
      "fid: tensor(4.5173) \n",
      "\n"
     ]
    },
    {
     "name": "stderr",
     "output_type": "stream",
     "text": [
      "Lossy conversion from float64 to uint8. Range [0, 1]. Convert image to uint8 prior to saving to suppress this warning.\n"
     ]
    },
    {
     "name": "stdout",
     "output_type": "stream",
     "text": [
      "Epoch: 16/100\n",
      "Average Discriminator loss: -0.011853312256501575\n",
      "Average Generator loss: 0.003991131084295728\n",
      "inception_score: tensor(2.3349)\n",
      "fid: tensor(4.4310) \n",
      "\n"
     ]
    },
    {
     "name": "stderr",
     "output_type": "stream",
     "text": [
      "Lossy conversion from float64 to uint8. Range [0, 1]. Convert image to uint8 prior to saving to suppress this warning.\n"
     ]
    },
    {
     "name": "stdout",
     "output_type": "stream",
     "text": [
      "Epoch: 17/100\n",
      "Average Discriminator loss: -0.012327656977208983\n",
      "Average Generator loss: 0.0042345364223660715\n",
      "inception_score: tensor(2.3304)\n",
      "fid: tensor(4.3786) \n",
      "\n"
     ]
    },
    {
     "name": "stderr",
     "output_type": "stream",
     "text": [
      "Lossy conversion from float64 to uint8. Range [0, 1]. Convert image to uint8 prior to saving to suppress this warning.\n"
     ]
    },
    {
     "name": "stdout",
     "output_type": "stream",
     "text": [
      "Epoch: 18/100\n",
      "Average Discriminator loss: -0.012249471568194559\n",
      "Average Generator loss: 0.004220986936287773\n",
      "inception_score: tensor(2.3369)\n",
      "fid: tensor(4.2619) \n",
      "\n"
     ]
    },
    {
     "name": "stderr",
     "output_type": "stream",
     "text": [
      "Lossy conversion from float64 to uint8. Range [0, 1]. Convert image to uint8 prior to saving to suppress this warning.\n"
     ]
    },
    {
     "name": "stdout",
     "output_type": "stream",
     "text": [
      "Epoch: 19/100\n",
      "Average Discriminator loss: -0.012222080515978935\n",
      "Average Generator loss: 0.004266135158323801\n",
      "inception_score: tensor(2.3584)\n",
      "fid: tensor(4.1490) \n",
      "\n"
     ]
    },
    {
     "name": "stderr",
     "output_type": "stream",
     "text": [
      "Lossy conversion from float64 to uint8. Range [0, 1]. Convert image to uint8 prior to saving to suppress this warning.\n"
     ]
    },
    {
     "name": "stdout",
     "output_type": "stream",
     "text": [
      "Epoch: 20/100\n",
      "Average Discriminator loss: -0.012048110890820406\n",
      "Average Generator loss: 0.004221795721647503\n",
      "inception_score: tensor(2.3635)\n",
      "fid: tensor(4.0230) \n",
      "\n"
     ]
    },
    {
     "name": "stderr",
     "output_type": "stream",
     "text": [
      "Lossy conversion from float64 to uint8. Range [0, 1]. Convert image to uint8 prior to saving to suppress this warning.\n"
     ]
    },
    {
     "name": "stdout",
     "output_type": "stream",
     "text": [
      "Epoch: 21/100\n",
      "Average Discriminator loss: -0.011982070388629112\n",
      "Average Generator loss: 0.0042072486331352806\n",
      "inception_score: tensor(2.3811)\n",
      "fid: tensor(3.9034) \n",
      "\n"
     ]
    },
    {
     "name": "stderr",
     "output_type": "stream",
     "text": [
      "Lossy conversion from float64 to uint8. Range [0, 1]. Convert image to uint8 prior to saving to suppress this warning.\n"
     ]
    },
    {
     "name": "stdout",
     "output_type": "stream",
     "text": [
      "Epoch: 22/100\n",
      "Average Discriminator loss: -0.01191041539173011\n",
      "Average Generator loss: 0.004186365644041706\n",
      "inception_score: tensor(2.3907)\n",
      "fid: tensor(3.8048) \n",
      "\n"
     ]
    },
    {
     "name": "stderr",
     "output_type": "stream",
     "text": [
      "Lossy conversion from float64 to uint8. Range [0, 1]. Convert image to uint8 prior to saving to suppress this warning.\n"
     ]
    },
    {
     "name": "stdout",
     "output_type": "stream",
     "text": [
      "Epoch: 23/100\n",
      "Average Discriminator loss: -0.012110073827610687\n",
      "Average Generator loss: 0.004290053360585798\n",
      "inception_score: tensor(2.4125)\n",
      "fid: tensor(3.8703) \n",
      "\n"
     ]
    },
    {
     "name": "stderr",
     "output_type": "stream",
     "text": [
      "Lossy conversion from float64 to uint8. Range [0, 1]. Convert image to uint8 prior to saving to suppress this warning.\n"
     ]
    },
    {
     "name": "stdout",
     "output_type": "stream",
     "text": [
      "Epoch: 24/100\n",
      "Average Discriminator loss: -0.012337226471639812\n",
      "Average Generator loss: 0.00440237218052901\n",
      "inception_score: tensor(2.4183)\n",
      "fid: tensor(3.7693) \n",
      "\n"
     ]
    },
    {
     "name": "stderr",
     "output_type": "stream",
     "text": [
      "Lossy conversion from float64 to uint8. Range [0, 1]. Convert image to uint8 prior to saving to suppress this warning.\n"
     ]
    },
    {
     "name": "stdout",
     "output_type": "stream",
     "text": [
      "Epoch: 25/100\n",
      "Average Discriminator loss: -0.012172703627304425\n",
      "Average Generator loss: 0.004328604985185261\n",
      "inception_score: tensor(2.4320)\n",
      "fid: tensor(3.6405) \n",
      "\n"
     ]
    },
    {
     "name": "stderr",
     "output_type": "stream",
     "text": [
      "Lossy conversion from float64 to uint8. Range [0, 1]. Convert image to uint8 prior to saving to suppress this warning.\n"
     ]
    },
    {
     "name": "stdout",
     "output_type": "stream",
     "text": [
      "Epoch: 26/100\n",
      "Average Discriminator loss: -0.012447842505900565\n",
      "Average Generator loss: 0.004440061381540304\n",
      "inception_score: tensor(2.4390)\n",
      "fid: tensor(3.6573) \n",
      "\n"
     ]
    },
    {
     "name": "stderr",
     "output_type": "stream",
     "text": [
      "Lossy conversion from float64 to uint8. Range [0, 1]. Convert image to uint8 prior to saving to suppress this warning.\n"
     ]
    },
    {
     "name": "stdout",
     "output_type": "stream",
     "text": [
      "Epoch: 27/100\n",
      "Average Discriminator loss: -0.012524691939602019\n",
      "Average Generator loss: 0.0044668862046402975\n",
      "inception_score: tensor(2.4395)\n",
      "fid: tensor(3.5649) \n",
      "\n"
     ]
    },
    {
     "name": "stderr",
     "output_type": "stream",
     "text": [
      "Lossy conversion from float64 to uint8. Range [0, 1]. Convert image to uint8 prior to saving to suppress this warning.\n"
     ]
    },
    {
     "name": "stdout",
     "output_type": "stream",
     "text": [
      "Epoch: 28/100\n",
      "Average Discriminator loss: -0.012388961931015241\n",
      "Average Generator loss: 0.004395778460601648\n",
      "inception_score: tensor(2.4546)\n",
      "fid: tensor(3.4675) \n",
      "\n"
     ]
    },
    {
     "name": "stderr",
     "output_type": "stream",
     "text": [
      "Lossy conversion from float64 to uint8. Range [0, 1]. Convert image to uint8 prior to saving to suppress this warning.\n"
     ]
    },
    {
     "name": "stdout",
     "output_type": "stream",
     "text": [
      "Epoch: 29/100\n",
      "Average Discriminator loss: -0.012266818282398909\n",
      "Average Generator loss: 0.0043271549771256666\n",
      "inception_score: tensor(2.4597)\n",
      "fid: tensor(3.3759) \n",
      "\n"
     ]
    },
    {
     "name": "stderr",
     "output_type": "stream",
     "text": [
      "Lossy conversion from float64 to uint8. Range [0, 1]. Convert image to uint8 prior to saving to suppress this warning.\n"
     ]
    },
    {
     "name": "stdout",
     "output_type": "stream",
     "text": [
      "Epoch: 30/100\n",
      "Average Discriminator loss: -0.012437814791689048\n",
      "Average Generator loss: 0.00440126314509567\n",
      "inception_score: tensor(2.4966)\n",
      "fid: tensor(3.5251) \n",
      "\n"
     ]
    },
    {
     "name": "stderr",
     "output_type": "stream",
     "text": [
      "Lossy conversion from float64 to uint8. Range [0, 1]. Convert image to uint8 prior to saving to suppress this warning.\n"
     ]
    },
    {
     "name": "stdout",
     "output_type": "stream",
     "text": [
      "Epoch: 31/100\n",
      "Average Discriminator loss: -0.012769735564000793\n",
      "Average Generator loss: 0.004548687055817551\n",
      "inception_score: tensor(2.5073)\n",
      "fid: tensor(3.4586) \n",
      "\n"
     ]
    },
    {
     "name": "stderr",
     "output_type": "stream",
     "text": [
      "Lossy conversion from float64 to uint8. Range [0, 1]. Convert image to uint8 prior to saving to suppress this warning.\n"
     ]
    },
    {
     "name": "stdout",
     "output_type": "stream",
     "text": [
      "Epoch: 32/100\n",
      "Average Discriminator loss: -0.012604997206754565\n",
      "Average Generator loss: 0.0044715660712187485\n",
      "inception_score: tensor(2.5183)\n",
      "fid: tensor(3.3828) \n",
      "\n"
     ]
    },
    {
     "name": "stderr",
     "output_type": "stream",
     "text": [
      "Lossy conversion from float64 to uint8. Range [0, 1]. Convert image to uint8 prior to saving to suppress this warning.\n"
     ]
    },
    {
     "name": "stdout",
     "output_type": "stream",
     "text": [
      "Epoch: 33/100\n",
      "Average Discriminator loss: -0.012509651476431545\n",
      "Average Generator loss: 0.004399394805199992\n",
      "inception_score: tensor(2.5251)\n",
      "fid: tensor(3.2918) \n",
      "\n"
     ]
    },
    {
     "name": "stderr",
     "output_type": "stream",
     "text": [
      "Lossy conversion from float64 to uint8. Range [0, 1]. Convert image to uint8 prior to saving to suppress this warning.\n"
     ]
    },
    {
     "name": "stdout",
     "output_type": "stream",
     "text": [
      "Epoch: 34/100\n",
      "Average Discriminator loss: -0.012418236526105837\n",
      "Average Generator loss: 0.004334474275649785\n",
      "inception_score: tensor(2.5248)\n",
      "fid: tensor(3.2227) \n",
      "\n"
     ]
    },
    {
     "name": "stderr",
     "output_type": "stream",
     "text": [
      "Lossy conversion from float64 to uint8. Range [0, 1]. Convert image to uint8 prior to saving to suppress this warning.\n"
     ]
    },
    {
     "name": "stdout",
     "output_type": "stream",
     "text": [
      "Epoch: 35/100\n",
      "Average Discriminator loss: -0.012346172298450588\n",
      "Average Generator loss: 0.0042864627125404915\n",
      "inception_score: tensor(2.5307)\n",
      "fid: tensor(3.1355) \n",
      "\n"
     ]
    },
    {
     "name": "stderr",
     "output_type": "stream",
     "text": [
      "Lossy conversion from float64 to uint8. Range [0, 1]. Convert image to uint8 prior to saving to suppress this warning.\n"
     ]
    },
    {
     "name": "stdout",
     "output_type": "stream",
     "text": [
      "Epoch: 36/100\n",
      "Average Discriminator loss: -0.012610765750571483\n",
      "Average Generator loss: 0.004377666216464872\n",
      "inception_score: tensor(2.5507)\n",
      "fid: tensor(3.1729) \n",
      "\n"
     ]
    },
    {
     "name": "stderr",
     "output_type": "stream",
     "text": [
      "Lossy conversion from float64 to uint8. Range [0, 1]. Convert image to uint8 prior to saving to suppress this warning.\n"
     ]
    },
    {
     "name": "stdout",
     "output_type": "stream",
     "text": [
      "Epoch: 37/100\n",
      "Average Discriminator loss: -0.01273349966142286\n",
      "Average Generator loss: 0.00441389958930079\n",
      "inception_score: tensor(2.5595)\n",
      "fid: tensor(3.1136) \n",
      "\n"
     ]
    },
    {
     "name": "stderr",
     "output_type": "stream",
     "text": [
      "Lossy conversion from float64 to uint8. Range [0, 1]. Convert image to uint8 prior to saving to suppress this warning.\n"
     ]
    },
    {
     "name": "stdout",
     "output_type": "stream",
     "text": [
      "Epoch: 38/100\n",
      "Average Discriminator loss: -0.012581284837700463\n",
      "Average Generator loss: 0.0043532142654982755\n",
      "inception_score: tensor(2.5612)\n",
      "fid: tensor(3.0305) \n",
      "\n"
     ]
    },
    {
     "name": "stderr",
     "output_type": "stream",
     "text": [
      "Lossy conversion from float64 to uint8. Range [0, 1]. Convert image to uint8 prior to saving to suppress this warning.\n"
     ]
    },
    {
     "name": "stdout",
     "output_type": "stream",
     "text": [
      "Epoch: 39/100\n",
      "Average Discriminator loss: -0.012468993359848704\n",
      "Average Generator loss: 0.004288871664739301\n",
      "inception_score: tensor(2.5730)\n",
      "fid: tensor(2.9333) \n",
      "\n"
     ]
    },
    {
     "name": "stderr",
     "output_type": "stream",
     "text": [
      "Lossy conversion from float64 to uint8. Range [0, 1]. Convert image to uint8 prior to saving to suppress this warning.\n"
     ]
    },
    {
     "name": "stdout",
     "output_type": "stream",
     "text": [
      "Epoch: 40/100\n",
      "Average Discriminator loss: -0.012364572037490515\n",
      "Average Generator loss: 0.004200378830291794\n",
      "inception_score: tensor(2.5741)\n",
      "fid: tensor(2.8837) \n",
      "\n"
     ]
    },
    {
     "name": "stderr",
     "output_type": "stream",
     "text": [
      "Lossy conversion from float64 to uint8. Range [0, 1]. Convert image to uint8 prior to saving to suppress this warning.\n"
     ]
    },
    {
     "name": "stdout",
     "output_type": "stream",
     "text": [
      "Epoch: 41/100\n",
      "Average Discriminator loss: -0.012287900527699049\n",
      "Average Generator loss: 0.00413770526216063\n",
      "inception_score: tensor(2.5697)\n",
      "fid: tensor(2.8488) \n",
      "\n"
     ]
    },
    {
     "name": "stderr",
     "output_type": "stream",
     "text": [
      "Lossy conversion from float64 to uint8. Range [0, 1]. Convert image to uint8 prior to saving to suppress this warning.\n"
     ]
    },
    {
     "name": "stdout",
     "output_type": "stream",
     "text": [
      "Epoch: 42/100\n",
      "Average Discriminator loss: -0.012206863829052533\n",
      "Average Generator loss: 0.004031167495364634\n",
      "inception_score: tensor(2.5711)\n",
      "fid: tensor(2.7908) \n",
      "\n"
     ]
    },
    {
     "name": "stderr",
     "output_type": "stream",
     "text": [
      "Lossy conversion from float64 to uint8. Range [0, 1]. Convert image to uint8 prior to saving to suppress this warning.\n"
     ]
    },
    {
     "name": "stdout",
     "output_type": "stream",
     "text": [
      "Epoch: 43/100\n",
      "Average Discriminator loss: -0.012007676947487495\n",
      "Average Generator loss: 0.003850686303193595\n",
      "inception_score: tensor(2.5713)\n",
      "fid: tensor(2.7304) \n",
      "\n"
     ]
    },
    {
     "name": "stderr",
     "output_type": "stream",
     "text": [
      "Lossy conversion from float64 to uint8. Range [0, 1]. Convert image to uint8 prior to saving to suppress this warning.\n"
     ]
    },
    {
     "name": "stdout",
     "output_type": "stream",
     "text": [
      "Epoch: 44/100\n",
      "Average Discriminator loss: -0.011857562743538946\n",
      "Average Generator loss: 0.003626518457846949\n",
      "inception_score: tensor(2.5789)\n",
      "fid: tensor(2.6552) \n",
      "\n"
     ]
    },
    {
     "name": "stderr",
     "output_type": "stream",
     "text": [
      "Lossy conversion from float64 to uint8. Range [0, 1]. Convert image to uint8 prior to saving to suppress this warning.\n"
     ]
    },
    {
     "name": "stdout",
     "output_type": "stream",
     "text": [
      "Epoch: 45/100\n",
      "Average Discriminator loss: -0.011668525080343798\n",
      "Average Generator loss: 0.0032754325905376773\n",
      "inception_score: tensor(2.5844)\n",
      "fid: tensor(2.5880) \n",
      "\n"
     ]
    },
    {
     "name": "stderr",
     "output_type": "stream",
     "text": [
      "Lossy conversion from float64 to uint8. Range [0, 1]. Convert image to uint8 prior to saving to suppress this warning.\n"
     ]
    },
    {
     "name": "stdout",
     "output_type": "stream",
     "text": [
      "Epoch: 46/100\n",
      "Average Discriminator loss: -0.011514959591019462\n",
      "Average Generator loss: 0.0030465431441983816\n",
      "inception_score: tensor(2.5848)\n",
      "fid: tensor(2.5344) \n",
      "\n"
     ]
    },
    {
     "name": "stderr",
     "output_type": "stream",
     "text": [
      "Lossy conversion from float64 to uint8. Range [0, 1]. Convert image to uint8 prior to saving to suppress this warning.\n"
     ]
    },
    {
     "name": "stdout",
     "output_type": "stream",
     "text": [
      "Epoch: 47/100\n",
      "Average Discriminator loss: -0.011413025607200526\n",
      "Average Generator loss: 0.0030103672461001597\n",
      "inception_score: tensor(2.5841)\n",
      "fid: tensor(2.4688) \n",
      "\n"
     ]
    },
    {
     "name": "stderr",
     "output_type": "stream",
     "text": [
      "Lossy conversion from float64 to uint8. Range [0, 1]. Convert image to uint8 prior to saving to suppress this warning.\n"
     ]
    },
    {
     "name": "stdout",
     "output_type": "stream",
     "text": [
      "Epoch: 48/100\n",
      "Average Discriminator loss: -0.011330779708641015\n",
      "Average Generator loss: 0.0029800112526952565\n",
      "inception_score: tensor(2.5842)\n",
      "fid: tensor(2.4163) \n",
      "\n"
     ]
    },
    {
     "name": "stderr",
     "output_type": "stream",
     "text": [
      "Lossy conversion from float64 to uint8. Range [0, 1]. Convert image to uint8 prior to saving to suppress this warning.\n"
     ]
    },
    {
     "name": "stdout",
     "output_type": "stream",
     "text": [
      "Epoch: 49/100\n",
      "Average Discriminator loss: -0.011257279134685329\n",
      "Average Generator loss: 0.0029481323824797866\n",
      "inception_score: tensor(2.5830)\n",
      "fid: tensor(2.3797) \n",
      "\n"
     ]
    },
    {
     "name": "stderr",
     "output_type": "stream",
     "text": [
      "Lossy conversion from float64 to uint8. Range [0, 1]. Convert image to uint8 prior to saving to suppress this warning.\n"
     ]
    },
    {
     "name": "stdout",
     "output_type": "stream",
     "text": [
      "Epoch: 50/100\n",
      "Average Discriminator loss: -0.011184592461453733\n",
      "Average Generator loss: 0.0029152305137484526\n",
      "inception_score: tensor(2.5880)\n",
      "fid: tensor(2.3419) \n",
      "\n"
     ]
    },
    {
     "name": "stderr",
     "output_type": "stream",
     "text": [
      "Lossy conversion from float64 to uint8. Range [0, 1]. Convert image to uint8 prior to saving to suppress this warning.\n"
     ]
    },
    {
     "name": "stdout",
     "output_type": "stream",
     "text": [
      "Epoch: 51/100\n",
      "Average Discriminator loss: -0.01110233533564484\n",
      "Average Generator loss: 0.002859407487691683\n",
      "inception_score: tensor(2.5908)\n",
      "fid: tensor(2.2922) \n",
      "\n"
     ]
    },
    {
     "name": "stderr",
     "output_type": "stream",
     "text": [
      "Lossy conversion from float64 to uint8. Range [0, 1]. Convert image to uint8 prior to saving to suppress this warning.\n"
     ]
    },
    {
     "name": "stdout",
     "output_type": "stream",
     "text": [
      "Epoch: 52/100\n",
      "Average Discriminator loss: -0.011033532114350124\n",
      "Average Generator loss: 0.0028220204688374543\n",
      "inception_score: tensor(2.5948)\n",
      "fid: tensor(2.2527) \n",
      "\n"
     ]
    },
    {
     "name": "stderr",
     "output_type": "stream",
     "text": [
      "Lossy conversion from float64 to uint8. Range [0, 1]. Convert image to uint8 prior to saving to suppress this warning.\n"
     ]
    },
    {
     "name": "stdout",
     "output_type": "stream",
     "text": [
      "Epoch: 53/100\n",
      "Average Discriminator loss: -0.010975833545927436\n",
      "Average Generator loss: 0.002789900831932534\n",
      "inception_score: tensor(2.5942)\n",
      "fid: tensor(2.2259) \n",
      "\n"
     ]
    },
    {
     "name": "stderr",
     "output_type": "stream",
     "text": [
      "Lossy conversion from float64 to uint8. Range [0, 1]. Convert image to uint8 prior to saving to suppress this warning.\n"
     ]
    },
    {
     "name": "stdout",
     "output_type": "stream",
     "text": [
      "Epoch: 54/100\n",
      "Average Discriminator loss: -0.010905548811697245\n",
      "Average Generator loss: 0.002739130475330038\n",
      "inception_score: tensor(2.6010)\n",
      "fid: tensor(2.1981) \n",
      "\n"
     ]
    },
    {
     "name": "stderr",
     "output_type": "stream",
     "text": [
      "Lossy conversion from float64 to uint8. Range [0, 1]. Convert image to uint8 prior to saving to suppress this warning.\n"
     ]
    },
    {
     "name": "stdout",
     "output_type": "stream",
     "text": [
      "Epoch: 55/100\n",
      "Average Discriminator loss: -0.01082338484886663\n",
      "Average Generator loss: 0.0026513266939647666\n",
      "inception_score: tensor(2.6047)\n",
      "fid: tensor(2.1805) \n",
      "\n"
     ]
    },
    {
     "name": "stderr",
     "output_type": "stream",
     "text": [
      "Lossy conversion from float64 to uint8. Range [0, 1]. Convert image to uint8 prior to saving to suppress this warning.\n"
     ]
    },
    {
     "name": "stdout",
     "output_type": "stream",
     "text": [
      "Epoch: 56/100\n",
      "Average Discriminator loss: -0.010771450635902359\n",
      "Average Generator loss: 0.0026229494305590024\n",
      "inception_score: tensor(2.6078)\n",
      "fid: tensor(2.1625) \n",
      "\n"
     ]
    },
    {
     "name": "stderr",
     "output_type": "stream",
     "text": [
      "Lossy conversion from float64 to uint8. Range [0, 1]. Convert image to uint8 prior to saving to suppress this warning.\n"
     ]
    },
    {
     "name": "stdout",
     "output_type": "stream",
     "text": [
      "Epoch: 57/100\n",
      "Average Discriminator loss: -0.010723326623978995\n",
      "Average Generator loss: 0.0025912606455677526\n",
      "inception_score: tensor(2.6178)\n",
      "fid: tensor(2.1339) \n",
      "\n"
     ]
    },
    {
     "name": "stderr",
     "output_type": "stream",
     "text": [
      "Lossy conversion from float64 to uint8. Range [0, 1]. Convert image to uint8 prior to saving to suppress this warning.\n"
     ]
    },
    {
     "name": "stdout",
     "output_type": "stream",
     "text": [
      "Epoch: 58/100\n",
      "Average Discriminator loss: -0.01067365087375215\n",
      "Average Generator loss: 0.0025610739879391694\n",
      "inception_score: tensor(2.6210)\n",
      "fid: tensor(2.0996) \n",
      "\n"
     ]
    },
    {
     "name": "stderr",
     "output_type": "stream",
     "text": [
      "Lossy conversion from float64 to uint8. Range [0, 1]. Convert image to uint8 prior to saving to suppress this warning.\n"
     ]
    },
    {
     "name": "stdout",
     "output_type": "stream",
     "text": [
      "Epoch: 59/100\n",
      "Average Discriminator loss: -0.010635401689504427\n",
      "Average Generator loss: 0.0025372111680246594\n",
      "inception_score: tensor(2.6332)\n",
      "fid: tensor(2.0671) \n",
      "\n"
     ]
    },
    {
     "name": "stderr",
     "output_type": "stream",
     "text": [
      "Lossy conversion from float64 to uint8. Range [0, 1]. Convert image to uint8 prior to saving to suppress this warning.\n"
     ]
    },
    {
     "name": "stdout",
     "output_type": "stream",
     "text": [
      "Epoch: 60/100\n",
      "Average Discriminator loss: -0.010592417181791734\n",
      "Average Generator loss: 0.002515815406768402\n",
      "inception_score: tensor(2.6356)\n",
      "fid: tensor(2.0383) \n",
      "\n"
     ]
    },
    {
     "name": "stderr",
     "output_type": "stream",
     "text": [
      "Lossy conversion from float64 to uint8. Range [0, 1]. Convert image to uint8 prior to saving to suppress this warning.\n"
     ]
    },
    {
     "name": "stdout",
     "output_type": "stream",
     "text": [
      "Epoch: 61/100\n",
      "Average Discriminator loss: -0.010557952728899778\n",
      "Average Generator loss: 0.002497341499906292\n",
      "inception_score: tensor(2.6383)\n",
      "fid: tensor(2.0095) \n",
      "\n"
     ]
    },
    {
     "name": "stderr",
     "output_type": "stream",
     "text": [
      "Lossy conversion from float64 to uint8. Range [0, 1]. Convert image to uint8 prior to saving to suppress this warning.\n"
     ]
    },
    {
     "name": "stdout",
     "output_type": "stream",
     "text": [
      "Epoch: 62/100\n",
      "Average Discriminator loss: -0.010519560767007387\n",
      "Average Generator loss: 0.0024789524071917764\n",
      "inception_score: tensor(2.6490)\n",
      "fid: tensor(1.9909) \n",
      "\n"
     ]
    },
    {
     "name": "stderr",
     "output_type": "stream",
     "text": [
      "Lossy conversion from float64 to uint8. Range [0, 1]. Convert image to uint8 prior to saving to suppress this warning.\n"
     ]
    },
    {
     "name": "stdout",
     "output_type": "stream",
     "text": [
      "Epoch: 63/100\n",
      "Average Discriminator loss: -0.010477073598132427\n",
      "Average Generator loss: 0.002448772961164408\n",
      "inception_score: tensor(2.6563)\n",
      "fid: tensor(1.9672) \n",
      "\n"
     ]
    },
    {
     "name": "stderr",
     "output_type": "stream",
     "text": [
      "Lossy conversion from float64 to uint8. Range [0, 1]. Convert image to uint8 prior to saving to suppress this warning.\n"
     ]
    },
    {
     "name": "stdout",
     "output_type": "stream",
     "text": [
      "Epoch: 64/100\n",
      "Average Discriminator loss: -0.010442668296948041\n",
      "Average Generator loss: 0.002421473642965151\n",
      "inception_score: tensor(2.6529)\n",
      "fid: tensor(1.9381) \n",
      "\n"
     ]
    },
    {
     "name": "stderr",
     "output_type": "stream",
     "text": [
      "Lossy conversion from float64 to uint8. Range [0, 1]. Convert image to uint8 prior to saving to suppress this warning.\n"
     ]
    },
    {
     "name": "stdout",
     "output_type": "stream",
     "text": [
      "Epoch: 65/100\n",
      "Average Discriminator loss: -0.010406501742315987\n",
      "Average Generator loss: 0.002396670299949704\n",
      "inception_score: tensor(2.6558)\n",
      "fid: tensor(1.9148) \n",
      "\n"
     ]
    },
    {
     "name": "stderr",
     "output_type": "stream",
     "text": [
      "Lossy conversion from float64 to uint8. Range [0, 1]. Convert image to uint8 prior to saving to suppress this warning.\n"
     ]
    },
    {
     "name": "stdout",
     "output_type": "stream",
     "text": [
      "Epoch: 66/100\n",
      "Average Discriminator loss: -0.010364873055249484\n",
      "Average Generator loss: 0.002370960843642644\n",
      "inception_score: tensor(2.6565)\n",
      "fid: tensor(1.9059) \n",
      "\n"
     ]
    },
    {
     "name": "stderr",
     "output_type": "stream",
     "text": [
      "Lossy conversion from float64 to uint8. Range [0, 1]. Convert image to uint8 prior to saving to suppress this warning.\n"
     ]
    },
    {
     "name": "stdout",
     "output_type": "stream",
     "text": [
      "Epoch: 67/100\n",
      "Average Discriminator loss: -0.010326641661978756\n",
      "Average Generator loss: 0.002343576367972713\n",
      "inception_score: tensor(2.6610)\n",
      "fid: tensor(1.8858) \n",
      "\n"
     ]
    },
    {
     "name": "stderr",
     "output_type": "stream",
     "text": [
      "Lossy conversion from float64 to uint8. Range [0, 1]. Convert image to uint8 prior to saving to suppress this warning.\n"
     ]
    },
    {
     "name": "stdout",
     "output_type": "stream",
     "text": [
      "Epoch: 68/100\n",
      "Average Discriminator loss: -0.010288838642767757\n",
      "Average Generator loss: 0.0023206176754965034\n",
      "inception_score: tensor(2.6647)\n",
      "fid: tensor(1.8526) \n",
      "\n"
     ]
    },
    {
     "name": "stderr",
     "output_type": "stream",
     "text": [
      "Lossy conversion from float64 to uint8. Range [0, 1]. Convert image to uint8 prior to saving to suppress this warning.\n"
     ]
    },
    {
     "name": "stdout",
     "output_type": "stream",
     "text": [
      "Epoch: 69/100\n",
      "Average Discriminator loss: -0.010251524271137524\n",
      "Average Generator loss: 0.002299842830812756\n",
      "inception_score: tensor(2.6695)\n",
      "fid: tensor(1.8310) \n",
      "\n"
     ]
    },
    {
     "name": "stderr",
     "output_type": "stream",
     "text": [
      "Lossy conversion from float64 to uint8. Range [0, 1]. Convert image to uint8 prior to saving to suppress this warning.\n"
     ]
    },
    {
     "name": "stdout",
     "output_type": "stream",
     "text": [
      "Epoch: 70/100\n",
      "Average Discriminator loss: -0.010208605355764124\n",
      "Average Generator loss: 0.002266328237003963\n",
      "inception_score: tensor(2.6717)\n",
      "fid: tensor(1.8034) \n",
      "\n"
     ]
    },
    {
     "name": "stderr",
     "output_type": "stream",
     "text": [
      "Lossy conversion from float64 to uint8. Range [0, 1]. Convert image to uint8 prior to saving to suppress this warning.\n"
     ]
    },
    {
     "name": "stdout",
     "output_type": "stream",
     "text": [
      "Epoch: 71/100\n",
      "Average Discriminator loss: -0.010171046770149631\n",
      "Average Generator loss: 0.0022396087823925884\n",
      "inception_score: tensor(2.6816)\n",
      "fid: tensor(1.7771) \n",
      "\n"
     ]
    },
    {
     "name": "stderr",
     "output_type": "stream",
     "text": [
      "Lossy conversion from float64 to uint8. Range [0, 1]. Convert image to uint8 prior to saving to suppress this warning.\n"
     ]
    },
    {
     "name": "stdout",
     "output_type": "stream",
     "text": [
      "Epoch: 72/100\n",
      "Average Discriminator loss: -0.010137351938731444\n",
      "Average Generator loss: 0.002210552503035372\n",
      "inception_score: tensor(2.6790)\n",
      "fid: tensor(1.7609) \n",
      "\n"
     ]
    },
    {
     "name": "stderr",
     "output_type": "stream",
     "text": [
      "Lossy conversion from float64 to uint8. Range [0, 1]. Convert image to uint8 prior to saving to suppress this warning.\n"
     ]
    },
    {
     "name": "stdout",
     "output_type": "stream",
     "text": [
      "Epoch: 73/100\n",
      "Average Discriminator loss: -0.01009957425986025\n",
      "Average Generator loss: 0.0021803084597949714\n",
      "inception_score: tensor(2.6835)\n",
      "fid: tensor(1.7404) \n",
      "\n"
     ]
    },
    {
     "name": "stderr",
     "output_type": "stream",
     "text": [
      "Lossy conversion from float64 to uint8. Range [0, 1]. Convert image to uint8 prior to saving to suppress this warning.\n"
     ]
    },
    {
     "name": "stdout",
     "output_type": "stream",
     "text": [
      "Epoch: 74/100\n",
      "Average Discriminator loss: -0.010064085968993962\n",
      "Average Generator loss: 0.0021492333007314362\n",
      "inception_score: tensor(2.6883)\n",
      "fid: tensor(1.7241) \n",
      "\n"
     ]
    },
    {
     "name": "stderr",
     "output_type": "stream",
     "text": [
      "Lossy conversion from float64 to uint8. Range [0, 1]. Convert image to uint8 prior to saving to suppress this warning.\n"
     ]
    },
    {
     "name": "stdout",
     "output_type": "stream",
     "text": [
      "Epoch: 75/100\n",
      "Average Discriminator loss: -0.010027860844829763\n",
      "Average Generator loss: 0.0021200152865106328\n",
      "inception_score: tensor(2.6945)\n",
      "fid: tensor(1.6973) \n",
      "\n"
     ]
    },
    {
     "name": "stderr",
     "output_type": "stream",
     "text": [
      "Lossy conversion from float64 to uint8. Range [0, 1]. Convert image to uint8 prior to saving to suppress this warning.\n"
     ]
    },
    {
     "name": "stdout",
     "output_type": "stream",
     "text": [
      "Epoch: 76/100\n",
      "Average Discriminator loss: -0.009991785349258481\n",
      "Average Generator loss: 0.002090641319722444\n",
      "inception_score: tensor(2.6976)\n",
      "fid: tensor(1.6844) \n",
      "\n"
     ]
    },
    {
     "name": "stderr",
     "output_type": "stream",
     "text": [
      "Lossy conversion from float64 to uint8. Range [0, 1]. Convert image to uint8 prior to saving to suppress this warning.\n"
     ]
    },
    {
     "name": "stdout",
     "output_type": "stream",
     "text": [
      "Epoch: 77/100\n",
      "Average Discriminator loss: -0.009958520379194105\n",
      "Average Generator loss: 0.002066835109336573\n",
      "inception_score: tensor(2.7026)\n",
      "fid: tensor(1.6677) \n",
      "\n"
     ]
    },
    {
     "name": "stderr",
     "output_type": "stream",
     "text": [
      "Lossy conversion from float64 to uint8. Range [0, 1]. Convert image to uint8 prior to saving to suppress this warning.\n"
     ]
    },
    {
     "name": "stdout",
     "output_type": "stream",
     "text": [
      "Epoch: 78/100\n",
      "Average Discriminator loss: -0.009924297594173502\n",
      "Average Generator loss: 0.00203313931938414\n",
      "inception_score: tensor(2.7092)\n",
      "fid: tensor(1.6450) \n",
      "\n"
     ]
    },
    {
     "name": "stderr",
     "output_type": "stream",
     "text": [
      "Lossy conversion from float64 to uint8. Range [0, 1]. Convert image to uint8 prior to saving to suppress this warning.\n"
     ]
    },
    {
     "name": "stdout",
     "output_type": "stream",
     "text": [
      "Epoch: 79/100\n",
      "Average Discriminator loss: -0.009890034838766345\n",
      "Average Generator loss: 0.001998081868277542\n",
      "inception_score: tensor(2.7104)\n",
      "fid: tensor(1.6277) \n",
      "\n"
     ]
    },
    {
     "name": "stderr",
     "output_type": "stream",
     "text": [
      "Lossy conversion from float64 to uint8. Range [0, 1]. Convert image to uint8 prior to saving to suppress this warning.\n"
     ]
    },
    {
     "name": "stdout",
     "output_type": "stream",
     "text": [
      "Epoch: 80/100\n",
      "Average Discriminator loss: -0.009859109453651644\n",
      "Average Generator loss: 0.0019661521116504377\n",
      "inception_score: tensor(2.7123)\n",
      "fid: tensor(1.6139) \n",
      "\n"
     ]
    },
    {
     "name": "stderr",
     "output_type": "stream",
     "text": [
      "Lossy conversion from float64 to uint8. Range [0, 1]. Convert image to uint8 prior to saving to suppress this warning.\n"
     ]
    },
    {
     "name": "stdout",
     "output_type": "stream",
     "text": [
      "Epoch: 81/100\n",
      "Average Discriminator loss: -0.009837385786924894\n",
      "Average Generator loss: 0.0019371263442692994\n",
      "inception_score: tensor(2.7137)\n",
      "fid: tensor(1.5976) \n",
      "\n"
     ]
    },
    {
     "name": "stderr",
     "output_type": "stream",
     "text": [
      "Lossy conversion from float64 to uint8. Range [0, 1]. Convert image to uint8 prior to saving to suppress this warning.\n"
     ]
    },
    {
     "name": "stdout",
     "output_type": "stream",
     "text": [
      "Epoch: 82/100\n",
      "Average Discriminator loss: -0.009805238534727366\n",
      "Average Generator loss: 0.0019142854352459154\n",
      "inception_score: tensor(2.7129)\n",
      "fid: tensor(1.5837) \n",
      "\n"
     ]
    },
    {
     "name": "stderr",
     "output_type": "stream",
     "text": [
      "Lossy conversion from float64 to uint8. Range [0, 1]. Convert image to uint8 prior to saving to suppress this warning.\n"
     ]
    },
    {
     "name": "stdout",
     "output_type": "stream",
     "text": [
      "Epoch: 83/100\n",
      "Average Discriminator loss: -0.009778214508478147\n",
      "Average Generator loss: 0.001891486767115031\n",
      "inception_score: tensor(2.7152)\n",
      "fid: tensor(1.5704) \n",
      "\n"
     ]
    },
    {
     "name": "stderr",
     "output_type": "stream",
     "text": [
      "Lossy conversion from float64 to uint8. Range [0, 1]. Convert image to uint8 prior to saving to suppress this warning.\n"
     ]
    },
    {
     "name": "stdout",
     "output_type": "stream",
     "text": [
      "Epoch: 84/100\n",
      "Average Discriminator loss: -0.00974970978957676\n",
      "Average Generator loss: 0.0018641857801217905\n",
      "inception_score: tensor(2.7153)\n",
      "fid: tensor(1.5568) \n",
      "\n"
     ]
    },
    {
     "name": "stderr",
     "output_type": "stream",
     "text": [
      "Lossy conversion from float64 to uint8. Range [0, 1]. Convert image to uint8 prior to saving to suppress this warning.\n"
     ]
    },
    {
     "name": "stdout",
     "output_type": "stream",
     "text": [
      "Epoch: 85/100\n",
      "Average Discriminator loss: -0.0097193819609654\n",
      "Average Generator loss: 0.0018367543632321931\n",
      "inception_score: tensor(2.7200)\n",
      "fid: tensor(1.5429) \n",
      "\n"
     ]
    },
    {
     "name": "stderr",
     "output_type": "stream",
     "text": [
      "Lossy conversion from float64 to uint8. Range [0, 1]. Convert image to uint8 prior to saving to suppress this warning.\n"
     ]
    },
    {
     "name": "stdout",
     "output_type": "stream",
     "text": [
      "Epoch: 86/100\n",
      "Average Discriminator loss: -0.009688752048969936\n",
      "Average Generator loss: 0.0018106995044216946\n",
      "inception_score: tensor(2.7222)\n",
      "fid: tensor(1.5250) \n",
      "\n"
     ]
    },
    {
     "name": "stderr",
     "output_type": "stream",
     "text": [
      "Lossy conversion from float64 to uint8. Range [0, 1]. Convert image to uint8 prior to saving to suppress this warning.\n"
     ]
    },
    {
     "name": "stdout",
     "output_type": "stream",
     "text": [
      "Epoch: 87/100\n",
      "Average Discriminator loss: -0.009659617358182741\n",
      "Average Generator loss: 0.0017842093808678543\n",
      "inception_score: tensor(2.7250)\n",
      "fid: tensor(1.5137) \n",
      "\n"
     ]
    },
    {
     "name": "stderr",
     "output_type": "stream",
     "text": [
      "Lossy conversion from float64 to uint8. Range [0, 1]. Convert image to uint8 prior to saving to suppress this warning.\n"
     ]
    },
    {
     "name": "stdout",
     "output_type": "stream",
     "text": [
      "Epoch: 88/100\n",
      "Average Discriminator loss: -0.009634787868960756\n",
      "Average Generator loss: 0.0017631830936889893\n",
      "inception_score: tensor(2.7302)\n",
      "fid: tensor(1.4935) \n",
      "\n"
     ]
    },
    {
     "name": "stderr",
     "output_type": "stream",
     "text": [
      "Lossy conversion from float64 to uint8. Range [0, 1]. Convert image to uint8 prior to saving to suppress this warning.\n"
     ]
    },
    {
     "name": "stdout",
     "output_type": "stream",
     "text": [
      "Epoch: 89/100\n",
      "Average Discriminator loss: -0.00960566846059222\n",
      "Average Generator loss: 0.001739163782729214\n",
      "inception_score: tensor(2.7327)\n",
      "fid: tensor(1.4830) \n",
      "\n"
     ]
    },
    {
     "name": "stderr",
     "output_type": "stream",
     "text": [
      "Lossy conversion from float64 to uint8. Range [0, 1]. Convert image to uint8 prior to saving to suppress this warning.\n"
     ]
    },
    {
     "name": "stdout",
     "output_type": "stream",
     "text": [
      "Epoch: 90/100\n",
      "Average Discriminator loss: -0.009576792647149321\n",
      "Average Generator loss: 0.001711537949555892\n",
      "inception_score: tensor(2.7357)\n",
      "fid: tensor(1.4693) \n",
      "\n"
     ]
    },
    {
     "name": "stderr",
     "output_type": "stream",
     "text": [
      "Lossy conversion from float64 to uint8. Range [0, 1]. Convert image to uint8 prior to saving to suppress this warning.\n"
     ]
    },
    {
     "name": "stdout",
     "output_type": "stream",
     "text": [
      "Epoch: 91/100\n",
      "Average Discriminator loss: -0.009547364967496379\n",
      "Average Generator loss: 0.0016819767824747139\n",
      "inception_score: tensor(2.7352)\n",
      "fid: tensor(1.4550) \n",
      "\n"
     ]
    },
    {
     "name": "stderr",
     "output_type": "stream",
     "text": [
      "Lossy conversion from float64 to uint8. Range [0, 1]. Convert image to uint8 prior to saving to suppress this warning.\n"
     ]
    },
    {
     "name": "stdout",
     "output_type": "stream",
     "text": [
      "Epoch: 92/100\n",
      "Average Discriminator loss: -0.00952805838515502\n",
      "Average Generator loss: 0.0016618134799435999\n",
      "inception_score: tensor(2.7371)\n",
      "fid: tensor(1.4407) \n",
      "\n"
     ]
    },
    {
     "name": "stderr",
     "output_type": "stream",
     "text": [
      "Lossy conversion from float64 to uint8. Range [0, 1]. Convert image to uint8 prior to saving to suppress this warning.\n"
     ]
    },
    {
     "name": "stdout",
     "output_type": "stream",
     "text": [
      "Epoch: 93/100\n",
      "Average Discriminator loss: -0.009498847425630043\n",
      "Average Generator loss: 0.001637796698584188\n",
      "inception_score: tensor(2.7425)\n",
      "fid: tensor(1.4299) \n",
      "\n"
     ]
    },
    {
     "name": "stderr",
     "output_type": "stream",
     "text": [
      "Lossy conversion from float64 to uint8. Range [0, 1]. Convert image to uint8 prior to saving to suppress this warning.\n"
     ]
    },
    {
     "name": "stdout",
     "output_type": "stream",
     "text": [
      "Epoch: 94/100\n",
      "Average Discriminator loss: -0.00946861547982341\n",
      "Average Generator loss: 0.0016129611077145374\n",
      "inception_score: tensor(2.7463)\n",
      "fid: tensor(1.4187) \n",
      "\n"
     ]
    },
    {
     "name": "stderr",
     "output_type": "stream",
     "text": [
      "Lossy conversion from float64 to uint8. Range [0, 1]. Convert image to uint8 prior to saving to suppress this warning.\n"
     ]
    },
    {
     "name": "stdout",
     "output_type": "stream",
     "text": [
      "Epoch: 95/100\n",
      "Average Discriminator loss: -0.009440691016307883\n",
      "Average Generator loss: 0.001587651228036332\n",
      "inception_score: tensor(2.7543)\n",
      "fid: tensor(1.4068) \n",
      "\n"
     ]
    },
    {
     "name": "stderr",
     "output_type": "stream",
     "text": [
      "Lossy conversion from float64 to uint8. Range [0, 1]. Convert image to uint8 prior to saving to suppress this warning.\n"
     ]
    },
    {
     "name": "stdout",
     "output_type": "stream",
     "text": [
      "Epoch: 96/100\n",
      "Average Discriminator loss: -0.009411200315302957\n",
      "Average Generator loss: 0.0015623893813386399\n",
      "inception_score: tensor(2.7591)\n",
      "fid: tensor(1.3950) \n",
      "\n"
     ]
    },
    {
     "name": "stderr",
     "output_type": "stream",
     "text": [
      "Lossy conversion from float64 to uint8. Range [0, 1]. Convert image to uint8 prior to saving to suppress this warning.\n"
     ]
    },
    {
     "name": "stdout",
     "output_type": "stream",
     "text": [
      "Epoch: 97/100\n",
      "Average Discriminator loss: -0.009384125738063943\n",
      "Average Generator loss: 0.0015399926028218283\n",
      "inception_score: tensor(2.7660)\n",
      "fid: tensor(1.3823) \n",
      "\n"
     ]
    },
    {
     "name": "stderr",
     "output_type": "stream",
     "text": [
      "Lossy conversion from float64 to uint8. Range [0, 1]. Convert image to uint8 prior to saving to suppress this warning.\n"
     ]
    },
    {
     "name": "stdout",
     "output_type": "stream",
     "text": [
      "Epoch: 98/100\n",
      "Average Discriminator loss: -0.009357683144333134\n",
      "Average Generator loss: 0.0015144202507728843\n",
      "inception_score: tensor(2.7654)\n",
      "fid: tensor(1.3777) \n",
      "\n"
     ]
    },
    {
     "name": "stderr",
     "output_type": "stream",
     "text": [
      "Lossy conversion from float64 to uint8. Range [0, 1]. Convert image to uint8 prior to saving to suppress this warning.\n"
     ]
    },
    {
     "name": "stdout",
     "output_type": "stream",
     "text": [
      "Epoch: 99/100\n",
      "Average Discriminator loss: -0.00933012393402094\n",
      "Average Generator loss: 0.0014885061402527264\n",
      "inception_score: tensor(2.7704)\n",
      "fid: tensor(1.3650) \n",
      "\n",
      "Training finished.\n"
     ]
    },
    {
     "data": {
      "image/png": "[encoded data removed]",
      "text/plain": [
       "<Figure size 640x480 with 1 Axes>"
      ]
     },
     "metadata": {},
     "output_type": "display_data"
    },
    {
     "data": {
      "image/png": "[encoded data removed]",
      "text/plain": [
       "<Figure size 640x480 with 1 Axes>"
      ]
     },
     "metadata": {},
     "output_type": "display_data"
    }
   ],
   "source": [
    "wgan.train()"
   ]
  },
  {
   "cell_type": "code",
   "execution_count": 8,
   "metadata": {},
   "outputs": [
    {
     "name": "stdout",
     "output_type": "stream",
     "text": [
      "Start training!\n"
     ]
    },
    {
     "name": "stderr",
     "output_type": "stream",
     "text": [
      "Lossy conversion from float64 to uint8. Range [0, 1]. Convert image to uint8 prior to saving to suppress this warning.\n"
     ]
    },
    {
     "name": "stdout",
     "output_type": "stream",
     "text": [
      "Epoch: 1/100\n",
      "Average Discriminator loss: -1.2645993408603737\n",
      "Average Generator loss: 2.7014681404599776\n",
      "\n",
      "inception_score: tensor(1.6492)\n",
      "fid: tensor(5.6431) \n",
      "\n"
     ]
    },
    {
     "name": "stderr",
     "output_type": "stream",
     "text": [
      "Lossy conversion from float64 to uint8. Range [0, 1]. Convert image to uint8 prior to saving to suppress this warning.\n"
     ]
    },
    {
     "name": "stdout",
     "output_type": "stream",
     "text": [
      "Epoch: 2/100\n",
      "Average Discriminator loss: -1.4519891433286456\n",
      "Average Generator loss: 4.032031191369662\n",
      "\n",
      "inception_score: tensor(1.9697)\n",
      "fid: tensor(5.0604) \n",
      "\n"
     ]
    },
    {
     "name": "stderr",
     "output_type": "stream",
     "text": [
      "Lossy conversion from float64 to uint8. Range [0, 1]. Convert image to uint8 prior to saving to suppress this warning.\n"
     ]
    },
    {
     "name": "stdout",
     "output_type": "stream",
     "text": [
      "Epoch: 3/100\n",
      "Average Discriminator loss: -1.5379039596837873\n",
      "Average Generator loss: 5.293515751950252\n",
      "\n",
      "inception_score: tensor(2.0888)\n",
      "fid: tensor(4.1012) \n",
      "\n"
     ]
    },
    {
     "name": "stderr",
     "output_type": "stream",
     "text": [
      "Lossy conversion from float64 to uint8. Range [0, 1]. Convert image to uint8 prior to saving to suppress this warning.\n"
     ]
    },
    {
     "name": "stdout",
     "output_type": "stream",
     "text": [
      "Epoch: 4/100\n",
      "Average Discriminator loss: -1.6434364448785066\n",
      "Average Generator loss: 6.447783377260352\n",
      "\n",
      "inception_score: tensor(2.0996)\n",
      "fid: tensor(3.6553) \n",
      "\n"
     ]
    },
    {
     "name": "stderr",
     "output_type": "stream",
     "text": [
      "Lossy conversion from float64 to uint8. Range [0, 1]. Convert image to uint8 prior to saving to suppress this warning.\n"
     ]
    },
    {
     "name": "stdout",
     "output_type": "stream",
     "text": [
      "Epoch: 5/100\n",
      "Average Discriminator loss: -1.7700686482306665\n",
      "Average Generator loss: 7.549602029529901\n",
      "\n",
      "inception_score: tensor(2.1750)\n",
      "fid: tensor(3.2133) \n",
      "\n"
     ]
    },
    {
     "name": "stderr",
     "output_type": "stream",
     "text": [
      "Lossy conversion from float64 to uint8. Range [0, 1]. Convert image to uint8 prior to saving to suppress this warning.\n"
     ]
    },
    {
     "name": "stdout",
     "output_type": "stream",
     "text": [
      "Epoch: 6/100\n",
      "Average Discriminator loss: -1.8891183982312711\n",
      "Average Generator loss: 8.42690890795018\n",
      "\n",
      "inception_score: tensor(2.2530)\n",
      "fid: tensor(3.0122) \n",
      "\n"
     ]
    },
    {
     "name": "stderr",
     "output_type": "stream",
     "text": [
      "Lossy conversion from float64 to uint8. Range [0, 1]. Convert image to uint8 prior to saving to suppress this warning.\n"
     ]
    },
    {
     "name": "stdout",
     "output_type": "stream",
     "text": [
      "Epoch: 7/100\n",
      "Average Discriminator loss: -1.9736387558817017\n",
      "Average Generator loss: 9.06317282528122\n",
      "\n",
      "inception_score: tensor(2.3246)\n",
      "fid: tensor(2.9305) \n",
      "\n"
     ]
    },
    {
     "name": "stderr",
     "output_type": "stream",
     "text": [
      "Lossy conversion from float64 to uint8. Range [0, 1]. Convert image to uint8 prior to saving to suppress this warning.\n"
     ]
    },
    {
     "name": "stdout",
     "output_type": "stream",
     "text": [
      "Epoch: 8/100\n",
      "Average Discriminator loss: -2.063741983656282\n",
      "Average Generator loss: 9.57106890832671\n",
      "\n",
      "inception_score: tensor(2.3362)\n",
      "fid: tensor(2.8011) \n",
      "\n"
     ]
    },
    {
     "name": "stderr",
     "output_type": "stream",
     "text": [
      "Lossy conversion from float64 to uint8. Range [0, 1]. Convert image to uint8 prior to saving to suppress this warning.\n"
     ]
    },
    {
     "name": "stdout",
     "output_type": "stream",
     "text": [
      "Epoch: 9/100\n",
      "Average Discriminator loss: -2.1021511921953633\n",
      "Average Generator loss: 9.856389792365396\n",
      "\n",
      "inception_score: tensor(2.3562)\n",
      "fid: tensor(2.8178) \n",
      "\n"
     ]
    },
    {
     "name": "stderr",
     "output_type": "stream",
     "text": [
      "Lossy conversion from float64 to uint8. Range [0, 1]. Convert image to uint8 prior to saving to suppress this warning.\n"
     ]
    },
    {
     "name": "stdout",
     "output_type": "stream",
     "text": [
      "Epoch: 10/100\n",
      "Average Discriminator loss: -2.1563697724782216\n",
      "Average Generator loss: 10.118897156360058\n",
      "\n",
      "inception_score: tensor(2.3751)\n",
      "fid: tensor(2.6782) \n",
      "\n"
     ]
    },
    {
     "name": "stderr",
     "output_type": "stream",
     "text": [
      "Lossy conversion from float64 to uint8. Range [0, 1]. Convert image to uint8 prior to saving to suppress this warning.\n"
     ]
    },
    {
     "name": "stdout",
     "output_type": "stream",
     "text": [
      "Epoch: 11/100\n",
      "Average Discriminator loss: -2.2366334029716506\n",
      "Average Generator loss: 10.42785934813859\n",
      "\n",
      "inception_score: tensor(2.4041)\n",
      "fid: tensor(2.5069) \n",
      "\n"
     ]
    },
    {
     "name": "stderr",
     "output_type": "stream",
     "text": [
      "Lossy conversion from float64 to uint8. Range [0, 1]. Convert image to uint8 prior to saving to suppress this warning.\n"
     ]
    },
    {
     "name": "stdout",
     "output_type": "stream",
     "text": [
      "Epoch: 12/100\n",
      "Average Discriminator loss: -2.3035027825593963\n",
      "Average Generator loss: 10.688642456092769\n",
      "\n",
      "inception_score: tensor(2.4620)\n",
      "fid: tensor(2.4177) \n",
      "\n"
     ]
    },
    {
     "name": "stderr",
     "output_type": "stream",
     "text": [
      "Lossy conversion from float64 to uint8. Range [0, 1]. Convert image to uint8 prior to saving to suppress this warning.\n"
     ]
    },
    {
     "name": "stdout",
     "output_type": "stream",
     "text": [
      "Epoch: 13/100\n",
      "Average Discriminator loss: -2.3746872091384814\n",
      "Average Generator loss: 10.953095958650817\n",
      "\n",
      "inception_score: tensor(2.5010)\n",
      "fid: tensor(2.3453) \n",
      "\n"
     ]
    },
    {
     "name": "stderr",
     "output_type": "stream",
     "text": [
      "Lossy conversion from float64 to uint8. Range [0, 1]. Convert image to uint8 prior to saving to suppress this warning.\n"
     ]
    },
    {
     "name": "stdout",
     "output_type": "stream",
     "text": [
      "Epoch: 14/100\n",
      "Average Discriminator loss: -2.4274213122205652\n",
      "Average Generator loss: 11.197738617426637\n",
      "\n",
      "inception_score: tensor(2.5268)\n",
      "fid: tensor(2.2359) \n",
      "\n"
     ]
    },
    {
     "name": "stderr",
     "output_type": "stream",
     "text": [
      "Lossy conversion from float64 to uint8. Range [0, 1]. Convert image to uint8 prior to saving to suppress this warning.\n"
     ]
    },
    {
     "name": "stdout",
     "output_type": "stream",
     "text": [
      "Epoch: 15/100\n",
      "Average Discriminator loss: -2.467581081824202\n",
      "Average Generator loss: 11.442858486183178\n",
      "\n",
      "inception_score: tensor(2.5715)\n",
      "fid: tensor(2.1448) \n",
      "\n"
     ]
    },
    {
     "name": "stderr",
     "output_type": "stream",
     "text": [
      "Lossy conversion from float64 to uint8. Range [0, 1]. Convert image to uint8 prior to saving to suppress this warning.\n"
     ]
    },
    {
     "name": "stdout",
     "output_type": "stream",
     "text": [
      "Epoch: 16/100\n",
      "Average Discriminator loss: -2.5391930558320244\n",
      "Average Generator loss: 11.70713691268928\n",
      "\n",
      "inception_score: tensor(2.5944)\n",
      "fid: tensor(2.0524) \n",
      "\n"
     ]
    },
    {
     "name": "stderr",
     "output_type": "stream",
     "text": [
      "Lossy conversion from float64 to uint8. Range [0, 1]. Convert image to uint8 prior to saving to suppress this warning.\n"
     ]
    },
    {
     "name": "stdout",
     "output_type": "stream",
     "text": [
      "Epoch: 17/100\n",
      "Average Discriminator loss: -2.6072180673689336\n",
      "Average Generator loss: 11.98461149980175\n",
      "\n",
      "inception_score: tensor(2.6101)\n",
      "fid: tensor(2.0148) \n",
      "\n"
     ]
    },
    {
     "name": "stderr",
     "output_type": "stream",
     "text": [
      "Lossy conversion from float64 to uint8. Range [0, 1]. Convert image to uint8 prior to saving to suppress this warning.\n"
     ]
    },
    {
     "name": "stdout",
     "output_type": "stream",
     "text": [
      "Epoch: 18/100\n",
      "Average Discriminator loss: -2.6641446949968492\n",
      "Average Generator loss: 12.240827728275136\n",
      "\n",
      "inception_score: tensor(2.6198)\n",
      "fid: tensor(1.9330) \n",
      "\n"
     ]
    },
    {
     "name": "stderr",
     "output_type": "stream",
     "text": [
      "Lossy conversion from float64 to uint8. Range [0, 1]. Convert image to uint8 prior to saving to suppress this warning.\n"
     ]
    },
    {
     "name": "stdout",
     "output_type": "stream",
     "text": [
      "Epoch: 19/100\n",
      "Average Discriminator loss: -2.7230951485611175\n",
      "Average Generator loss: 12.52963453948538\n",
      "\n",
      "inception_score: tensor(2.6369)\n",
      "fid: tensor(1.8634) \n",
      "\n"
     ]
    },
    {
     "name": "stderr",
     "output_type": "stream",
     "text": [
      "Lossy conversion from float64 to uint8. Range [0, 1]. Convert image to uint8 prior to saving to suppress this warning.\n"
     ]
    },
    {
     "name": "stdout",
     "output_type": "stream",
     "text": [
      "Epoch: 20/100\n",
      "Average Discriminator loss: -2.7808138588688167\n",
      "Average Generator loss: 12.816048087284733\n",
      "\n",
      "inception_score: tensor(2.6528)\n",
      "fid: tensor(1.8289) \n",
      "\n"
     ]
    },
    {
     "name": "stderr",
     "output_type": "stream",
     "text": [
      "Lossy conversion from float64 to uint8. Range [0, 1]. Convert image to uint8 prior to saving to suppress this warning.\n"
     ]
    },
    {
     "name": "stdout",
     "output_type": "stream",
     "text": [
      "Epoch: 21/100\n",
      "Average Discriminator loss: -2.8208154223601176\n",
      "Average Generator loss: 13.06617664627649\n",
      "\n",
      "inception_score: tensor(2.6536)\n",
      "fid: tensor(1.7930) \n",
      "\n"
     ]
    },
    {
     "name": "stderr",
     "output_type": "stream",
     "text": [
      "Lossy conversion from float64 to uint8. Range [0, 1]. Convert image to uint8 prior to saving to suppress this warning.\n"
     ]
    },
    {
     "name": "stdout",
     "output_type": "stream",
     "text": [
      "Epoch: 22/100\n",
      "Average Discriminator loss: -2.766433138730838\n",
      "Average Generator loss: 13.155335901839125\n",
      "\n",
      "inception_score: tensor(2.6666)\n",
      "fid: tensor(1.7534) \n",
      "\n"
     ]
    },
    {
     "name": "stderr",
     "output_type": "stream",
     "text": [
      "Lossy conversion from float64 to uint8. Range [0, 1]. Convert image to uint8 prior to saving to suppress this warning.\n"
     ]
    },
    {
     "name": "stdout",
     "output_type": "stream",
     "text": [
      "Epoch: 23/100\n",
      "Average Discriminator loss: -2.79991332222339\n",
      "Average Generator loss: 13.271619351603581\n",
      "\n",
      "inception_score: tensor(2.6819)\n",
      "fid: tensor(1.7139) \n",
      "\n"
     ]
    },
    {
     "name": "stderr",
     "output_type": "stream",
     "text": [
      "Lossy conversion from float64 to uint8. Range [0, 1]. Convert image to uint8 prior to saving to suppress this warning.\n"
     ]
    },
    {
     "name": "stdout",
     "output_type": "stream",
     "text": [
      "Epoch: 24/100\n",
      "Average Discriminator loss: -2.8309271231171294\n",
      "Average Generator loss: 13.39457891925246\n",
      "\n",
      "inception_score: tensor(2.7194)\n",
      "fid: tensor(1.6404) \n",
      "\n"
     ]
    },
    {
     "name": "stderr",
     "output_type": "stream",
     "text": [
      "Lossy conversion from float64 to uint8. Range [0, 1]. Convert image to uint8 prior to saving to suppress this warning.\n"
     ]
    },
    {
     "name": "stdout",
     "output_type": "stream",
     "text": [
      "Epoch: 25/100\n",
      "Average Discriminator loss: -2.8311571905021675\n",
      "Average Generator loss: 13.459630749095709\n",
      "\n",
      "inception_score: tensor(2.7392)\n",
      "fid: tensor(1.6061) \n",
      "\n"
     ]
    },
    {
     "name": "stderr",
     "output_type": "stream",
     "text": [
      "Lossy conversion from float64 to uint8. Range [0, 1]. Convert image to uint8 prior to saving to suppress this warning.\n"
     ]
    },
    {
     "name": "stdout",
     "output_type": "stream",
     "text": [
      "Epoch: 26/100\n",
      "Average Discriminator loss: -2.7404926627276454\n",
      "Average Generator loss: 13.355750090323198\n",
      "\n",
      "inception_score: tensor(2.7515)\n",
      "fid: tensor(1.6278) \n",
      "\n"
     ]
    },
    {
     "name": "stderr",
     "output_type": "stream",
     "text": [
      "Lossy conversion from float64 to uint8. Range [0, 1]. Convert image to uint8 prior to saving to suppress this warning.\n"
     ]
    },
    {
     "name": "stdout",
     "output_type": "stream",
     "text": [
      "Epoch: 27/100\n",
      "Average Discriminator loss: -2.7073528287124775\n",
      "Average Generator loss: 13.301228549794876\n",
      "\n",
      "inception_score: tensor(2.7665)\n",
      "fid: tensor(1.6051) \n",
      "\n"
     ]
    },
    {
     "name": "stderr",
     "output_type": "stream",
     "text": [
      "Lossy conversion from float64 to uint8. Range [0, 1]. Convert image to uint8 prior to saving to suppress this warning.\n"
     ]
    },
    {
     "name": "stdout",
     "output_type": "stream",
     "text": [
      "Epoch: 28/100\n",
      "Average Discriminator loss: -2.6940658738970544\n",
      "Average Generator loss: 13.296913995240361\n",
      "\n",
      "inception_score: tensor(2.7757)\n",
      "fid: tensor(1.6265) \n",
      "\n"
     ]
    },
    {
     "name": "stderr",
     "output_type": "stream",
     "text": [
      "Lossy conversion from float64 to uint8. Range [0, 1]. Convert image to uint8 prior to saving to suppress this warning.\n"
     ]
    },
    {
     "name": "stdout",
     "output_type": "stream",
     "text": [
      "Epoch: 29/100\n",
      "Average Discriminator loss: -2.668494547710274\n",
      "Average Generator loss: 13.314808349124263\n",
      "\n",
      "inception_score: tensor(2.7908)\n",
      "fid: tensor(1.6086) \n",
      "\n"
     ]
    },
    {
     "name": "stderr",
     "output_type": "stream",
     "text": [
      "Lossy conversion from float64 to uint8. Range [0, 1]. Convert image to uint8 prior to saving to suppress this warning.\n"
     ]
    },
    {
     "name": "stdout",
     "output_type": "stream",
     "text": [
      "Epoch: 30/100\n",
      "Average Discriminator loss: -2.679662064405986\n",
      "Average Generator loss: 13.394847031173288\n",
      "\n",
      "inception_score: tensor(2.7926)\n",
      "fid: tensor(1.5899) \n",
      "\n"
     ]
    },
    {
     "name": "stderr",
     "output_type": "stream",
     "text": [
      "Lossy conversion from float64 to uint8. Range [0, 1]. Convert image to uint8 prior to saving to suppress this warning.\n"
     ]
    },
    {
     "name": "stdout",
     "output_type": "stream",
     "text": [
      "Epoch: 31/100\n",
      "Average Discriminator loss: -2.6949512778089604\n",
      "Average Generator loss: 13.481129130658234\n",
      "\n",
      "inception_score: tensor(2.8118)\n",
      "fid: tensor(1.5430) \n",
      "\n"
     ]
    },
    {
     "name": "stderr",
     "output_type": "stream",
     "text": [
      "Lossy conversion from float64 to uint8. Range [0, 1]. Convert image to uint8 prior to saving to suppress this warning.\n"
     ]
    },
    {
     "name": "stdout",
     "output_type": "stream",
     "text": [
      "Epoch: 32/100\n",
      "Average Discriminator loss: -2.7180388521239647\n",
      "Average Generator loss: 13.588193577493374\n",
      "\n",
      "inception_score: tensor(2.8178)\n",
      "fid: tensor(1.5124) \n",
      "\n"
     ]
    },
    {
     "name": "stderr",
     "output_type": "stream",
     "text": [
      "Lossy conversion from float64 to uint8. Range [0, 1]. Convert image to uint8 prior to saving to suppress this warning.\n"
     ]
    },
    {
     "name": "stdout",
     "output_type": "stream",
     "text": [
      "Epoch: 33/100\n",
      "Average Discriminator loss: -2.748975361838847\n",
      "Average Generator loss: 13.718543845404694\n",
      "\n",
      "inception_score: tensor(2.8448)\n",
      "fid: tensor(1.4651) \n",
      "\n"
     ]
    },
    {
     "name": "stderr",
     "output_type": "stream",
     "text": [
      "Lossy conversion from float64 to uint8. Range [0, 1]. Convert image to uint8 prior to saving to suppress this warning.\n"
     ]
    },
    {
     "name": "stdout",
     "output_type": "stream",
     "text": [
      "Epoch: 34/100\n",
      "Average Discriminator loss: -2.707487998381721\n",
      "Average Generator loss: 13.75947223353687\n",
      "\n",
      "inception_score: tensor(2.8535)\n",
      "fid: tensor(1.4446) \n",
      "\n"
     ]
    },
    {
     "name": "stderr",
     "output_type": "stream",
     "text": [
      "Lossy conversion from float64 to uint8. Range [0, 1]. Convert image to uint8 prior to saving to suppress this warning.\n"
     ]
    },
    {
     "name": "stdout",
     "output_type": "stream",
     "text": [
      "Epoch: 35/100\n",
      "Average Discriminator loss: -2.6912948656980724\n",
      "Average Generator loss: 13.73851252269723\n",
      "\n",
      "inception_score: tensor(2.8635)\n",
      "fid: tensor(1.4232) \n",
      "\n"
     ]
    },
    {
     "name": "stderr",
     "output_type": "stream",
     "text": [
      "Lossy conversion from float64 to uint8. Range [0, 1]. Convert image to uint8 prior to saving to suppress this warning.\n"
     ]
    },
    {
     "name": "stdout",
     "output_type": "stream",
     "text": [
      "Epoch: 36/100\n",
      "Average Discriminator loss: -2.698254504933903\n",
      "Average Generator loss: 13.776465790261359\n",
      "\n",
      "inception_score: tensor(2.8659)\n",
      "fid: tensor(1.4220) \n",
      "\n"
     ]
    },
    {
     "name": "stderr",
     "output_type": "stream",
     "text": [
      "Lossy conversion from float64 to uint8. Range [0, 1]. Convert image to uint8 prior to saving to suppress this warning.\n"
     ]
    },
    {
     "name": "stdout",
     "output_type": "stream",
     "text": [
      "Epoch: 37/100\n",
      "Average Discriminator loss: -2.7135953548795473\n",
      "Average Generator loss: 13.85068484770595\n",
      "\n",
      "inception_score: tensor(2.8649)\n",
      "fid: tensor(1.3940) \n",
      "\n"
     ]
    },
    {
     "name": "stderr",
     "output_type": "stream",
     "text": [
      "Lossy conversion from float64 to uint8. Range [0, 1]. Convert image to uint8 prior to saving to suppress this warning.\n"
     ]
    },
    {
     "name": "stdout",
     "output_type": "stream",
     "text": [
      "Epoch: 38/100\n",
      "Average Discriminator loss: -2.7205222608894237\n",
      "Average Generator loss: 13.905719995855602\n",
      "\n",
      "inception_score: tensor(2.8689)\n",
      "fid: tensor(1.3862) \n",
      "\n"
     ]
    },
    {
     "name": "stderr",
     "output_type": "stream",
     "text": [
      "Lossy conversion from float64 to uint8. Range [0, 1]. Convert image to uint8 prior to saving to suppress this warning.\n"
     ]
    },
    {
     "name": "stdout",
     "output_type": "stream",
     "text": [
      "Epoch: 39/100\n",
      "Average Discriminator loss: -2.704504477383384\n",
      "Average Generator loss: 13.964798955870137\n",
      "\n",
      "inception_score: tensor(2.8808)\n",
      "fid: tensor(1.3769) \n",
      "\n"
     ]
    },
    {
     "name": "stderr",
     "output_type": "stream",
     "text": [
      "Lossy conversion from float64 to uint8. Range [0, 1]. Convert image to uint8 prior to saving to suppress this warning.\n"
     ]
    },
    {
     "name": "stdout",
     "output_type": "stream",
     "text": [
      "Epoch: 40/100\n",
      "Average Discriminator loss: -2.7209442228129586\n",
      "Average Generator loss: 14.050214945080763\n",
      "\n",
      "inception_score: tensor(2.8928)\n",
      "fid: tensor(1.3478) \n",
      "\n"
     ]
    },
    {
     "name": "stderr",
     "output_type": "stream",
     "text": [
      "Lossy conversion from float64 to uint8. Range [0, 1]. Convert image to uint8 prior to saving to suppress this warning.\n"
     ]
    },
    {
     "name": "stdout",
     "output_type": "stream",
     "text": [
      "Epoch: 41/100\n",
      "Average Discriminator loss: -2.71982073142287\n",
      "Average Generator loss: 14.125123470439211\n",
      "\n",
      "inception_score: tensor(2.8860)\n",
      "fid: tensor(1.3339) \n",
      "\n"
     ]
    },
    {
     "name": "stderr",
     "output_type": "stream",
     "text": [
      "Lossy conversion from float64 to uint8. Range [0, 1]. Convert image to uint8 prior to saving to suppress this warning.\n"
     ]
    },
    {
     "name": "stdout",
     "output_type": "stream",
     "text": [
      "Epoch: 42/100\n",
      "Average Discriminator loss: -2.7186872314696426\n",
      "Average Generator loss: 14.190453385872829\n",
      "\n",
      "inception_score: tensor(2.8894)\n",
      "fid: tensor(1.3215) \n",
      "\n"
     ]
    },
    {
     "name": "stderr",
     "output_type": "stream",
     "text": [
      "Lossy conversion from float64 to uint8. Range [0, 1]. Convert image to uint8 prior to saving to suppress this warning.\n"
     ]
    },
    {
     "name": "stdout",
     "output_type": "stream",
     "text": [
      "Epoch: 43/100\n",
      "Average Discriminator loss: -2.74425608040565\n",
      "Average Generator loss: 14.248465120219267\n",
      "\n",
      "inception_score: tensor(2.8843)\n",
      "fid: tensor(1.2972) \n",
      "\n"
     ]
    },
    {
     "name": "stderr",
     "output_type": "stream",
     "text": [
      "Lossy conversion from float64 to uint8. Range [0, 1]. Convert image to uint8 prior to saving to suppress this warning.\n"
     ]
    },
    {
     "name": "stdout",
     "output_type": "stream",
     "text": [
      "Epoch: 44/100\n",
      "Average Discriminator loss: -2.7366980657392315\n",
      "Average Generator loss: 14.289212495466316\n",
      "\n",
      "inception_score: tensor(2.8900)\n",
      "fid: tensor(1.2843) \n",
      "\n"
     ]
    },
    {
     "name": "stderr",
     "output_type": "stream",
     "text": [
      "Lossy conversion from float64 to uint8. Range [0, 1]. Convert image to uint8 prior to saving to suppress this warning.\n"
     ]
    },
    {
     "name": "stdout",
     "output_type": "stream",
     "text": [
      "Epoch: 45/100\n",
      "Average Discriminator loss: -2.7378652172638076\n",
      "Average Generator loss: 14.308491419960461\n",
      "\n",
      "inception_score: tensor(2.8940)\n",
      "fid: tensor(1.2593) \n",
      "\n"
     ]
    },
    {
     "name": "stderr",
     "output_type": "stream",
     "text": [
      "Lossy conversion from float64 to uint8. Range [0, 1]. Convert image to uint8 prior to saving to suppress this warning.\n"
     ]
    },
    {
     "name": "stdout",
     "output_type": "stream",
     "text": [
      "Epoch: 46/100\n",
      "Average Discriminator loss: -2.749607690094234\n",
      "Average Generator loss: 14.35830600168909\n",
      "\n",
      "inception_score: tensor(2.9022)\n",
      "fid: tensor(1.2446) \n",
      "\n"
     ]
    },
    {
     "name": "stderr",
     "output_type": "stream",
     "text": [
      "Lossy conversion from float64 to uint8. Range [0, 1]. Convert image to uint8 prior to saving to suppress this warning.\n"
     ]
    },
    {
     "name": "stdout",
     "output_type": "stream",
     "text": [
      "Epoch: 47/100\n",
      "Average Discriminator loss: -2.7305871796940564\n",
      "Average Generator loss: 14.358133832577044\n",
      "\n",
      "inception_score: tensor(2.9058)\n",
      "fid: tensor(1.2215) \n",
      "\n"
     ]
    },
    {
     "name": "stderr",
     "output_type": "stream",
     "text": [
      "Lossy conversion from float64 to uint8. Range [0, 1]. Convert image to uint8 prior to saving to suppress this warning.\n"
     ]
    },
    {
     "name": "stdout",
     "output_type": "stream",
     "text": [
      "Epoch: 48/100\n",
      "Average Discriminator loss: -2.7075314347348156\n",
      "Average Generator loss: 14.329659487602388\n",
      "\n",
      "inception_score: tensor(2.9041)\n",
      "fid: tensor(1.2184) \n",
      "\n"
     ]
    },
    {
     "name": "stderr",
     "output_type": "stream",
     "text": [
      "Lossy conversion from float64 to uint8. Range [0, 1]. Convert image to uint8 prior to saving to suppress this warning.\n"
     ]
    },
    {
     "name": "stdout",
     "output_type": "stream",
     "text": [
      "Epoch: 49/100\n",
      "Average Discriminator loss: -2.7106758566514295\n",
      "Average Generator loss: 14.33828745160519\n",
      "\n",
      "inception_score: tensor(2.9117)\n",
      "fid: tensor(1.2205) \n",
      "\n"
     ]
    },
    {
     "name": "stderr",
     "output_type": "stream",
     "text": [
      "Lossy conversion from float64 to uint8. Range [0, 1]. Convert image to uint8 prior to saving to suppress this warning.\n"
     ]
    },
    {
     "name": "stdout",
     "output_type": "stream",
     "text": [
      "Epoch: 50/100\n",
      "Average Discriminator loss: -2.7042230173986024\n",
      "Average Generator loss: 14.367490969342299\n",
      "\n",
      "inception_score: tensor(2.9177)\n",
      "fid: tensor(1.2063) \n",
      "\n"
     ]
    },
    {
     "name": "stderr",
     "output_type": "stream",
     "text": [
      "Lossy conversion from float64 to uint8. Range [0, 1]. Convert image to uint8 prior to saving to suppress this warning.\n"
     ]
    },
    {
     "name": "stdout",
     "output_type": "stream",
     "text": [
      "Epoch: 51/100\n",
      "Average Discriminator loss: -2.707515735604579\n",
      "Average Generator loss: 14.411670545793138\n",
      "\n",
      "inception_score: tensor(2.9260)\n",
      "fid: tensor(1.1756) \n",
      "\n"
     ]
    },
    {
     "name": "stderr",
     "output_type": "stream",
     "text": [
      "Lossy conversion from float64 to uint8. Range [0, 1]. Convert image to uint8 prior to saving to suppress this warning.\n"
     ]
    },
    {
     "name": "stdout",
     "output_type": "stream",
     "text": [
      "Epoch: 52/100\n",
      "Average Discriminator loss: -2.708897293328778\n",
      "Average Generator loss: 14.445401669985062\n",
      "\n",
      "inception_score: tensor(2.9265)\n",
      "fid: tensor(1.1567) \n",
      "\n"
     ]
    },
    {
     "name": "stderr",
     "output_type": "stream",
     "text": [
      "Lossy conversion from float64 to uint8. Range [0, 1]. Convert image to uint8 prior to saving to suppress this warning.\n"
     ]
    },
    {
     "name": "stdout",
     "output_type": "stream",
     "text": [
      "Epoch: 53/100\n",
      "Average Discriminator loss: -2.72285491754569\n",
      "Average Generator loss: 14.498380426077752\n",
      "\n",
      "inception_score: tensor(2.9374)\n",
      "fid: tensor(1.1392) \n",
      "\n"
     ]
    },
    {
     "name": "stderr",
     "output_type": "stream",
     "text": [
      "Lossy conversion from float64 to uint8. Range [0, 1]. Convert image to uint8 prior to saving to suppress this warning.\n"
     ]
    },
    {
     "name": "stdout",
     "output_type": "stream",
     "text": [
      "Epoch: 54/100\n",
      "Average Discriminator loss: -2.739129503226838\n",
      "Average Generator loss: 14.540473532610894\n",
      "\n",
      "inception_score: tensor(2.9341)\n",
      "fid: tensor(1.1327) \n",
      "\n"
     ]
    },
    {
     "name": "stderr",
     "output_type": "stream",
     "text": [
      "Lossy conversion from float64 to uint8. Range [0, 1]. Convert image to uint8 prior to saving to suppress this warning.\n"
     ]
    },
    {
     "name": "stdout",
     "output_type": "stream",
     "text": [
      "Epoch: 55/100\n",
      "Average Discriminator loss: -2.7504524806355906\n",
      "Average Generator loss: 14.586101808216606\n",
      "\n",
      "inception_score: tensor(2.9414)\n",
      "fid: tensor(1.1192) \n",
      "\n"
     ]
    },
    {
     "name": "stderr",
     "output_type": "stream",
     "text": [
      "Lossy conversion from float64 to uint8. Range [0, 1]. Convert image to uint8 prior to saving to suppress this warning.\n"
     ]
    },
    {
     "name": "stdout",
     "output_type": "stream",
     "text": [
      "Epoch: 56/100\n",
      "Average Discriminator loss: -2.771423816392855\n",
      "Average Generator loss: 14.617645670666663\n",
      "\n",
      "inception_score: tensor(2.9448)\n",
      "fid: tensor(1.0976) \n",
      "\n"
     ]
    },
    {
     "name": "stderr",
     "output_type": "stream",
     "text": [
      "Lossy conversion from float64 to uint8. Range [0, 1]. Convert image to uint8 prior to saving to suppress this warning.\n"
     ]
    },
    {
     "name": "stdout",
     "output_type": "stream",
     "text": [
      "Epoch: 57/100\n",
      "Average Discriminator loss: -2.7931427639826136\n",
      "Average Generator loss: 14.645448754804256\n",
      "\n",
      "inception_score: tensor(2.9505)\n",
      "fid: tensor(1.1026) \n",
      "\n"
     ]
    },
    {
     "name": "stderr",
     "output_type": "stream",
     "text": [
      "Lossy conversion from float64 to uint8. Range [0, 1]. Convert image to uint8 prior to saving to suppress this warning.\n"
     ]
    },
    {
     "name": "stdout",
     "output_type": "stream",
     "text": [
      "Epoch: 58/100\n",
      "Average Discriminator loss: -2.7466989236381103\n",
      "Average Generator loss: 14.596895122266549\n",
      "\n",
      "inception_score: tensor(2.9505)\n",
      "fid: tensor(1.0968) \n",
      "\n"
     ]
    },
    {
     "name": "stderr",
     "output_type": "stream",
     "text": [
      "Lossy conversion from float64 to uint8. Range [0, 1]. Convert image to uint8 prior to saving to suppress this warning.\n"
     ]
    },
    {
     "name": "stdout",
     "output_type": "stream",
     "text": [
      "Epoch: 59/100\n",
      "Average Discriminator loss: -2.706795801620474\n",
      "Average Generator loss: 14.596845120745268\n",
      "\n",
      "inception_score: tensor(2.9606)\n",
      "fid: tensor(1.0756) \n",
      "\n"
     ]
    },
    {
     "name": "stderr",
     "output_type": "stream",
     "text": [
      "Lossy conversion from float64 to uint8. Range [0, 1]. Convert image to uint8 prior to saving to suppress this warning.\n"
     ]
    },
    {
     "name": "stdout",
     "output_type": "stream",
     "text": [
      "Epoch: 60/100\n",
      "Average Discriminator loss: -2.6771416197684155\n",
      "Average Generator loss: 14.574850210238598\n",
      "\n",
      "inception_score: tensor(2.9604)\n",
      "fid: tensor(1.0647) \n",
      "\n"
     ]
    },
    {
     "name": "stderr",
     "output_type": "stream",
     "text": [
      "Lossy conversion from float64 to uint8. Range [0, 1]. Convert image to uint8 prior to saving to suppress this warning.\n"
     ]
    },
    {
     "name": "stdout",
     "output_type": "stream",
     "text": [
      "Epoch: 61/100\n",
      "Average Discriminator loss: -2.658412845184601\n",
      "Average Generator loss: 14.535963469036565\n",
      "\n",
      "inception_score: tensor(2.9669)\n",
      "fid: tensor(1.0572) \n",
      "\n"
     ]
    },
    {
     "name": "stderr",
     "output_type": "stream",
     "text": [
      "Lossy conversion from float64 to uint8. Range [0, 1]. Convert image to uint8 prior to saving to suppress this warning.\n"
     ]
    },
    {
     "name": "stdout",
     "output_type": "stream",
     "text": [
      "Epoch: 62/100\n",
      "Average Discriminator loss: -2.6491519946643867\n",
      "Average Generator loss: 14.478389247644898\n",
      "\n",
      "inception_score: tensor(2.9715)\n",
      "fid: tensor(1.0415) \n",
      "\n"
     ]
    },
    {
     "name": "stderr",
     "output_type": "stream",
     "text": [
      "Lossy conversion from float64 to uint8. Range [0, 1]. Convert image to uint8 prior to saving to suppress this warning.\n"
     ]
    },
    {
     "name": "stdout",
     "output_type": "stream",
     "text": [
      "Epoch: 63/100\n",
      "Average Discriminator loss: -2.644556674033011\n",
      "Average Generator loss: 14.419333467817205\n",
      "\n",
      "inception_score: tensor(2.9788)\n",
      "fid: tensor(1.0299) \n",
      "\n"
     ]
    },
    {
     "name": "stderr",
     "output_type": "stream",
     "text": [
      "Lossy conversion from float64 to uint8. Range [0, 1]. Convert image to uint8 prior to saving to suppress this warning.\n"
     ]
    },
    {
     "name": "stdout",
     "output_type": "stream",
     "text": [
      "Epoch: 64/100\n",
      "Average Discriminator loss: -2.647361792351055\n",
      "Average Generator loss: 14.405606513481754\n",
      "\n",
      "inception_score: tensor(2.9826)\n",
      "fid: tensor(1.0143) \n",
      "\n"
     ]
    },
    {
     "name": "stderr",
     "output_type": "stream",
     "text": [
      "Lossy conversion from float64 to uint8. Range [0, 1]. Convert image to uint8 prior to saving to suppress this warning.\n"
     ]
    },
    {
     "name": "stdout",
     "output_type": "stream",
     "text": [
      "Epoch: 65/100\n",
      "Average Discriminator loss: -2.657341428628812\n",
      "Average Generator loss: 14.411513461325413\n",
      "\n",
      "inception_score: tensor(2.9864)\n",
      "fid: tensor(1.0196) \n",
      "\n"
     ]
    },
    {
     "name": "stderr",
     "output_type": "stream",
     "text": [
      "Lossy conversion from float64 to uint8. Range [0, 1]. Convert image to uint8 prior to saving to suppress this warning.\n"
     ]
    },
    {
     "name": "stdout",
     "output_type": "stream",
     "text": [
      "Epoch: 66/100\n",
      "Average Discriminator loss: -2.6553715108313094\n",
      "Average Generator loss: 14.415779592896282\n",
      "\n",
      "inception_score: tensor(2.9906)\n",
      "fid: tensor(1.0123) \n",
      "\n"
     ]
    },
    {
     "name": "stderr",
     "output_type": "stream",
     "text": [
      "Lossy conversion from float64 to uint8. Range [0, 1]. Convert image to uint8 prior to saving to suppress this warning.\n"
     ]
    },
    {
     "name": "stdout",
     "output_type": "stream",
     "text": [
      "Epoch: 67/100\n",
      "Average Discriminator loss: -2.661815473437202\n",
      "Average Generator loss: 14.42360072593225\n",
      "\n",
      "inception_score: tensor(2.9925)\n",
      "fid: tensor(0.9991) \n",
      "\n"
     ]
    },
    {
     "name": "stderr",
     "output_type": "stream",
     "text": [
      "Lossy conversion from float64 to uint8. Range [0, 1]. Convert image to uint8 prior to saving to suppress this warning.\n"
     ]
    },
    {
     "name": "stdout",
     "output_type": "stream",
     "text": [
      "Epoch: 68/100\n",
      "Average Discriminator loss: -2.6673357489465794\n",
      "Average Generator loss: 14.434167872072052\n",
      "\n",
      "inception_score: tensor(2.9927)\n",
      "fid: tensor(0.9991) \n",
      "\n"
     ]
    },
    {
     "name": "stderr",
     "output_type": "stream",
     "text": [
      "Lossy conversion from float64 to uint8. Range [0, 1]. Convert image to uint8 prior to saving to suppress this warning.\n"
     ]
    },
    {
     "name": "stdout",
     "output_type": "stream",
     "text": [
      "Epoch: 69/100\n",
      "Average Discriminator loss: -2.664492836196615\n",
      "Average Generator loss: 14.410462273023843\n",
      "\n",
      "inception_score: tensor(2.9936)\n",
      "fid: tensor(0.9953) \n",
      "\n"
     ]
    },
    {
     "name": "stderr",
     "output_type": "stream",
     "text": [
      "Lossy conversion from float64 to uint8. Range [0, 1]. Convert image to uint8 prior to saving to suppress this warning.\n"
     ]
    },
    {
     "name": "stdout",
     "output_type": "stream",
     "text": [
      "Epoch: 70/100\n",
      "Average Discriminator loss: -2.6706600575958594\n",
      "Average Generator loss: 14.364120912920315\n",
      "\n",
      "inception_score: tensor(3.0004)\n",
      "fid: tensor(0.9812) \n",
      "\n"
     ]
    },
    {
     "name": "stderr",
     "output_type": "stream",
     "text": [
      "Lossy conversion from float64 to uint8. Range [0, 1]. Convert image to uint8 prior to saving to suppress this warning.\n"
     ]
    },
    {
     "name": "stdout",
     "output_type": "stream",
     "text": [
      "Epoch: 71/100\n",
      "Average Discriminator loss: -2.6879563519820966\n",
      "Average Generator loss: 14.326829451197169\n",
      "\n",
      "inception_score: tensor(2.9986)\n",
      "fid: tensor(0.9782) \n",
      "\n"
     ]
    },
    {
     "name": "stderr",
     "output_type": "stream",
     "text": [
      "Lossy conversion from float64 to uint8. Range [0, 1]. Convert image to uint8 prior to saving to suppress this warning.\n"
     ]
    },
    {
     "name": "stdout",
     "output_type": "stream",
     "text": [
      "Epoch: 72/100\n",
      "Average Discriminator loss: -2.669288389172645\n",
      "Average Generator loss: 14.272839393559577\n",
      "\n",
      "inception_score: tensor(3.0016)\n",
      "fid: tensor(0.9684) \n",
      "\n"
     ]
    },
    {
     "name": "stderr",
     "output_type": "stream",
     "text": [
      "Lossy conversion from float64 to uint8. Range [0, 1]. Convert image to uint8 prior to saving to suppress this warning.\n"
     ]
    },
    {
     "name": "stdout",
     "output_type": "stream",
     "text": [
      "Epoch: 73/100\n",
      "Average Discriminator loss: -2.6734995620165245\n",
      "Average Generator loss: 14.207366291850983\n",
      "\n",
      "inception_score: tensor(2.9998)\n",
      "fid: tensor(0.9593) \n",
      "\n"
     ]
    },
    {
     "name": "stderr",
     "output_type": "stream",
     "text": [
      "Lossy conversion from float64 to uint8. Range [0, 1]. Convert image to uint8 prior to saving to suppress this warning.\n"
     ]
    },
    {
     "name": "stdout",
     "output_type": "stream",
     "text": [
      "Epoch: 74/100\n",
      "Average Discriminator loss: -2.68643702633504\n",
      "Average Generator loss: 14.107437860587263\n",
      "\n",
      "inception_score: tensor(3.0047)\n",
      "fid: tensor(0.9542) \n",
      "\n"
     ]
    },
    {
     "name": "stderr",
     "output_type": "stream",
     "text": [
      "Lossy conversion from float64 to uint8. Range [0, 1]. Convert image to uint8 prior to saving to suppress this warning.\n"
     ]
    },
    {
     "name": "stdout",
     "output_type": "stream",
     "text": [
      "Epoch: 75/100\n",
      "Average Discriminator loss: -2.69899923912751\n",
      "Average Generator loss: 14.010906754912984\n",
      "\n",
      "inception_score: tensor(3.0108)\n",
      "fid: tensor(0.9526) \n",
      "\n"
     ]
    },
    {
     "name": "stderr",
     "output_type": "stream",
     "text": [
      "Lossy conversion from float64 to uint8. Range [0, 1]. Convert image to uint8 prior to saving to suppress this warning.\n"
     ]
    },
    {
     "name": "stdout",
     "output_type": "stream",
     "text": [
      "Epoch: 76/100\n",
      "Average Discriminator loss: -2.702434460432822\n",
      "Average Generator loss: 13.90714910731735\n",
      "\n",
      "inception_score: tensor(3.0122)\n",
      "fid: tensor(0.9484) \n",
      "\n"
     ]
    },
    {
     "name": "stderr",
     "output_type": "stream",
     "text": [
      "Lossy conversion from float64 to uint8. Range [0, 1]. Convert image to uint8 prior to saving to suppress this warning.\n"
     ]
    },
    {
     "name": "stdout",
     "output_type": "stream",
     "text": [
      "Epoch: 77/100\n",
      "Average Discriminator loss: -2.6951734612744254\n",
      "Average Generator loss: 13.758533048291842\n",
      "\n",
      "inception_score: tensor(3.0143)\n",
      "fid: tensor(0.9335) \n",
      "\n"
     ]
    },
    {
     "name": "stderr",
     "output_type": "stream",
     "text": [
      "Lossy conversion from float64 to uint8. Range [0, 1]. Convert image to uint8 prior to saving to suppress this warning.\n"
     ]
    },
    {
     "name": "stdout",
     "output_type": "stream",
     "text": [
      "Epoch: 78/100\n",
      "Average Discriminator loss: -2.6710266413010673\n",
      "Average Generator loss: 13.658185477858993\n",
      "\n",
      "inception_score: tensor(3.0188)\n",
      "fid: tensor(0.9248) \n",
      "\n"
     ]
    },
    {
     "name": "stderr",
     "output_type": "stream",
     "text": [
      "Lossy conversion from float64 to uint8. Range [0, 1]. Convert image to uint8 prior to saving to suppress this warning.\n"
     ]
    },
    {
     "name": "stdout",
     "output_type": "stream",
     "text": [
      "Epoch: 79/100\n",
      "Average Discriminator loss: -2.6616262634301724\n",
      "Average Generator loss: 13.569636079278697\n",
      "\n",
      "inception_score: tensor(3.0223)\n",
      "fid: tensor(0.9205) \n",
      "\n"
     ]
    },
    {
     "name": "stderr",
     "output_type": "stream",
     "text": [
      "Lossy conversion from float64 to uint8. Range [0, 1]. Convert image to uint8 prior to saving to suppress this warning.\n"
     ]
    },
    {
     "name": "stdout",
     "output_type": "stream",
     "text": [
      "Epoch: 80/100\n",
      "Average Discriminator loss: -2.6579732464030923\n",
      "Average Generator loss: 13.492550534189034\n",
      "\n",
      "inception_score: tensor(3.0206)\n",
      "fid: tensor(0.9107) \n",
      "\n"
     ]
    },
    {
     "name": "stderr",
     "output_type": "stream",
     "text": [
      "Lossy conversion from float64 to uint8. Range [0, 1]. Convert image to uint8 prior to saving to suppress this warning.\n"
     ]
    },
    {
     "name": "stdout",
     "output_type": "stream",
     "text": [
      "Epoch: 81/100\n",
      "Average Discriminator loss: -2.653395104131049\n",
      "Average Generator loss: 13.419631248155456\n",
      "\n",
      "inception_score: tensor(3.0323)\n",
      "fid: tensor(0.9070) \n",
      "\n"
     ]
    },
    {
     "name": "stderr",
     "output_type": "stream",
     "text": [
      "Lossy conversion from float64 to uint8. Range [0, 1]. Convert image to uint8 prior to saving to suppress this warning.\n"
     ]
    },
    {
     "name": "stdout",
     "output_type": "stream",
     "text": [
      "Epoch: 82/100\n",
      "Average Discriminator loss: -2.6523259089675193\n",
      "Average Generator loss: 13.34184721860338\n",
      "\n",
      "inception_score: tensor(3.0350)\n",
      "fid: tensor(0.9022) \n",
      "\n"
     ]
    },
    {
     "name": "stderr",
     "output_type": "stream",
     "text": [
      "Lossy conversion from float64 to uint8. Range [0, 1]. Convert image to uint8 prior to saving to suppress this warning.\n"
     ]
    },
    {
     "name": "stdout",
     "output_type": "stream",
     "text": [
      "Epoch: 83/100\n",
      "Average Discriminator loss: -2.658030946865467\n",
      "Average Generator loss: 13.250753338711384\n",
      "\n",
      "inception_score: tensor(3.0380)\n",
      "fid: tensor(0.8957) \n",
      "\n"
     ]
    },
    {
     "name": "stderr",
     "output_type": "stream",
     "text": [
      "Lossy conversion from float64 to uint8. Range [0, 1]. Convert image to uint8 prior to saving to suppress this warning.\n"
     ]
    },
    {
     "name": "stdout",
     "output_type": "stream",
     "text": [
      "Epoch: 84/100\n",
      "Average Discriminator loss: -2.657223830261252\n",
      "Average Generator loss: 13.13853290632267\n",
      "\n",
      "inception_score: tensor(3.0423)\n",
      "fid: tensor(0.8882) \n",
      "\n"
     ]
    },
    {
     "name": "stderr",
     "output_type": "stream",
     "text": [
      "Lossy conversion from float64 to uint8. Range [0, 1]. Convert image to uint8 prior to saving to suppress this warning.\n"
     ]
    },
    {
     "name": "stdout",
     "output_type": "stream",
     "text": [
      "Epoch: 85/100\n",
      "Average Discriminator loss: -2.627461331759244\n",
      "Average Generator loss: 13.047224726947094\n",
      "\n",
      "inception_score: tensor(3.0464)\n",
      "fid: tensor(0.8808) \n",
      "\n"
     ]
    },
    {
     "name": "stderr",
     "output_type": "stream",
     "text": [
      "Lossy conversion from float64 to uint8. Range [0, 1]. Convert image to uint8 prior to saving to suppress this warning.\n"
     ]
    },
    {
     "name": "stdout",
     "output_type": "stream",
     "text": [
      "Epoch: 86/100\n",
      "Average Discriminator loss: -2.608208260837288\n",
      "Average Generator loss: 12.988390516769641\n",
      "\n",
      "inception_score: tensor(3.0548)\n",
      "fid: tensor(0.8659) \n",
      "\n"
     ]
    },
    {
     "name": "stderr",
     "output_type": "stream",
     "text": [
      "Lossy conversion from float64 to uint8. Range [0, 1]. Convert image to uint8 prior to saving to suppress this warning.\n"
     ]
    },
    {
     "name": "stdout",
     "output_type": "stream",
     "text": [
      "Epoch: 87/100\n",
      "Average Discriminator loss: -2.596535163151329\n",
      "Average Generator loss: 12.94582306106613\n",
      "\n",
      "inception_score: tensor(3.0652)\n",
      "fid: tensor(0.8606) \n",
      "\n"
     ]
    },
    {
     "name": "stderr",
     "output_type": "stream",
     "text": [
      "Lossy conversion from float64 to uint8. Range [0, 1]. Convert image to uint8 prior to saving to suppress this warning.\n"
     ]
    },
    {
     "name": "stdout",
     "output_type": "stream",
     "text": [
      "Epoch: 88/100\n",
      "Average Discriminator loss: -2.594749840252272\n",
      "Average Generator loss: 12.91400466829165\n",
      "\n",
      "inception_score: tensor(3.0677)\n",
      "fid: tensor(0.8560) \n",
      "\n"
     ]
    },
    {
     "name": "stderr",
     "output_type": "stream",
     "text": [
      "Lossy conversion from float64 to uint8. Range [0, 1]. Convert image to uint8 prior to saving to suppress this warning.\n"
     ]
    },
    {
     "name": "stdout",
     "output_type": "stream",
     "text": [
      "Epoch: 89/100\n",
      "Average Discriminator loss: -2.595942226241098\n",
      "Average Generator loss: 12.881928968770003\n",
      "\n",
      "inception_score: tensor(3.0704)\n",
      "fid: tensor(0.8467) \n",
      "\n"
     ]
    },
    {
     "name": "stderr",
     "output_type": "stream",
     "text": [
      "Lossy conversion from float64 to uint8. Range [0, 1]. Convert image to uint8 prior to saving to suppress this warning.\n"
     ]
    },
    {
     "name": "stdout",
     "output_type": "stream",
     "text": [
      "Epoch: 90/100\n",
      "Average Discriminator loss: -2.5958446401530915\n",
      "Average Generator loss: 12.848284843345398\n",
      "\n",
      "inception_score: tensor(3.0726)\n",
      "fid: tensor(0.8467) \n",
      "\n"
     ]
    },
    {
     "name": "stderr",
     "output_type": "stream",
     "text": [
      "Lossy conversion from float64 to uint8. Range [0, 1]. Convert image to uint8 prior to saving to suppress this warning.\n"
     ]
    },
    {
     "name": "stdout",
     "output_type": "stream",
     "text": [
      "Epoch: 91/100\n",
      "Average Discriminator loss: -2.597692522786481\n",
      "Average Generator loss: 12.816565029428068\n",
      "\n",
      "inception_score: tensor(3.0786)\n",
      "fid: tensor(0.8424) \n",
      "\n"
     ]
    },
    {
     "name": "stderr",
     "output_type": "stream",
     "text": [
      "Lossy conversion from float64 to uint8. Range [0, 1]. Convert image to uint8 prior to saving to suppress this warning.\n"
     ]
    },
    {
     "name": "stdout",
     "output_type": "stream",
     "text": [
      "Epoch: 92/100\n",
      "Average Discriminator loss: -2.6070184937182246\n",
      "Average Generator loss: 12.786848378630403\n",
      "\n",
      "inception_score: tensor(3.0828)\n",
      "fid: tensor(0.8380) \n",
      "\n"
     ]
    },
    {
     "name": "stderr",
     "output_type": "stream",
     "text": [
      "Lossy conversion from float64 to uint8. Range [0, 1]. Convert image to uint8 prior to saving to suppress this warning.\n"
     ]
    },
    {
     "name": "stdout",
     "output_type": "stream",
     "text": [
      "Epoch: 93/100\n",
      "Average Discriminator loss: -2.6241909963043364\n",
      "Average Generator loss: 12.76118916502571\n",
      "\n",
      "inception_score: tensor(3.0920)\n",
      "fid: tensor(0.8473) \n",
      "\n"
     ]
    },
    {
     "name": "stderr",
     "output_type": "stream",
     "text": [
      "Lossy conversion from float64 to uint8. Range [0, 1]. Convert image to uint8 prior to saving to suppress this warning.\n"
     ]
    },
    {
     "name": "stdout",
     "output_type": "stream",
     "text": [
      "Epoch: 94/100\n",
      "Average Discriminator loss: -2.629779992453511\n",
      "Average Generator loss: 12.721567948766975\n",
      "\n",
      "inception_score: tensor(3.0957)\n",
      "fid: tensor(0.8499) \n",
      "\n"
     ]
    },
    {
     "name": "stderr",
     "output_type": "stream",
     "text": [
      "Lossy conversion from float64 to uint8. Range [0, 1]. Convert image to uint8 prior to saving to suppress this warning.\n"
     ]
    },
    {
     "name": "stdout",
     "output_type": "stream",
     "text": [
      "Epoch: 95/100\n",
      "Average Discriminator loss: -2.630582694649098\n",
      "Average Generator loss: 12.673732892296172\n",
      "\n",
      "inception_score: tensor(3.1030)\n",
      "fid: tensor(0.8390) \n",
      "\n"
     ]
    },
    {
     "name": "stderr",
     "output_type": "stream",
     "text": [
      "Lossy conversion from float64 to uint8. Range [0, 1]. Convert image to uint8 prior to saving to suppress this warning.\n"
     ]
    },
    {
     "name": "stdout",
     "output_type": "stream",
     "text": [
      "Epoch: 96/100\n",
      "Average Discriminator loss: -2.627831422066257\n",
      "Average Generator loss: 12.646892784412106\n",
      "\n",
      "inception_score: tensor(3.1064)\n",
      "fid: tensor(0.8317) \n",
      "\n"
     ]
    },
    {
     "name": "stderr",
     "output_type": "stream",
     "text": [
      "Lossy conversion from float64 to uint8. Range [0, 1]. Convert image to uint8 prior to saving to suppress this warning.\n"
     ]
    },
    {
     "name": "stdout",
     "output_type": "stream",
     "text": [
      "Epoch: 97/100\n",
      "Average Discriminator loss: -2.627958029281238\n",
      "Average Generator loss: 12.636541771514135\n",
      "\n",
      "inception_score: tensor(3.1078)\n",
      "fid: tensor(0.8264) \n",
      "\n"
     ]
    },
    {
     "name": "stderr",
     "output_type": "stream",
     "text": [
      "Lossy conversion from float64 to uint8. Range [0, 1]. Convert image to uint8 prior to saving to suppress this warning.\n"
     ]
    },
    {
     "name": "stdout",
     "output_type": "stream",
     "text": [
      "Epoch: 98/100\n",
      "Average Discriminator loss: -2.624173063359017\n",
      "Average Generator loss: 12.632420175001688\n",
      "\n",
      "inception_score: tensor(3.1139)\n",
      "fid: tensor(0.8226) \n",
      "\n"
     ]
    },
    {
     "name": "stderr",
     "output_type": "stream",
     "text": [
      "Lossy conversion from float64 to uint8. Range [0, 1]. Convert image to uint8 prior to saving to suppress this warning.\n"
     ]
    },
    {
     "name": "stdout",
     "output_type": "stream",
     "text": [
      "Epoch: 99/100\n",
      "Average Discriminator loss: -2.626240431640212\n",
      "Average Generator loss: 12.630402810531974\n",
      "\n",
      "inception_score: tensor(3.1174)\n",
      "fid: tensor(0.8145) \n",
      "\n"
     ]
    },
    {
     "name": "stderr",
     "output_type": "stream",
     "text": [
      "Lossy conversion from float64 to uint8. Range [0, 1]. Convert image to uint8 prior to saving to suppress this warning.\n"
     ]
    },
    {
     "name": "stdout",
     "output_type": "stream",
     "text": [
      "Epoch: 100/100\n",
      "Average Discriminator loss: -2.6158335849252317\n",
      "Average Generator loss: 12.620565432350222\n",
      "\n",
      "inception_score: tensor(3.1200)\n",
      "fid: tensor(0.8065) \n",
      "\n",
      "Training finished!\n"
     ]
    },
    {
     "data": {
      "image/png": "[encoded data removed]",
      "text/plain": [
       "<Figure size 640x480 with 1 Axes>"
      ]
     },
     "metadata": {},
     "output_type": "display_data"
    },
    {
     "data": {
      "image/png": "[encoded data removed]",
      "text/plain": [
       "<Figure size 640x480 with 1 Axes>"
      ]
     },
     "metadata": {},
     "output_type": "display_data"
    }
   ],
   "source": [
    "wgan_gp.train()"
   ]
  }
 ],
 "metadata": {
  "kernelspec": {
   "display_name": "base",
   "language": "python",
   "name": "python3"
  },
  "language_info": {
   "codemirror_mode": {
    "name": "ipython",
    "version": 3
   },
   "file_extension": ".py",
   "mimetype": "text/x-python",
   "name": "python",
   "nbconvert_exporter": "python",
   "pygments_lexer": "ipython3",
   "version": "3.9.16"
  },
  "orig_nbformat": 4
 },
 "nbformat": 4,
 "nbformat_minor": 2
}
