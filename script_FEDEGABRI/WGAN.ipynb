{
 "cells": [
  {
   "cell_type": "code",
   "execution_count": 1,
   "metadata": {},
   "outputs": [
    {
     "name": "stderr",
     "output_type": "stream",
     "text": [
      "c:\\Users\\dange\\anaconda3\\lib\\site-packages\\torchvision\\io\\image.py:13: UserWarning: Failed to load image Python extension: [WinError 127] Impossibile trovare la procedura specificata\n",
      "  warn(f\"Failed to load image Python extension: {e}\")\n"
     ]
    }
   ],
   "source": [
    "# Importing needed libraries\n",
    "\n",
    "import torch, os\n",
    "import numpy as np\n",
    "import torch.nn as nn\n",
    "import torch.optim as optim\n",
    "import torch.nn.functional as F\n",
    "\n",
    "\n",
    "\n",
    "from torch.utils.data import DataLoader\n",
    "from torchvision import datasets, transforms\n",
    "from torch.autograd import grad\n",
    "from helpers import *\n",
    "from torchmetrics.image.inception import InceptionScore\n",
    "from torchmetrics.image.fid import FrechetInceptionDistance"
   ]
  },
  {
   "cell_type": "code",
   "execution_count": 2,
   "metadata": {},
   "outputs": [],
   "source": [
    "class Generator(nn.Module):\n",
    "    \n",
    "    def __init__(self, input_dim=100, output_dim=1, input_size=32):\n",
    "        super(Generator, self).__init__()\n",
    "        self.input_dim = input_dim \n",
    "        self.output_dim = output_dim \n",
    "        self.input_size = input_size\n",
    "\n",
    "        self.fc = nn.Sequential(\n",
    "            nn.Linear(self.input_dim, 1024),\n",
    "            nn.BatchNorm1d(1024),\n",
    "            nn.ReLU(),\n",
    "            nn.Linear(1024, 128 * (self.input_size // 4) * (self.input_size // 4)),\n",
    "            nn.BatchNorm1d(128 * (self.input_size // 4) * (self.input_size // 4)),\n",
    "            nn.ReLU(),\n",
    "        )\n",
    "        # The following layers are used to upsample the input\n",
    "        #  noise and generate an output image. \n",
    "        self.deconv = nn.Sequential(\n",
    "            nn.ConvTranspose2d(128, 64, 4, 2, 1),\n",
    "            nn.BatchNorm2d(64),\n",
    "            nn.ReLU(),\n",
    "            nn.ConvTranspose2d(64, self.output_dim, 4, 2, 1),\n",
    "            nn.Tanh(),\n",
    "        )\n",
    "        # This function initializes the weights and biases of the \n",
    "        # generator's layers:\n",
    "        initialize_weights(self) \n",
    "\n",
    "    def forward(self, input):\n",
    "        '''\n",
    "        The input to the forward method represents the input noise \n",
    "        to the generator model. It returns the generated output image.\n",
    "        '''\n",
    "        x = self.fc(input)\n",
    "        x = x.view(-1, 128, (self.input_size // 4), (self.input_size // 4)) # reshapes x to match the expected size for the subsequent transposed convolutional layers. \n",
    "        x = self.deconv(x)\n",
    "        return x"
   ]
  },
  {
   "cell_type": "code",
   "execution_count": 3,
   "metadata": {},
   "outputs": [],
   "source": [
    "class Discriminator(nn.Module):\n",
    "    def __init__(self, input_dim=1, output_dim=1, input_size=32):\n",
    "        super(Discriminator, self).__init__()\n",
    "        self.input_dim = input_dim\n",
    "        self.output_dim = output_dim\n",
    "        self.input_size = input_size\n",
    "\n",
    "        self.conv = nn.Sequential(\n",
    "            nn.Conv2d(self.input_dim, 64, 4, 2, 1),\n",
    "            nn.LeakyReLU(0.2),\n",
    "            nn.Conv2d(64, 128, 4, 2, 1),\n",
    "            nn.BatchNorm2d(128),\n",
    "            nn.LeakyReLU(0.2),\n",
    "        )\n",
    "        self.fc = nn.Sequential(\n",
    "            nn.Linear(128 * (self.input_size // 4) * (self.input_size // 4), 1024),\n",
    "            nn.BatchNorm1d(1024),\n",
    "            nn.LeakyReLU(0.2),\n",
    "            nn.Linear(1024, self.output_dim),\n",
    "            # nn.Sigmoid(),\n",
    "        )\n",
    "        # This function initializes the weights and biases of the \n",
    "        # discriminator's layers:\n",
    "        initialize_weights(self)\n",
    "\n",
    "    def forward(self, input):\n",
    "        '''\n",
    "        The input to the forward method represents the input image\n",
    "        It returns the output prediction, which represents the discriminator's assessment of the input image.\n",
    "        '''\n",
    "        x = self.conv(input)\n",
    "        x = x.view(-1, 128 * (self.input_size // 4) * (self.input_size // 4))\n",
    "        x = self.fc(x)\n",
    "        return x"
   ]
  },
  {
   "cell_type": "code",
   "execution_count": 4,
   "metadata": {},
   "outputs": [],
   "source": [
    "class WGAN(object):\n",
    "    def __init__(self, epoch, batch_size, save_dir, result_dir, dataset, device, input_size, lrG, lrD, beta1, beta2):\n",
    "    \n",
    "        self.epoch = epoch\n",
    "        self.batch_size = batch_size\n",
    "        self.save_dir = save_dir\n",
    "        self.result_dir = result_dir\n",
    "        self.device = device\n",
    "        self.dataset = dataset\n",
    "        self.input_size = input_size    # Default: 32\n",
    "\n",
    "        self.model_name = 'WGAN'        \n",
    "        self.z_dim = 62                 # Represents the dimensionality of the (Gaussian) random input vector used by the generator.\n",
    "        self.d_param_max = 0.01         # Clipping value\n",
    "        self.iteration_g_per_d = 5      # Specifies the number of iterations of the generator per discriminator iteration. \n",
    "                                        # This controls the relative training frequency of the generator and discriminator.\n",
    "\n",
    "        self.inception=InceptionScore(normalize=True)\n",
    "        self.f=FrechetInceptionDistance(feature=64,normalize=True)\n",
    "\n",
    "        # Transformation to be applied on data in the DataLoader function\n",
    "\n",
    "        transform = transforms.Compose([\n",
    "                                        transforms.Resize((input_size, input_size)), \n",
    "                                        transforms.ToTensor(), \n",
    "                                        transforms.Normalize(mean=(0.5, 0.5, 0.5), std=(0.5, 0.5, 0.5))\n",
    "                                        ])\n",
    "        \n",
    "        if self.dataset == 'cifar10':\n",
    "                self.data_loader = DataLoader(\n",
    "                    datasets.CIFAR10('data/cifar10', train=True, download=True, transform=transform),\n",
    "                    batch_size=batch_size, shuffle=True)\n",
    "        elif self.dataset == 'mnist':\n",
    "                self.data_loader = DataLoader(\n",
    "                    datasets.MNIST('data/mnist', train=True, download=True, transform=transform),\n",
    "                    batch_size=batch_size, shuffle=True)\n",
    "        \n",
    "\n",
    "        data = self.data_loader.__iter__().__next__()[0]\n",
    "\n",
    "        # Initialize generator, discriminator and optimizers\n",
    "        self.G = Generator(input_dim=self.z_dim, output_dim=data.shape[1], input_size=self.input_size)\n",
    "        self.D = Discriminator(input_dim=data.shape[1], output_dim=1, input_size=self.input_size)\n",
    "        self.G_optimizer = optim.Adam(self.G.parameters(), lr=lrG, betas=(beta1, beta2))\n",
    "        self.D_optimizer = optim.Adam(self.D.parameters(), lr=lrD, betas=(beta1, beta2))\n",
    "\n",
    "        if self.device == 'cuda':\n",
    "            self.G.cuda()\n",
    "            self.D.cuda()\n",
    "\n",
    "        # Fixed noise: By setting up a fixed noise vector, the WGAN can generate consistent\n",
    "        # samples from the generator over the course of training. This allows for visualizing\n",
    "        # the progression of generated images or comparing them across different training iterations.\n",
    "        self.sample_z = torch.rand((self.batch_size, self.z_dim))\n",
    "        if self.device == 'cuda':\n",
    "            self.sample_z = self.sample_z.cuda()\n",
    "\n",
    "    def train(self):\n",
    "        self.D_losses = []\n",
    "        self.G_losses = []\n",
    "        self.inception_scores = []\n",
    "        self.frechet_inception_distances = []\n",
    "\n",
    "        self.y_real = torch.ones(self.batch_size, 1) # Initialize labels for real samples (i.e. 1)\n",
    "        self.y_fake = torch.zeros(self.batch_size, 1) # Initialize labels for fake samples (i.e. 0)\n",
    "\n",
    "        if self.device == 'cuda':\n",
    "            self.y_real = self.y_real.cuda()\n",
    "            self.y_fake = self.y_fake.cuda()\n",
    "\n",
    "        self.D.train() #D network in train mode\n",
    "\n",
    "        print('Start training!')\n",
    "\n",
    "        for epoch in range(self.epoch):\n",
    "            self.G.train() #G network in train mode\n",
    "\n",
    "            for iter, (x_train, _) in enumerate(self.data_loader):\n",
    "                if iter == self.data_loader.dataset.__len__() // self.batch_size:\n",
    "                    break\n",
    "\n",
    "                z_noise = torch.rand((self.batch_size, self.z_dim))\n",
    "\n",
    "                if self.device == 'cuda':\n",
    "                    x_train = x_train.cuda()\n",
    "                    z_noise = z_noise.cuda()\n",
    "\n",
    "                # PART 1: UPDATE THE DISCRIMINATOR\n",
    "                self.D_optimizer.zero_grad()\n",
    "\n",
    "                D_real = self.D(x_train) # Computes the discriminator output for real data\n",
    "                D_real_loss = -torch.mean(D_real) # Calculates the loss for the discriminator on real data. \n",
    "                                                  # The objective is to maximize the average output of the discriminator for real data.\n",
    "\n",
    "                G_ = self.G(z_noise) # Generates fake data using the generator\n",
    "                D_fake = self.D(G_) # Computes the discriminator output for fake data.\n",
    "                D_fake_loss = torch.mean(D_fake) # Calculates the loss for the discriminator on fake data. \n",
    "                                                 # The objective is to minimize the average output of the discriminator for fake data.\n",
    "\n",
    "                D_loss = D_real_loss + D_fake_loss # Calculates the total discriminator loss as the sum of the losses on real and fake data.\n",
    "\n",
    "                D_loss.backward()\n",
    "                self.D_optimizer.step()\n",
    "\n",
    "                # Clipping D parameters to a specified range to enforce Lipschitz continuity.\n",
    "                for p in self.D.parameters():\n",
    "                    p.data.clamp_(-self.d_param_max, self.d_param_max)\n",
    "\n",
    "                if ((iter+1) % self.iteration_g_per_d) == 0:\n",
    "                    # PART 2: UPDATE THE GENERATOR\n",
    "                    self.G_optimizer.zero_grad()\n",
    "\n",
    "                    G_ = self.G(z_noise)\n",
    "                    D_fake = self.D(G_)\n",
    "                    G_loss = -torch.mean(D_fake) # Calculates the generator loss as the negative average output of the discriminator for fake data. \n",
    "                                                 # The objective is to maximize the average output of the discriminator for the generated fake data.\n",
    "\n",
    "                    self.G_losses.append(G_loss.item())\n",
    "\n",
    "                    G_loss.backward()\n",
    "\n",
    "                    self.G_optimizer.step()\n",
    "\n",
    "                    self.D_losses.append(D_loss.item())\n",
    "                \n",
    "                #if (iter % 100) == 0:\n",
    "                #   self.inception_scores.append(self.calculateInceptionScore())\n",
    "\n",
    "            print(f'Epoch: {epoch+1}/{self.epoch}')\n",
    "            print(f'Average Discriminator loss: {np.mean(self.D_losses)}')\n",
    "            print(f'Average Generator loss: {np.mean(self.G_losses)}')\n",
    "\n",
    "            with torch.no_grad():\n",
    "                self.visualize_results((epoch+1))\n",
    "                score=self.IS()\n",
    "                print('Inception Score (IS):',score[0])\n",
    "                self.inception_scores.append(score[0].item())\n",
    "                distance=self.FID()\n",
    "                print('Fréchet inception distance (FID):', distance.item(),'\\n')\n",
    "                self.frechet_inception_distances.append(distance.item())\n",
    "\n",
    "        print(\"Training finished.\")\n",
    "\n",
    "        #self.save()\n",
    "        generate_animation(self.result_dir + '/' + self.dataset + '/' + self.model_name + '/' + self.model_name,\n",
    "                                 self.epoch)\n",
    "        loss_plot(self.G_losses, self.D_losses, os.path.join(self.save_dir, self.dataset, self.model_name), self.model_name)\n",
    "        score_plot(os.path.join(self.save_dir, self.dataset, self.model_name), self.model_name, 'InceptionScore', self.inception_scores)\n",
    "        score_plot(os.path.join(self.save_dir, self.dataset, self.model_name), self.model_name, 'FréchetInceptionDistance', self.frechet_inception_distances)\n",
    "    \n",
    "    \n",
    "    def IS(self):\n",
    "        self.G.eval()\n",
    "        images = self.G(self.sample_z)\n",
    "        self.inception.update(images.cpu())\n",
    "        IS=self.inception.compute()   \n",
    "        return IS\n",
    "        \n",
    "    def FID(self):\n",
    "        self.G.eval()\n",
    "        imagesG = self.G(self.sample_z)\n",
    "        imagesR=self.data_loader.__iter__().__next__()[0]\n",
    "        self.f.update(imagesR.cpu(), real=True)\n",
    "        self.f.update(imagesG.cpu(), real=False)\n",
    "        FID=self.f.compute()\n",
    "        return FID\n",
    "\n",
    "    def visualize_results(self, epoch):\n",
    "        self.G.eval()\n",
    "\n",
    "        if not os.path.exists(self.result_dir + '/' + self.dataset + '/' + self.model_name):\n",
    "            os.makedirs(self.result_dir + '/' + self.dataset + '/' + self.model_name)\n",
    "\n",
    "        samples = self.G(self.sample_z)\n",
    "        \n",
    "        if self.device == 'cuda':\n",
    "            samples = samples.cpu().data.numpy().transpose(0, 2, 3, 1)\n",
    "        else:\n",
    "            samples = samples.data.numpy().transpose(0, 2, 3, 1)\n",
    "\n",
    "\n",
    "        samples = (samples + 1) / 2\n",
    "        save_images(samples, [8, 8],\n",
    "                          self.result_dir + '/' + self.dataset + '/' + self.model_name + '/' + self.model_name + '_epoch%03d' % epoch + '.png')\n",
    "    \n",
    "    def print_networks(self):\n",
    "        print('---------- Networks architecture -------------')\n",
    "        print(self.G)\n",
    "        print(self.D)\n",
    "        print('-----------------------------------------------')\n",
    "\n",
    "\n",
    "    '''\n",
    "    def save(self):\n",
    "        save_dir = os.path.join(self.save_dir, self.dataset, self.model_name)\n",
    "\n",
    "        if not os.path.exists(save_dir):\n",
    "            os.makedirs(save_dir)\n",
    "\n",
    "        torch.save(self.G.state_dict(), os.path.join(save_dir, self.model_name + '_G.pkl'))\n",
    "        torch.save(self.D.state_dict(), os.path.join(save_dir, self.model_name + '_D.pkl'))\n",
    "\n",
    "        with open(os.path.join(save_dir, self.model_name + '_history.pkl'), 'wb') as f:\n",
    "            pickle.dump(self.train_hist, f)\n",
    "\n",
    "    def load(self):\n",
    "        save_dir = os.path.join(self.save_dir, self.dataset, self.model_name)\n",
    "\n",
    "        self.G.load_state_dict(torch.load(os.path.join(save_dir, self.model_name + '_G.pkl')))\n",
    "        self.D.load_state_dict(torch.load(os.path.join(save_dir, self.model_name + '_D.pkl')))\n",
    "    '''"
   ]
  },
  {
   "cell_type": "code",
   "execution_count": 5,
   "metadata": {},
   "outputs": [],
   "source": [
    "class WGAN_GP(object):\n",
    "    def __init__(self, epoch, batch_size, save_dir, result_dir, dataset, device, input_size, lrG, lrD, beta1, beta2):\n",
    "        # parameters\n",
    "        self.epoch = epoch\n",
    "        self.dataset = dataset\n",
    "        self.batch_size = batch_size\n",
    "        self.save_dir = save_dir\n",
    "        self.result_dir = result_dir\n",
    "        self.device = device\n",
    "        self.input_size = input_size\n",
    "\n",
    "        self.model_name = 'WGAN_GP'\n",
    "        self.z_dim = 62\n",
    "        self.lambda_ = 10\n",
    "        self.iteration_g_per_d = 5\n",
    "\n",
    "        self.inception=InceptionScore(normalize=True)\n",
    "        self.f=FrechetInceptionDistance(feature=64,normalize=True)               \n",
    "        \n",
    "        # transformation to be applied on data in the DataLoader function\n",
    "        transform = transforms.Compose([\n",
    "                                transforms.Resize((self.input_size, self.input_size)), \n",
    "                                transforms.ToTensor(), \n",
    "                                transforms.Normalize(mean=(0.5, 0.5, 0.5), std=(0.5, 0.5, 0.5))\n",
    "                                ])\n",
    "\n",
    "        if self.dataset == 'cifar10':\n",
    "                self.data_loader = DataLoader(\n",
    "                    datasets.CIFAR10('data/cifar10', train=True, download=False, transform=transform),\n",
    "                    batch_size=batch_size, shuffle=True)\n",
    "        elif self.dataset == 'mnist':\n",
    "                self.data_loader = DataLoader(\n",
    "                    datasets.MNIST('data/mnist', train=True, download=True, transform=transform),\n",
    "                    batch_size=batch_size, shuffle=True)\n",
    "        \n",
    "        data = self.data_loader.__iter__().__next__()[0]\n",
    "\n",
    "        # Initialization of optimizers and of generator and discriminator\n",
    "        self.G = Generator(input_dim=self.z_dim, output_dim=data.shape[1], input_size=self.input_size)\n",
    "        self.D = Discriminator(input_dim=data.shape[1], output_dim=1, input_size=self.input_size)\n",
    "        self.G_optimizer = optim.Adam(self.G.parameters(), lr=lrG, betas=(beta1, beta2))\n",
    "        self.D_optimizer = optim.Adam(self.D.parameters(), lr=lrD, betas=(beta1, beta2))\n",
    "\n",
    "        if self.device == 'cuda':\n",
    "            self.G.cuda()\n",
    "            self.D.cuda()\n",
    "\n",
    "        # Fixed noise: By setting up a fixed noise vector, the WGAN can generate consistent\n",
    "        # samples from the generator over the course of training. This allows for visualizing\n",
    "        # the progression of generated images or comparing them across different training iterations.\n",
    "        self.sample_z = torch.rand((self.batch_size, self.z_dim))\n",
    "        if self.device == 'cuda':\n",
    "            self.sample_z = self.sample_z.cuda()\n",
    "\n",
    "    def train(self):\n",
    "        self.G_losses = []\n",
    "        self.D_losses = []\n",
    "\n",
    "        self.inception_scores = []\n",
    "        self.frechet_inception_distances = []\n",
    "        \n",
    "        self.y_real = torch.ones(self.batch_size, 1)\n",
    "        self.y_fake = torch.zeros(self.batch_size, 1)\n",
    "\n",
    "        if self.device == 'cuda':\n",
    "            self.y_real = self.y_real.cuda()\n",
    "            self.y_fake =  self.y_fake.cuda()\n",
    "\n",
    "        self.D.train() #Discriminator in train mode\n",
    "        print('Start training!')\n",
    "\n",
    "        for epoch in range(self.epoch):\n",
    "            self.G.train() #Generator in train mode\n",
    "\n",
    "            for iter, (x_train, _) in enumerate(self.data_loader):\n",
    "                if iter == self.data_loader.dataset.__len__() // self.batch_size:\n",
    "                    break\n",
    "\n",
    "                z_noise = torch.rand((self.batch_size, self.z_dim))\n",
    "                if self.device == 'cuda':\n",
    "                    x_train = x_train.cuda()\n",
    "                    z_noise = z_noise.cuda()\n",
    "\n",
    "                # PART 1: UPDATE THE DISCRIMINATOR\n",
    "                self.D_optimizer.zero_grad()\n",
    "\n",
    "                D_real = self.D(x_train)\n",
    "                D_real_loss = -torch.mean(D_real)\n",
    "\n",
    "                G_ = self.G(z_noise)\n",
    "                D_fake = self.D(G_)\n",
    "                D_fake_loss = torch.mean(D_fake)\n",
    "\n",
    "                # Gradient penalty\n",
    "                alpha = torch.rand((self.batch_size, 1, 1, 1))\n",
    "                if self.device == 'cuda':\n",
    "                    alpha = alpha.cuda()\n",
    "\n",
    "                x_hat = alpha * x_train.data + (1 - alpha) * G_.data\n",
    "                x_hat.requires_grad = True\n",
    "\n",
    "                pred_hat = self.D(x_hat)\n",
    "                if self.device == 'cuda':\n",
    "                    gradients = grad(outputs=pred_hat, inputs=x_hat, grad_outputs=torch.ones(pred_hat.size()).cuda(),\n",
    "                                 create_graph=True, retain_graph=True, only_inputs=True)[0]\n",
    "                else:\n",
    "                    gradients = grad(outputs=pred_hat, inputs=x_hat, grad_outputs=torch.ones(pred_hat.size()),\n",
    "                                     create_graph=True, retain_graph=True, only_inputs=True)[0]\n",
    "\n",
    "                gradient_penalty = self.lambda_ * ((gradients.view(gradients.size()[0], -1).norm(2, 1) - 1) ** 2).mean()\n",
    "\n",
    "                D_loss = D_real_loss + D_fake_loss + gradient_penalty #loss with gradient penalty\n",
    "\n",
    "                D_loss.backward()\n",
    "                self.D_optimizer.step()\n",
    "\n",
    "                if ((iter+1) % self.iteration_g_per_d) == 0:\n",
    "                    # PART 2: UPDATE THE GENERATOR\n",
    "                    self.G_optimizer.zero_grad()\n",
    "\n",
    "                    G_ = self.G(z_noise)\n",
    "                    D_fake = self.D(G_)\n",
    "                    G_loss = -torch.mean(D_fake)\n",
    "                    self.G_losses.append(G_loss.item())\n",
    "\n",
    "                    G_loss.backward()\n",
    "                    self.G_optimizer.step()\n",
    "\n",
    "                    self.D_losses.append(D_loss.item())\n",
    "                \n",
    "            print(f'Epoch: {epoch+1}/{self.epoch}')\n",
    "            print(f'Average Discriminator loss: {np.mean(self.D_losses)}')\n",
    "            print(f'Average Generator loss: {np.mean(self.G_losses)}\\n')\n",
    "\n",
    "            with torch.no_grad():\n",
    "                self.visualize_results((epoch+1))\n",
    "                score=self.IS()\n",
    "                print('Inception Score (IS):',score[0])\n",
    "                self.inception_scores.append(score[0].item())\n",
    "                distance=self.FID()\n",
    "                print('Fréchet inception distance (FID):',distance,'\\n')\n",
    "                self.frechet_inception_distances.append(distance.item())\n",
    "\n",
    "        print(\"Training finished!\")\n",
    "\n",
    "        #self.save()\n",
    "        generate_animation(self.result_dir + '/' + self.dataset + '/' + self.model_name + '/' + self.model_name,\n",
    "                                 self.epoch)\n",
    "        loss_plot(self.G_losses, self.D_losses, os.path.join(self.save_dir, self.dataset, self.model_name), self.model_name)\n",
    "        score_plot(os.path.join(self.save_dir, self.dataset, self.model_name), self.model_name, 'InceptionScore', self.inception_scores)\n",
    "        score_plot(os.path.join(self.save_dir, self.dataset, self.model_name), self.model_name, 'FréchetInceptionDistance', self.frechet_inception_distances)\n",
    "    \n",
    "    def IS(self):\n",
    "        self.G.eval()\n",
    "        images = self.G(self.sample_z)\n",
    "        self.inception.update(images.cpu())\n",
    "        IS=self.inception.compute()   \n",
    "        return IS\n",
    "    \n",
    "    def FID(self):\n",
    "        self.G.eval()\n",
    "        imagesG = self.G(self.sample_z)\n",
    "        imagesR=self.data_loader.__iter__().__next__()[0]\n",
    "        self.f.update(imagesR.cpu(), real=True)\n",
    "        self.f.update(imagesG.cpu(), real=False)\n",
    "        FID=self.f.compute()\n",
    "        return FID\n",
    "\n",
    "    def visualize_results(self, epoch, fix=True):\n",
    "\n",
    "        '''\n",
    "        By calling this method during the training loop, you can visualize and save the \n",
    "        generated samples at regular intervals to monitor the progress \n",
    "        of the generator's output over the course of training.\n",
    "        '''\n",
    "\n",
    "        self.G.eval() # set the generator in evaluation mode.\n",
    "\n",
    "        if not os.path.exists(self.result_dir + '/' + self.dataset + '/' + self.model_name):\n",
    "            os.makedirs(self.result_dir + '/' + self.dataset + '/' + self.model_name)\n",
    "\n",
    "        samples = self.G(self.sample_z) # These samples represent the generator's output at the given epoch\n",
    "        \n",
    "        # The dimensions are transposed to match the image format\n",
    "        if self.device == 'cuda':\n",
    "            samples = samples.cpu().data.numpy().transpose(0, 2, 3, 1)\n",
    "        else:\n",
    "            samples = samples.data.numpy().transpose(0, 2, 3, 1)\n",
    "\n",
    "        samples = (samples + 1) / 2 # Normalizes the samples by scaling their pixel values from the range [-1, 1] to the range [0, 1]\n",
    "        save_images(samples, [8, 8],\n",
    "                          self.result_dir + '/' + self.dataset + '/' + self.model_name + '/' + self.model_name + '_epoch%03d' % epoch + '.png')\n",
    "\n",
    "    def print_networks(self):\n",
    "        print('---------- Networks architecture -------------')\n",
    "        print(self.G)\n",
    "        print(self.D)\n",
    "        print('-----------------------------------------------')\n",
    "\n",
    "    '''\n",
    "    def save(self):\n",
    "        save_dir = os.path.join(self.save_dir, self.dataset, self.model_name)\n",
    "\n",
    "        if not os.path.exists(save_dir):\n",
    "            os.makedirs(save_dir)\n",
    "\n",
    "        torch.save(self.G.state_dict(), os.path.join(save_dir, self.model_name + '_G.pkl'))\n",
    "        torch.save(self.D.state_dict(), os.path.join(save_dir, self.model_name + '_D.pkl'))\n",
    "\n",
    "        with open(os.path.join(save_dir, self.model_name + '_history.pkl'), 'wb') as f:\n",
    "            pickle.dump(self.train_hist, f)\n",
    "\n",
    "    def load(self):\n",
    "        save_dir = os.path.join(self.save_dir, self.dataset, self.model_name)\n",
    "\n",
    "        self.G.load_state_dict(torch.load(os.path.join(save_dir, self.model_name + '_G.pkl')))\n",
    "        self.D.load_state_dict(torch.load(os.path.join(save_dir, self.model_name + '_D.pkl')))\n",
    "    '''"
   ]
  },
  {
   "cell_type": "code",
   "execution_count": 6,
   "metadata": {},
   "outputs": [
    {
     "name": "stderr",
     "output_type": "stream",
     "text": [
      "c:\\Users\\dange\\anaconda3\\lib\\site-packages\\torchmetrics\\utilities\\prints.py:36: UserWarning: Metric `InceptionScore` will save all extracted features in buffer. For large datasets this may lead to large memory footprint.\n",
      "  warnings.warn(*args, **kwargs)\n"
     ]
    },
    {
     "name": "stdout",
     "output_type": "stream",
     "text": [
      "Files already downloaded and verified\n"
     ]
    },
    {
     "data": {
      "text/plain": [
       "\"\\nif gan_type == 'WGAN':\\n    wgan = WGAN(epoch, batch_size, save_dir, result_dir, dataset, device, input_size, lrG, lrD, beta1, beta2)\\nelif gan_type == 'WGAN_GP':\\n    wgan = WGAN_GP(epoch, batch_size, save_dir, result_dir, dataset, device, input_size, lrG, lrD, beta1, beta2)\\n\""
      ]
     },
     "execution_count": 6,
     "metadata": {},
     "output_type": "execute_result"
    }
   ],
   "source": [
    "# PARAMETERS\n",
    "\n",
    "# Define dataset\n",
    "dataset = 'cifar10'\n",
    "\n",
    "# Define WGAN type (WGAN or WGAN_GP)\n",
    "gan_type = 'WGAN_GP'\n",
    "\n",
    "# Define number of epoch\n",
    "epoch = 100\n",
    "\n",
    "# Define batch_size\n",
    "batch_size = 64\n",
    "\n",
    "# Define input_size\n",
    "input_size = 32\n",
    "\n",
    "# Define directory for saving results and models\n",
    "save_dir = 'models'\n",
    "result_dir = 'results'\n",
    "\n",
    "# Defining learning rates\n",
    "lrG = 0.0002        # Generator\n",
    "lrD = 0.0002        # Discriminator\n",
    "\n",
    "# Adam beta parameters\n",
    "beta1 = 0.5\n",
    "beta2 = 0.999\n",
    "\n",
    "# 'cuda' if GPU is available, 'cpu' else\n",
    "device = 'cuda' if torch.cuda.is_available() else 'cpu'\n",
    "\n",
    "\n",
    "wgan = WGAN(epoch, batch_size, save_dir, result_dir, dataset, device, input_size, lrG, lrD, beta1, beta2)\n",
    "wgan_gp = WGAN_GP(epoch, batch_size, save_dir, result_dir, dataset, device, input_size, lrG, lrD, beta1, beta2)\n",
    "\n",
    "\n",
    "'''\n",
    "if gan_type == 'WGAN':\n",
    "    wgan = WGAN(epoch, batch_size, save_dir, result_dir, dataset, device, input_size, lrG, lrD, beta1, beta2)\n",
    "elif gan_type == 'WGAN_GP':\n",
    "    wgan = WGAN_GP(epoch, batch_size, save_dir, result_dir, dataset, device, input_size, lrG, lrD, beta1, beta2)\n",
    "'''"
   ]
  },
  {
   "cell_type": "code",
   "execution_count": 7,
   "metadata": {},
   "outputs": [
    {
     "name": "stdout",
     "output_type": "stream",
     "text": [
      "Start training!\n"
     ]
    },
    {
     "name": "stderr",
     "output_type": "stream",
     "text": [
      "Lossy conversion from float64 to uint8. Range [0, 1]. Convert image to uint8 prior to saving to suppress this warning.\n"
     ]
    },
    {
     "name": "stdout",
     "output_type": "stream",
     "text": [
      "Epoch: 1/100\n",
      "Average Discriminator loss: -0.015003179774980824\n",
      "Average Generator loss: 0.004940346523840279\n",
      "Inception Score (IS): tensor(1.3760)\n",
      "Fréchet inception distance (FID): 22.22687339782715 \n",
      "\n"
     ]
    },
    {
     "name": "stderr",
     "output_type": "stream",
     "text": [
      "Lossy conversion from float64 to uint8. Range [0, 1]. Convert image to uint8 prior to saving to suppress this warning.\n"
     ]
    },
    {
     "name": "stdout",
     "output_type": "stream",
     "text": [
      "Epoch: 2/100\n",
      "Average Discriminator loss: -0.014167765156367423\n",
      "Average Generator loss: 0.003951760693337583\n",
      "Inception Score (IS): tensor(1.6072)\n",
      "Fréchet inception distance (FID): 19.305402755737305 \n",
      "\n"
     ]
    },
    {
     "name": "stderr",
     "output_type": "stream",
     "text": [
      "Lossy conversion from float64 to uint8. Range [0, 1]. Convert image to uint8 prior to saving to suppress this warning.\n"
     ]
    },
    {
     "name": "stdout",
     "output_type": "stream",
     "text": [
      "Epoch: 3/100\n",
      "Average Discriminator loss: -0.015589342745738383\n",
      "Average Generator loss: 0.0049871002365839984\n",
      "Inception Score (IS): tensor(1.8970)\n",
      "Fréchet inception distance (FID): 12.863227844238281 \n",
      "\n"
     ]
    },
    {
     "name": "stderr",
     "output_type": "stream",
     "text": [
      "Lossy conversion from float64 to uint8. Range [0, 1]. Convert image to uint8 prior to saving to suppress this warning.\n"
     ]
    },
    {
     "name": "stdout",
     "output_type": "stream",
     "text": [
      "Epoch: 4/100\n",
      "Average Discriminator loss: -0.01583970172783339\n",
      "Average Generator loss: 0.005389932164992691\n",
      "Inception Score (IS): tensor(2.0609)\n",
      "Fréchet inception distance (FID): 10.386995315551758 \n",
      "\n"
     ]
    },
    {
     "name": "stderr",
     "output_type": "stream",
     "text": [
      "Lossy conversion from float64 to uint8. Range [0, 1]. Convert image to uint8 prior to saving to suppress this warning.\n"
     ]
    },
    {
     "name": "stdout",
     "output_type": "stream",
     "text": [
      "Epoch: 5/100\n",
      "Average Discriminator loss: -0.015506918789021886\n",
      "Average Generator loss: 0.00542898283704581\n",
      "Inception Score (IS): tensor(2.1594)\n",
      "Fréchet inception distance (FID): 8.804872512817383 \n",
      "\n"
     ]
    },
    {
     "name": "stderr",
     "output_type": "stream",
     "text": [
      "Lossy conversion from float64 to uint8. Range [0, 1]. Convert image to uint8 prior to saving to suppress this warning.\n"
     ]
    },
    {
     "name": "stdout",
     "output_type": "stream",
     "text": [
      "Epoch: 6/100\n",
      "Average Discriminator loss: -0.014877745194938213\n",
      "Average Generator loss: 0.005326470415522449\n",
      "Inception Score (IS): tensor(2.2709)\n",
      "Fréchet inception distance (FID): 7.4526047706604 \n",
      "\n"
     ]
    },
    {
     "name": "stderr",
     "output_type": "stream",
     "text": [
      "Lossy conversion from float64 to uint8. Range [0, 1]. Convert image to uint8 prior to saving to suppress this warning.\n"
     ]
    },
    {
     "name": "stdout",
     "output_type": "stream",
     "text": [
      "Epoch: 7/100\n",
      "Average Discriminator loss: -0.01438959417874275\n",
      "Average Generator loss: 0.005185069969929128\n",
      "Inception Score (IS): tensor(2.2814)\n",
      "Fréchet inception distance (FID): 6.811432838439941 \n",
      "\n"
     ]
    },
    {
     "name": "stderr",
     "output_type": "stream",
     "text": [
      "Lossy conversion from float64 to uint8. Range [0, 1]. Convert image to uint8 prior to saving to suppress this warning.\n"
     ]
    },
    {
     "name": "stdout",
     "output_type": "stream",
     "text": [
      "Epoch: 8/100\n",
      "Average Discriminator loss: -0.01439909548716036\n",
      "Average Generator loss: 0.004961177506198184\n",
      "Inception Score (IS): tensor(2.3510)\n",
      "Fréchet inception distance (FID): 6.077850818634033 \n",
      "\n"
     ]
    },
    {
     "name": "stderr",
     "output_type": "stream",
     "text": [
      "Lossy conversion from float64 to uint8. Range [0, 1]. Convert image to uint8 prior to saving to suppress this warning.\n"
     ]
    },
    {
     "name": "stdout",
     "output_type": "stream",
     "text": [
      "Epoch: 9/100\n",
      "Average Discriminator loss: -0.013937509650746931\n",
      "Average Generator loss: 0.00486118278525119\n",
      "Inception Score (IS): tensor(2.3508)\n",
      "Fréchet inception distance (FID): 5.47046422958374 \n",
      "\n"
     ]
    },
    {
     "name": "stderr",
     "output_type": "stream",
     "text": [
      "Lossy conversion from float64 to uint8. Range [0, 1]. Convert image to uint8 prior to saving to suppress this warning.\n"
     ]
    },
    {
     "name": "stdout",
     "output_type": "stream",
     "text": [
      "Epoch: 10/100\n",
      "Average Discriminator loss: -0.013740792597729104\n",
      "Average Generator loss: 0.004670098910598123\n",
      "Inception Score (IS): tensor(2.3759)\n",
      "Fréchet inception distance (FID): 5.02073860168457 \n",
      "\n"
     ]
    },
    {
     "name": "stderr",
     "output_type": "stream",
     "text": [
      "Lossy conversion from float64 to uint8. Range [0, 1]. Convert image to uint8 prior to saving to suppress this warning.\n"
     ]
    },
    {
     "name": "stdout",
     "output_type": "stream",
     "text": [
      "Epoch: 11/100\n",
      "Average Discriminator loss: -0.013367371609667045\n",
      "Average Generator loss: 0.004407620651912775\n",
      "Inception Score (IS): tensor(2.4293)\n",
      "Fréchet inception distance (FID): 4.977624893188477 \n",
      "\n"
     ]
    },
    {
     "name": "stderr",
     "output_type": "stream",
     "text": [
      "Lossy conversion from float64 to uint8. Range [0, 1]. Convert image to uint8 prior to saving to suppress this warning.\n"
     ]
    },
    {
     "name": "stdout",
     "output_type": "stream",
     "text": [
      "Epoch: 12/100\n",
      "Average Discriminator loss: -0.014161263493445162\n",
      "Average Generator loss: 0.004879048217712535\n",
      "Inception Score (IS): tensor(2.4369)\n",
      "Fréchet inception distance (FID): 4.788093090057373 \n",
      "\n"
     ]
    },
    {
     "name": "stderr",
     "output_type": "stream",
     "text": [
      "Lossy conversion from float64 to uint8. Range [0, 1]. Convert image to uint8 prior to saving to suppress this warning.\n"
     ]
    },
    {
     "name": "stdout",
     "output_type": "stream",
     "text": [
      "Epoch: 13/100\n",
      "Average Discriminator loss: -0.013760226697086254\n",
      "Average Generator loss: 0.004779591825253689\n",
      "Inception Score (IS): tensor(2.4525)\n",
      "Fréchet inception distance (FID): 4.476944923400879 \n",
      "\n"
     ]
    },
    {
     "name": "stderr",
     "output_type": "stream",
     "text": [
      "Lossy conversion from float64 to uint8. Range [0, 1]. Convert image to uint8 prior to saving to suppress this warning.\n"
     ]
    },
    {
     "name": "stdout",
     "output_type": "stream",
     "text": [
      "Epoch: 14/100\n",
      "Average Discriminator loss: -0.01360934494556744\n",
      "Average Generator loss: 0.0047960792858831175\n",
      "Inception Score (IS): tensor(2.4885)\n",
      "Fréchet inception distance (FID): 4.2649760246276855 \n",
      "\n"
     ]
    },
    {
     "name": "stderr",
     "output_type": "stream",
     "text": [
      "Lossy conversion from float64 to uint8. Range [0, 1]. Convert image to uint8 prior to saving to suppress this warning.\n"
     ]
    },
    {
     "name": "stdout",
     "output_type": "stream",
     "text": [
      "Epoch: 15/100\n",
      "Average Discriminator loss: -0.013517741384367761\n",
      "Average Generator loss: 0.004805677955692562\n",
      "Inception Score (IS): tensor(2.4879)\n",
      "Fréchet inception distance (FID): 4.052623748779297 \n",
      "\n"
     ]
    },
    {
     "name": "stderr",
     "output_type": "stream",
     "text": [
      "Lossy conversion from float64 to uint8. Range [0, 1]. Convert image to uint8 prior to saving to suppress this warning.\n"
     ]
    },
    {
     "name": "stdout",
     "output_type": "stream",
     "text": [
      "Epoch: 16/100\n",
      "Average Discriminator loss: -0.013402198615786358\n",
      "Average Generator loss: 0.0048176043835668775\n",
      "Inception Score (IS): tensor(2.4961)\n",
      "Fréchet inception distance (FID): 3.8811862468719482 \n",
      "\n"
     ]
    },
    {
     "name": "stderr",
     "output_type": "stream",
     "text": [
      "Lossy conversion from float64 to uint8. Range [0, 1]. Convert image to uint8 prior to saving to suppress this warning.\n"
     ]
    },
    {
     "name": "stdout",
     "output_type": "stream",
     "text": [
      "Epoch: 17/100\n",
      "Average Discriminator loss: -0.013644294726732047\n",
      "Average Generator loss: 0.004985257642137587\n",
      "Inception Score (IS): tensor(2.5225)\n",
      "Fréchet inception distance (FID): 3.800086259841919 \n",
      "\n"
     ]
    },
    {
     "name": "stderr",
     "output_type": "stream",
     "text": [
      "Lossy conversion from float64 to uint8. Range [0, 1]. Convert image to uint8 prior to saving to suppress this warning.\n"
     ]
    },
    {
     "name": "stdout",
     "output_type": "stream",
     "text": [
      "Epoch: 18/100\n",
      "Average Discriminator loss: -0.013760549835536524\n",
      "Average Generator loss: 0.005072106676690856\n",
      "Inception Score (IS): tensor(2.5466)\n",
      "Fréchet inception distance (FID): 3.6448140144348145 \n",
      "\n"
     ]
    },
    {
     "name": "stderr",
     "output_type": "stream",
     "text": [
      "Lossy conversion from float64 to uint8. Range [0, 1]. Convert image to uint8 prior to saving to suppress this warning.\n"
     ]
    },
    {
     "name": "stdout",
     "output_type": "stream",
     "text": [
      "Epoch: 19/100\n",
      "Average Discriminator loss: -0.013603825101085472\n",
      "Average Generator loss: 0.005043522854573307\n",
      "Inception Score (IS): tensor(2.5487)\n",
      "Fréchet inception distance (FID): 3.4943087100982666 \n",
      "\n"
     ]
    },
    {
     "name": "stderr",
     "output_type": "stream",
     "text": [
      "Lossy conversion from float64 to uint8. Range [0, 1]. Convert image to uint8 prior to saving to suppress this warning.\n"
     ]
    },
    {
     "name": "stdout",
     "output_type": "stream",
     "text": [
      "Epoch: 20/100\n",
      "Average Discriminator loss: -0.013787455473245174\n",
      "Average Generator loss: 0.0051734725244899984\n",
      "Inception Score (IS): tensor(2.5721)\n",
      "Fréchet inception distance (FID): 3.664520740509033 \n",
      "\n"
     ]
    },
    {
     "name": "stderr",
     "output_type": "stream",
     "text": [
      "Lossy conversion from float64 to uint8. Range [0, 1]. Convert image to uint8 prior to saving to suppress this warning.\n"
     ]
    },
    {
     "name": "stdout",
     "output_type": "stream",
     "text": [
      "Epoch: 21/100\n",
      "Average Discriminator loss: -0.014330659977374888\n",
      "Average Generator loss: 0.005448854570601833\n",
      "Inception Score (IS): tensor(2.5927)\n",
      "Fréchet inception distance (FID): 3.6909563541412354 \n",
      "\n"
     ]
    },
    {
     "name": "stderr",
     "output_type": "stream",
     "text": [
      "Lossy conversion from float64 to uint8. Range [0, 1]. Convert image to uint8 prior to saving to suppress this warning.\n"
     ]
    },
    {
     "name": "stdout",
     "output_type": "stream",
     "text": [
      "Epoch: 22/100\n",
      "Average Discriminator loss: -0.014208293637364049\n",
      "Average Generator loss: 0.005417453542524276\n",
      "Inception Score (IS): tensor(2.5876)\n",
      "Fréchet inception distance (FID): 3.5230753421783447 \n",
      "\n"
     ]
    },
    {
     "name": "stderr",
     "output_type": "stream",
     "text": [
      "Lossy conversion from float64 to uint8. Range [0, 1]. Convert image to uint8 prior to saving to suppress this warning.\n"
     ]
    },
    {
     "name": "stdout",
     "output_type": "stream",
     "text": [
      "Epoch: 23/100\n",
      "Average Discriminator loss: -0.013991211588319143\n",
      "Average Generator loss: 0.005323532975049955\n",
      "Inception Score (IS): tensor(2.6048)\n",
      "Fréchet inception distance (FID): 3.375626802444458 \n",
      "\n"
     ]
    },
    {
     "name": "stderr",
     "output_type": "stream",
     "text": [
      "Lossy conversion from float64 to uint8. Range [0, 1]. Convert image to uint8 prior to saving to suppress this warning.\n"
     ]
    },
    {
     "name": "stdout",
     "output_type": "stream",
     "text": [
      "Epoch: 24/100\n",
      "Average Discriminator loss: -0.013935943939412759\n",
      "Average Generator loss: 0.005322016858830715\n",
      "Inception Score (IS): tensor(2.6201)\n",
      "Fréchet inception distance (FID): 3.417121171951294 \n",
      "\n"
     ]
    },
    {
     "name": "stderr",
     "output_type": "stream",
     "text": [
      "Lossy conversion from float64 to uint8. Range [0, 1]. Convert image to uint8 prior to saving to suppress this warning.\n"
     ]
    },
    {
     "name": "stdout",
     "output_type": "stream",
     "text": [
      "Epoch: 25/100\n",
      "Average Discriminator loss: -0.013963485529708962\n",
      "Average Generator loss: 0.005367835001312555\n",
      "Inception Score (IS): tensor(2.6218)\n",
      "Fréchet inception distance (FID): 3.313701868057251 \n",
      "\n"
     ]
    },
    {
     "name": "stderr",
     "output_type": "stream",
     "text": [
      "Lossy conversion from float64 to uint8. Range [0, 1]. Convert image to uint8 prior to saving to suppress this warning.\n"
     ]
    },
    {
     "name": "stdout",
     "output_type": "stream",
     "text": [
      "Epoch: 26/100\n",
      "Average Discriminator loss: -0.013834636520215608\n",
      "Average Generator loss: 0.005343690413388162\n",
      "Inception Score (IS): tensor(2.6250)\n",
      "Fréchet inception distance (FID): 3.2408697605133057 \n",
      "\n"
     ]
    },
    {
     "name": "stderr",
     "output_type": "stream",
     "text": [
      "Lossy conversion from float64 to uint8. Range [0, 1]. Convert image to uint8 prior to saving to suppress this warning.\n"
     ]
    },
    {
     "name": "stdout",
     "output_type": "stream",
     "text": [
      "Epoch: 27/100\n",
      "Average Discriminator loss: -0.013734861831716395\n",
      "Average Generator loss: 0.005309898462852765\n",
      "Inception Score (IS): tensor(2.6276)\n",
      "Fréchet inception distance (FID): 3.143117904663086 \n",
      "\n"
     ]
    },
    {
     "name": "stderr",
     "output_type": "stream",
     "text": [
      "Lossy conversion from float64 to uint8. Range [0, 1]. Convert image to uint8 prior to saving to suppress this warning.\n"
     ]
    },
    {
     "name": "stdout",
     "output_type": "stream",
     "text": [
      "Epoch: 28/100\n",
      "Average Discriminator loss: -0.013790707990682053\n",
      "Average Generator loss: 0.005346015040289878\n",
      "Inception Score (IS): tensor(2.6427)\n",
      "Fréchet inception distance (FID): 3.1760270595550537 \n",
      "\n"
     ]
    },
    {
     "name": "stderr",
     "output_type": "stream",
     "text": [
      "Lossy conversion from float64 to uint8. Range [0, 1]. Convert image to uint8 prior to saving to suppress this warning.\n"
     ]
    },
    {
     "name": "stdout",
     "output_type": "stream",
     "text": [
      "Epoch: 29/100\n",
      "Average Discriminator loss: -0.014059232981541733\n",
      "Average Generator loss: 0.005481829844837734\n",
      "Inception Score (IS): tensor(2.6398)\n",
      "Fréchet inception distance (FID): 3.084357976913452 \n",
      "\n"
     ]
    },
    {
     "name": "stderr",
     "output_type": "stream",
     "text": [
      "Lossy conversion from float64 to uint8. Range [0, 1]. Convert image to uint8 prior to saving to suppress this warning.\n"
     ]
    },
    {
     "name": "stdout",
     "output_type": "stream",
     "text": [
      "Epoch: 30/100\n",
      "Average Discriminator loss: -0.013833160884740552\n",
      "Average Generator loss: 0.005421179547719919\n",
      "Inception Score (IS): tensor(2.6282)\n",
      "Fréchet inception distance (FID): 3.0079452991485596 \n",
      "\n"
     ]
    },
    {
     "name": "stderr",
     "output_type": "stream",
     "text": [
      "Lossy conversion from float64 to uint8. Range [0, 1]. Convert image to uint8 prior to saving to suppress this warning.\n"
     ]
    },
    {
     "name": "stdout",
     "output_type": "stream",
     "text": [
      "Epoch: 31/100\n",
      "Average Discriminator loss: -0.013704118969840324\n",
      "Average Generator loss: 0.005370811854058043\n",
      "Inception Score (IS): tensor(2.6383)\n",
      "Fréchet inception distance (FID): 2.918368101119995 \n",
      "\n"
     ]
    },
    {
     "name": "stderr",
     "output_type": "stream",
     "text": [
      "Lossy conversion from float64 to uint8. Range [0, 1]. Convert image to uint8 prior to saving to suppress this warning.\n"
     ]
    },
    {
     "name": "stdout",
     "output_type": "stream",
     "text": [
      "Epoch: 32/100\n",
      "Average Discriminator loss: -0.013616220521084754\n",
      "Average Generator loss: 0.005347181110698201\n",
      "Inception Score (IS): tensor(2.6473)\n",
      "Fréchet inception distance (FID): 2.877737522125244 \n",
      "\n"
     ]
    },
    {
     "name": "stderr",
     "output_type": "stream",
     "text": [
      "Lossy conversion from float64 to uint8. Range [0, 1]. Convert image to uint8 prior to saving to suppress this warning.\n"
     ]
    },
    {
     "name": "stdout",
     "output_type": "stream",
     "text": [
      "Epoch: 33/100\n",
      "Average Discriminator loss: -0.013533000387676967\n",
      "Average Generator loss: 0.005319679890657788\n",
      "Inception Score (IS): tensor(2.6517)\n",
      "Fréchet inception distance (FID): 2.794278144836426 \n",
      "\n"
     ]
    },
    {
     "name": "stderr",
     "output_type": "stream",
     "text": [
      "Lossy conversion from float64 to uint8. Range [0, 1]. Convert image to uint8 prior to saving to suppress this warning.\n"
     ]
    },
    {
     "name": "stdout",
     "output_type": "stream",
     "text": [
      "Epoch: 34/100\n",
      "Average Discriminator loss: -0.01345196860979761\n",
      "Average Generator loss: 0.005300674630270092\n",
      "Inception Score (IS): tensor(2.6701)\n",
      "Fréchet inception distance (FID): 2.7136096954345703 \n",
      "\n"
     ]
    },
    {
     "name": "stderr",
     "output_type": "stream",
     "text": [
      "Lossy conversion from float64 to uint8. Range [0, 1]. Convert image to uint8 prior to saving to suppress this warning.\n"
     ]
    },
    {
     "name": "stdout",
     "output_type": "stream",
     "text": [
      "Epoch: 35/100\n",
      "Average Discriminator loss: -0.013391339711108476\n",
      "Average Generator loss: 0.005290293560580352\n",
      "Inception Score (IS): tensor(2.6823)\n",
      "Fréchet inception distance (FID): 2.649641513824463 \n",
      "\n"
     ]
    },
    {
     "name": "stderr",
     "output_type": "stream",
     "text": [
      "Lossy conversion from float64 to uint8. Range [0, 1]. Convert image to uint8 prior to saving to suppress this warning.\n"
     ]
    },
    {
     "name": "stdout",
     "output_type": "stream",
     "text": [
      "Epoch: 36/100\n",
      "Average Discriminator loss: -0.013325892723151937\n",
      "Average Generator loss: 0.005263966478259863\n",
      "Inception Score (IS): tensor(2.6871)\n",
      "Fréchet inception distance (FID): 2.6018009185791016 \n",
      "\n"
     ]
    },
    {
     "name": "stderr",
     "output_type": "stream",
     "text": [
      "Lossy conversion from float64 to uint8. Range [0, 1]. Convert image to uint8 prior to saving to suppress this warning.\n"
     ]
    },
    {
     "name": "stdout",
     "output_type": "stream",
     "text": [
      "Epoch: 37/100\n",
      "Average Discriminator loss: -0.013264324933404476\n",
      "Average Generator loss: 0.005239308904046407\n",
      "Inception Score (IS): tensor(2.7028)\n",
      "Fréchet inception distance (FID): 2.534921407699585 \n",
      "\n"
     ]
    },
    {
     "name": "stderr",
     "output_type": "stream",
     "text": [
      "Lossy conversion from float64 to uint8. Range [0, 1]. Convert image to uint8 prior to saving to suppress this warning.\n"
     ]
    },
    {
     "name": "stdout",
     "output_type": "stream",
     "text": [
      "Epoch: 38/100\n",
      "Average Discriminator loss: -0.01321407636104118\n",
      "Average Generator loss: 0.005227514840417149\n",
      "Inception Score (IS): tensor(2.7094)\n",
      "Fréchet inception distance (FID): 2.4681570529937744 \n",
      "\n"
     ]
    },
    {
     "name": "stderr",
     "output_type": "stream",
     "text": [
      "Lossy conversion from float64 to uint8. Range [0, 1]. Convert image to uint8 prior to saving to suppress this warning.\n"
     ]
    },
    {
     "name": "stdout",
     "output_type": "stream",
     "text": [
      "Epoch: 39/100\n",
      "Average Discriminator loss: -0.013145796863024582\n",
      "Average Generator loss: 0.005206855370836495\n",
      "Inception Score (IS): tensor(2.7108)\n",
      "Fréchet inception distance (FID): 2.4070088863372803 \n",
      "\n"
     ]
    },
    {
     "name": "stderr",
     "output_type": "stream",
     "text": [
      "Lossy conversion from float64 to uint8. Range [0, 1]. Convert image to uint8 prior to saving to suppress this warning.\n"
     ]
    },
    {
     "name": "stdout",
     "output_type": "stream",
     "text": [
      "Epoch: 40/100\n",
      "Average Discriminator loss: -0.013084683343866999\n",
      "Average Generator loss: 0.005191831358069976\n",
      "Inception Score (IS): tensor(2.7182)\n",
      "Fréchet inception distance (FID): 2.351929187774658 \n",
      "\n"
     ]
    },
    {
     "name": "stderr",
     "output_type": "stream",
     "text": [
      "Lossy conversion from float64 to uint8. Range [0, 1]. Convert image to uint8 prior to saving to suppress this warning.\n"
     ]
    },
    {
     "name": "stdout",
     "output_type": "stream",
     "text": [
      "Epoch: 41/100\n",
      "Average Discriminator loss: -0.013045944061181322\n",
      "Average Generator loss: 0.005174611458939084\n",
      "Inception Score (IS): tensor(2.7229)\n",
      "Fréchet inception distance (FID): 2.2960119247436523 \n",
      "\n"
     ]
    },
    {
     "name": "stderr",
     "output_type": "stream",
     "text": [
      "Lossy conversion from float64 to uint8. Range [0, 1]. Convert image to uint8 prior to saving to suppress this warning.\n"
     ]
    },
    {
     "name": "stdout",
     "output_type": "stream",
     "text": [
      "Epoch: 42/100\n",
      "Average Discriminator loss: -0.013172480940042471\n",
      "Average Generator loss: 0.005229995528351158\n",
      "Inception Score (IS): tensor(2.7305)\n",
      "Fréchet inception distance (FID): 2.342073917388916 \n",
      "\n"
     ]
    },
    {
     "name": "stderr",
     "output_type": "stream",
     "text": [
      "Lossy conversion from float64 to uint8. Range [0, 1]. Convert image to uint8 prior to saving to suppress this warning.\n"
     ]
    },
    {
     "name": "stdout",
     "output_type": "stream",
     "text": [
      "Epoch: 43/100\n",
      "Average Discriminator loss: -0.013405613003728828\n",
      "Average Generator loss: 0.005334725468852795\n",
      "Inception Score (IS): tensor(2.7316)\n",
      "Fréchet inception distance (FID): 2.3019604682922363 \n",
      "\n"
     ]
    },
    {
     "name": "stderr",
     "output_type": "stream",
     "text": [
      "Lossy conversion from float64 to uint8. Range [0, 1]. Convert image to uint8 prior to saving to suppress this warning.\n"
     ]
    },
    {
     "name": "stdout",
     "output_type": "stream",
     "text": [
      "Epoch: 44/100\n",
      "Average Discriminator loss: -0.013240664304151118\n",
      "Average Generator loss: 0.005272524569543341\n",
      "Inception Score (IS): tensor(2.7440)\n",
      "Fréchet inception distance (FID): 2.2228167057037354 \n",
      "\n"
     ]
    },
    {
     "name": "stderr",
     "output_type": "stream",
     "text": [
      "Lossy conversion from float64 to uint8. Range [0, 1]. Convert image to uint8 prior to saving to suppress this warning.\n"
     ]
    },
    {
     "name": "stdout",
     "output_type": "stream",
     "text": [
      "Epoch: 45/100\n",
      "Average Discriminator loss: -0.013115351256873641\n",
      "Average Generator loss: 0.005240291756702953\n",
      "Inception Score (IS): tensor(2.7528)\n",
      "Fréchet inception distance (FID): 2.161170482635498 \n",
      "\n"
     ]
    },
    {
     "name": "stderr",
     "output_type": "stream",
     "text": [
      "Lossy conversion from float64 to uint8. Range [0, 1]. Convert image to uint8 prior to saving to suppress this warning.\n"
     ]
    },
    {
     "name": "stdout",
     "output_type": "stream",
     "text": [
      "Epoch: 46/100\n",
      "Average Discriminator loss: -0.0130194828173301\n",
      "Average Generator loss: 0.005207315524444691\n",
      "Inception Score (IS): tensor(2.7482)\n",
      "Fréchet inception distance (FID): 2.0987651348114014 \n",
      "\n"
     ]
    },
    {
     "name": "stderr",
     "output_type": "stream",
     "text": [
      "Lossy conversion from float64 to uint8. Range [0, 1]. Convert image to uint8 prior to saving to suppress this warning.\n"
     ]
    },
    {
     "name": "stdout",
     "output_type": "stream",
     "text": [
      "Epoch: 47/100\n",
      "Average Discriminator loss: -0.01293234590638539\n",
      "Average Generator loss: 0.005163249683380853\n",
      "Inception Score (IS): tensor(2.7504)\n",
      "Fréchet inception distance (FID): 2.057800769805908 \n",
      "\n"
     ]
    },
    {
     "name": "stderr",
     "output_type": "stream",
     "text": [
      "Lossy conversion from float64 to uint8. Range [0, 1]. Convert image to uint8 prior to saving to suppress this warning.\n"
     ]
    },
    {
     "name": "stdout",
     "output_type": "stream",
     "text": [
      "Epoch: 48/100\n",
      "Average Discriminator loss: -0.012856026390788125\n",
      "Average Generator loss: 0.005127036357412491\n",
      "Inception Score (IS): tensor(2.7505)\n",
      "Fréchet inception distance (FID): 2.0154170989990234 \n",
      "\n"
     ]
    },
    {
     "name": "stderr",
     "output_type": "stream",
     "text": [
      "Lossy conversion from float64 to uint8. Range [0, 1]. Convert image to uint8 prior to saving to suppress this warning.\n"
     ]
    },
    {
     "name": "stdout",
     "output_type": "stream",
     "text": [
      "Epoch: 49/100\n",
      "Average Discriminator loss: -0.012779983112573966\n",
      "Average Generator loss: 0.00508708796749984\n",
      "Inception Score (IS): tensor(2.7519)\n",
      "Fréchet inception distance (FID): 1.9749611616134644 \n",
      "\n"
     ]
    },
    {
     "name": "stderr",
     "output_type": "stream",
     "text": [
      "Lossy conversion from float64 to uint8. Range [0, 1]. Convert image to uint8 prior to saving to suppress this warning.\n"
     ]
    },
    {
     "name": "stdout",
     "output_type": "stream",
     "text": [
      "Epoch: 50/100\n",
      "Average Discriminator loss: -0.012677991662378936\n",
      "Average Generator loss: 0.004988347625655408\n",
      "Inception Score (IS): tensor(2.7602)\n",
      "Fréchet inception distance (FID): 1.9351780414581299 \n",
      "\n"
     ]
    },
    {
     "name": "stderr",
     "output_type": "stream",
     "text": [
      "Lossy conversion from float64 to uint8. Range [0, 1]. Convert image to uint8 prior to saving to suppress this warning.\n"
     ]
    },
    {
     "name": "stdout",
     "output_type": "stream",
     "text": [
      "Epoch: 51/100\n",
      "Average Discriminator loss: -0.012613961157728048\n",
      "Average Generator loss: 0.00495720252220163\n",
      "Inception Score (IS): tensor(2.7571)\n",
      "Fréchet inception distance (FID): 1.921508550643921 \n",
      "\n"
     ]
    },
    {
     "name": "stderr",
     "output_type": "stream",
     "text": [
      "Lossy conversion from float64 to uint8. Range [0, 1]. Convert image to uint8 prior to saving to suppress this warning.\n"
     ]
    },
    {
     "name": "stdout",
     "output_type": "stream",
     "text": [
      "Epoch: 52/100\n",
      "Average Discriminator loss: -0.012542995736677132\n",
      "Average Generator loss: 0.004910802665956852\n",
      "Inception Score (IS): tensor(2.7571)\n",
      "Fréchet inception distance (FID): 1.8964924812316895 \n",
      "\n"
     ]
    },
    {
     "name": "stderr",
     "output_type": "stream",
     "text": [
      "Lossy conversion from float64 to uint8. Range [0, 1]. Convert image to uint8 prior to saving to suppress this warning.\n"
     ]
    },
    {
     "name": "stdout",
     "output_type": "stream",
     "text": [
      "Epoch: 53/100\n",
      "Average Discriminator loss: -0.012482715813441318\n",
      "Average Generator loss: 0.004873328823791673\n",
      "Inception Score (IS): tensor(2.7651)\n",
      "Fréchet inception distance (FID): 1.866174340248108 \n",
      "\n"
     ]
    },
    {
     "name": "stderr",
     "output_type": "stream",
     "text": [
      "Lossy conversion from float64 to uint8. Range [0, 1]. Convert image to uint8 prior to saving to suppress this warning.\n"
     ]
    },
    {
     "name": "stdout",
     "output_type": "stream",
     "text": [
      "Epoch: 54/100\n",
      "Average Discriminator loss: -0.012429766103861942\n",
      "Average Generator loss: 0.004836668777959336\n",
      "Inception Score (IS): tensor(2.7641)\n",
      "Fréchet inception distance (FID): 1.8552708625793457 \n",
      "\n"
     ]
    },
    {
     "name": "stderr",
     "output_type": "stream",
     "text": [
      "Lossy conversion from float64 to uint8. Range [0, 1]. Convert image to uint8 prior to saving to suppress this warning.\n"
     ]
    },
    {
     "name": "stdout",
     "output_type": "stream",
     "text": [
      "Epoch: 55/100\n",
      "Average Discriminator loss: -0.012401588884268297\n",
      "Average Generator loss: 0.004810810265806856\n",
      "Inception Score (IS): tensor(2.7598)\n",
      "Fréchet inception distance (FID): 1.8285233974456787 \n",
      "\n"
     ]
    },
    {
     "name": "stderr",
     "output_type": "stream",
     "text": [
      "Lossy conversion from float64 to uint8. Range [0, 1]. Convert image to uint8 prior to saving to suppress this warning.\n"
     ]
    },
    {
     "name": "stdout",
     "output_type": "stream",
     "text": [
      "Epoch: 56/100\n",
      "Average Discriminator loss: -0.012342908360588165\n",
      "Average Generator loss: 0.00477800020093254\n",
      "Inception Score (IS): tensor(2.7613)\n",
      "Fréchet inception distance (FID): 1.8112879991531372 \n",
      "\n"
     ]
    },
    {
     "name": "stderr",
     "output_type": "stream",
     "text": [
      "Lossy conversion from float64 to uint8. Range [0, 1]. Convert image to uint8 prior to saving to suppress this warning.\n"
     ]
    },
    {
     "name": "stdout",
     "output_type": "stream",
     "text": [
      "Epoch: 57/100\n",
      "Average Discriminator loss: -0.012284400899103194\n",
      "Average Generator loss: 0.004734447695725074\n",
      "Inception Score (IS): tensor(2.7613)\n",
      "Fréchet inception distance (FID): 1.774988055229187 \n",
      "\n"
     ]
    },
    {
     "name": "stderr",
     "output_type": "stream",
     "text": [
      "Lossy conversion from float64 to uint8. Range [0, 1]. Convert image to uint8 prior to saving to suppress this warning.\n"
     ]
    },
    {
     "name": "stdout",
     "output_type": "stream",
     "text": [
      "Epoch: 58/100\n",
      "Average Discriminator loss: -0.012230130059282108\n",
      "Average Generator loss: 0.004698014574216864\n",
      "Inception Score (IS): tensor(2.7656)\n",
      "Fréchet inception distance (FID): 1.7540545463562012 \n",
      "\n"
     ]
    },
    {
     "name": "stderr",
     "output_type": "stream",
     "text": [
      "Lossy conversion from float64 to uint8. Range [0, 1]. Convert image to uint8 prior to saving to suppress this warning.\n"
     ]
    },
    {
     "name": "stdout",
     "output_type": "stream",
     "text": [
      "Epoch: 59/100\n",
      "Average Discriminator loss: -0.0121756280127993\n",
      "Average Generator loss: 0.004663946955265543\n",
      "Inception Score (IS): tensor(2.7704)\n",
      "Fréchet inception distance (FID): 1.7195936441421509 \n",
      "\n"
     ]
    },
    {
     "name": "stderr",
     "output_type": "stream",
     "text": [
      "Lossy conversion from float64 to uint8. Range [0, 1]. Convert image to uint8 prior to saving to suppress this warning.\n"
     ]
    },
    {
     "name": "stdout",
     "output_type": "stream",
     "text": [
      "Epoch: 60/100\n",
      "Average Discriminator loss: -0.01212623940505765\n",
      "Average Generator loss: 0.004623372702210165\n",
      "Inception Score (IS): tensor(2.7720)\n",
      "Fréchet inception distance (FID): 1.6922720670700073 \n",
      "\n"
     ]
    },
    {
     "name": "stderr",
     "output_type": "stream",
     "text": [
      "Lossy conversion from float64 to uint8. Range [0, 1]. Convert image to uint8 prior to saving to suppress this warning.\n"
     ]
    },
    {
     "name": "stdout",
     "output_type": "stream",
     "text": [
      "Epoch: 61/100\n",
      "Average Discriminator loss: -0.012074248472455164\n",
      "Average Generator loss: 0.004584022651192171\n",
      "Inception Score (IS): tensor(2.7774)\n",
      "Fréchet inception distance (FID): 1.6776634454727173 \n",
      "\n"
     ]
    },
    {
     "name": "stderr",
     "output_type": "stream",
     "text": [
      "Lossy conversion from float64 to uint8. Range [0, 1]. Convert image to uint8 prior to saving to suppress this warning.\n"
     ]
    },
    {
     "name": "stdout",
     "output_type": "stream",
     "text": [
      "Epoch: 62/100\n",
      "Average Discriminator loss: -0.012035213825078397\n",
      "Average Generator loss: 0.00455682051284983\n",
      "Inception Score (IS): tensor(2.7733)\n",
      "Fréchet inception distance (FID): 1.6570262908935547 \n",
      "\n"
     ]
    },
    {
     "name": "stderr",
     "output_type": "stream",
     "text": [
      "Lossy conversion from float64 to uint8. Range [0, 1]. Convert image to uint8 prior to saving to suppress this warning.\n"
     ]
    },
    {
     "name": "stdout",
     "output_type": "stream",
     "text": [
      "Epoch: 63/100\n",
      "Average Discriminator loss: -0.011977355610042187\n",
      "Average Generator loss: 0.004514960431777798\n",
      "Inception Score (IS): tensor(2.7733)\n",
      "Fréchet inception distance (FID): 1.6446267366409302 \n",
      "\n"
     ]
    },
    {
     "name": "stderr",
     "output_type": "stream",
     "text": [
      "Lossy conversion from float64 to uint8. Range [0, 1]. Convert image to uint8 prior to saving to suppress this warning.\n"
     ]
    },
    {
     "name": "stdout",
     "output_type": "stream",
     "text": [
      "Epoch: 64/100\n",
      "Average Discriminator loss: -0.011929647738661049\n",
      "Average Generator loss: 0.004486308023332733\n",
      "Inception Score (IS): tensor(2.7790)\n",
      "Fréchet inception distance (FID): 1.632379412651062 \n",
      "\n"
     ]
    },
    {
     "name": "stderr",
     "output_type": "stream",
     "text": [
      "Lossy conversion from float64 to uint8. Range [0, 1]. Convert image to uint8 prior to saving to suppress this warning.\n"
     ]
    },
    {
     "name": "stdout",
     "output_type": "stream",
     "text": [
      "Epoch: 65/100\n",
      "Average Discriminator loss: -0.011885213235530247\n",
      "Average Generator loss: 0.0044465723428960165\n",
      "Inception Score (IS): tensor(2.7844)\n",
      "Fréchet inception distance (FID): 1.6031359434127808 \n",
      "\n"
     ]
    },
    {
     "name": "stderr",
     "output_type": "stream",
     "text": [
      "Lossy conversion from float64 to uint8. Range [0, 1]. Convert image to uint8 prior to saving to suppress this warning.\n"
     ]
    },
    {
     "name": "stdout",
     "output_type": "stream",
     "text": [
      "Epoch: 66/100\n",
      "Average Discriminator loss: -0.011814257132565205\n",
      "Average Generator loss: 0.004365961843479253\n",
      "Inception Score (IS): tensor(2.7838)\n",
      "Fréchet inception distance (FID): 1.5877621173858643 \n",
      "\n"
     ]
    },
    {
     "name": "stderr",
     "output_type": "stream",
     "text": [
      "Lossy conversion from float64 to uint8. Range [0, 1]. Convert image to uint8 prior to saving to suppress this warning.\n"
     ]
    },
    {
     "name": "stdout",
     "output_type": "stream",
     "text": [
      "Epoch: 67/100\n",
      "Average Discriminator loss: -0.01176123812489524\n",
      "Average Generator loss: 0.004329123554303086\n",
      "Inception Score (IS): tensor(2.7901)\n",
      "Fréchet inception distance (FID): 1.5774531364440918 \n",
      "\n"
     ]
    },
    {
     "name": "stderr",
     "output_type": "stream",
     "text": [
      "Lossy conversion from float64 to uint8. Range [0, 1]. Convert image to uint8 prior to saving to suppress this warning.\n"
     ]
    },
    {
     "name": "stdout",
     "output_type": "stream",
     "text": [
      "Epoch: 68/100\n",
      "Average Discriminator loss: -0.01170599758192314\n",
      "Average Generator loss: 0.004292952691753648\n",
      "Inception Score (IS): tensor(2.7952)\n",
      "Fréchet inception distance (FID): 1.5570979118347168 \n",
      "\n"
     ]
    },
    {
     "name": "stderr",
     "output_type": "stream",
     "text": [
      "Lossy conversion from float64 to uint8. Range [0, 1]. Convert image to uint8 prior to saving to suppress this warning.\n"
     ]
    },
    {
     "name": "stdout",
     "output_type": "stream",
     "text": [
      "Epoch: 69/100\n",
      "Average Discriminator loss: -0.011658349348551979\n",
      "Average Generator loss: 0.0042627099931774525\n",
      "Inception Score (IS): tensor(2.7961)\n",
      "Fréchet inception distance (FID): 1.5383386611938477 \n",
      "\n"
     ]
    },
    {
     "name": "stderr",
     "output_type": "stream",
     "text": [
      "Lossy conversion from float64 to uint8. Range [0, 1]. Convert image to uint8 prior to saving to suppress this warning.\n"
     ]
    },
    {
     "name": "stdout",
     "output_type": "stream",
     "text": [
      "Epoch: 70/100\n",
      "Average Discriminator loss: -0.011607779951169345\n",
      "Average Generator loss: 0.004229778250298492\n",
      "Inception Score (IS): tensor(2.7989)\n",
      "Fréchet inception distance (FID): 1.5248383283615112 \n",
      "\n"
     ]
    },
    {
     "name": "stderr",
     "output_type": "stream",
     "text": [
      "Lossy conversion from float64 to uint8. Range [0, 1]. Convert image to uint8 prior to saving to suppress this warning.\n"
     ]
    },
    {
     "name": "stdout",
     "output_type": "stream",
     "text": [
      "Epoch: 71/100\n",
      "Average Discriminator loss: -0.011559706605710743\n",
      "Average Generator loss: 0.0042034803853741665\n",
      "Inception Score (IS): tensor(2.7995)\n",
      "Fréchet inception distance (FID): 1.5028741359710693 \n",
      "\n"
     ]
    },
    {
     "name": "stderr",
     "output_type": "stream",
     "text": [
      "Lossy conversion from float64 to uint8. Range [0, 1]. Convert image to uint8 prior to saving to suppress this warning.\n"
     ]
    },
    {
     "name": "stdout",
     "output_type": "stream",
     "text": [
      "Epoch: 72/100\n",
      "Average Discriminator loss: -0.011685603010779165\n",
      "Average Generator loss: 0.004243675213636514\n",
      "Inception Score (IS): tensor(2.8077)\n",
      "Fréchet inception distance (FID): 1.5287909507751465 \n",
      "\n"
     ]
    },
    {
     "name": "stderr",
     "output_type": "stream",
     "text": [
      "Lossy conversion from float64 to uint8. Range [0, 1]. Convert image to uint8 prior to saving to suppress this warning.\n"
     ]
    },
    {
     "name": "stdout",
     "output_type": "stream",
     "text": [
      "Epoch: 73/100\n",
      "Average Discriminator loss: -0.011787568759583901\n",
      "Average Generator loss: 0.0042796420503366595\n",
      "Inception Score (IS): tensor(2.8118)\n",
      "Fréchet inception distance (FID): 1.5227617025375366 \n",
      "\n"
     ]
    },
    {
     "name": "stderr",
     "output_type": "stream",
     "text": [
      "Lossy conversion from float64 to uint8. Range [0, 1]. Convert image to uint8 prior to saving to suppress this warning.\n"
     ]
    },
    {
     "name": "stdout",
     "output_type": "stream",
     "text": [
      "Epoch: 74/100\n",
      "Average Discriminator loss: -0.011704350139765878\n",
      "Average Generator loss: 0.004239049192712511\n",
      "Inception Score (IS): tensor(2.8170)\n",
      "Fréchet inception distance (FID): 1.5073730945587158 \n",
      "\n"
     ]
    },
    {
     "name": "stderr",
     "output_type": "stream",
     "text": [
      "Lossy conversion from float64 to uint8. Range [0, 1]. Convert image to uint8 prior to saving to suppress this warning.\n"
     ]
    },
    {
     "name": "stdout",
     "output_type": "stream",
     "text": [
      "Epoch: 75/100\n",
      "Average Discriminator loss: -0.011640589807712888\n",
      "Average Generator loss: 0.0042117256006559516\n",
      "Inception Score (IS): tensor(2.8212)\n",
      "Fréchet inception distance (FID): 1.4870070219039917 \n",
      "\n"
     ]
    },
    {
     "name": "stderr",
     "output_type": "stream",
     "text": [
      "Lossy conversion from float64 to uint8. Range [0, 1]. Convert image to uint8 prior to saving to suppress this warning.\n"
     ]
    },
    {
     "name": "stdout",
     "output_type": "stream",
     "text": [
      "Epoch: 76/100\n",
      "Average Discriminator loss: -0.011589194604690106\n",
      "Average Generator loss: 0.0041868087711345444\n",
      "Inception Score (IS): tensor(2.8271)\n",
      "Fréchet inception distance (FID): 1.4664185047149658 \n",
      "\n"
     ]
    },
    {
     "name": "stderr",
     "output_type": "stream",
     "text": [
      "Lossy conversion from float64 to uint8. Range [0, 1]. Convert image to uint8 prior to saving to suppress this warning.\n"
     ]
    },
    {
     "name": "stdout",
     "output_type": "stream",
     "text": [
      "Epoch: 77/100\n",
      "Average Discriminator loss: -0.011543337203774272\n",
      "Average Generator loss: 0.004162858230070246\n",
      "Inception Score (IS): tensor(2.8284)\n",
      "Fréchet inception distance (FID): 1.4495294094085693 \n",
      "\n"
     ]
    },
    {
     "name": "stderr",
     "output_type": "stream",
     "text": [
      "Lossy conversion from float64 to uint8. Range [0, 1]. Convert image to uint8 prior to saving to suppress this warning.\n"
     ]
    },
    {
     "name": "stdout",
     "output_type": "stream",
     "text": [
      "Epoch: 78/100\n",
      "Average Discriminator loss: -0.011500001430859459\n",
      "Average Generator loss: 0.004139823126511305\n",
      "Inception Score (IS): tensor(2.8308)\n",
      "Fréchet inception distance (FID): 1.4325660467147827 \n",
      "\n"
     ]
    },
    {
     "name": "stderr",
     "output_type": "stream",
     "text": [
      "Lossy conversion from float64 to uint8. Range [0, 1]. Convert image to uint8 prior to saving to suppress this warning.\n"
     ]
    },
    {
     "name": "stdout",
     "output_type": "stream",
     "text": [
      "Epoch: 79/100\n",
      "Average Discriminator loss: -0.011458804379761618\n",
      "Average Generator loss: 0.004116777150543449\n",
      "Inception Score (IS): tensor(2.8342)\n",
      "Fréchet inception distance (FID): 1.4235345125198364 \n",
      "\n"
     ]
    },
    {
     "name": "stderr",
     "output_type": "stream",
     "text": [
      "Lossy conversion from float64 to uint8. Range [0, 1]. Convert image to uint8 prior to saving to suppress this warning.\n"
     ]
    },
    {
     "name": "stdout",
     "output_type": "stream",
     "text": [
      "Epoch: 80/100\n",
      "Average Discriminator loss: -0.011420257643686245\n",
      "Average Generator loss: 0.00409239402553491\n",
      "Inception Score (IS): tensor(2.8387)\n",
      "Fréchet inception distance (FID): 1.409907341003418 \n",
      "\n"
     ]
    },
    {
     "name": "stderr",
     "output_type": "stream",
     "text": [
      "Lossy conversion from float64 to uint8. Range [0, 1]. Convert image to uint8 prior to saving to suppress this warning.\n"
     ]
    },
    {
     "name": "stdout",
     "output_type": "stream",
     "text": [
      "Epoch: 81/100\n",
      "Average Discriminator loss: -0.011384012478579494\n",
      "Average Generator loss: 0.004071276489102625\n",
      "Inception Score (IS): tensor(2.8473)\n",
      "Fréchet inception distance (FID): 1.3892056941986084 \n",
      "\n"
     ]
    },
    {
     "name": "stderr",
     "output_type": "stream",
     "text": [
      "Lossy conversion from float64 to uint8. Range [0, 1]. Convert image to uint8 prior to saving to suppress this warning.\n"
     ]
    },
    {
     "name": "stdout",
     "output_type": "stream",
     "text": [
      "Epoch: 82/100\n",
      "Average Discriminator loss: -0.011349354431479903\n",
      "Average Generator loss: 0.004049104227209394\n",
      "Inception Score (IS): tensor(2.8537)\n",
      "Fréchet inception distance (FID): 1.374827265739441 \n",
      "\n"
     ]
    },
    {
     "name": "stderr",
     "output_type": "stream",
     "text": [
      "Lossy conversion from float64 to uint8. Range [0, 1]. Convert image to uint8 prior to saving to suppress this warning.\n"
     ]
    },
    {
     "name": "stdout",
     "output_type": "stream",
     "text": [
      "Epoch: 83/100\n",
      "Average Discriminator loss: -0.011316628485848742\n",
      "Average Generator loss: 0.004025262576808208\n",
      "Inception Score (IS): tensor(2.8599)\n",
      "Fréchet inception distance (FID): 1.3593579530715942 \n",
      "\n"
     ]
    },
    {
     "name": "stderr",
     "output_type": "stream",
     "text": [
      "Lossy conversion from float64 to uint8. Range [0, 1]. Convert image to uint8 prior to saving to suppress this warning.\n"
     ]
    },
    {
     "name": "stdout",
     "output_type": "stream",
     "text": [
      "Epoch: 84/100\n",
      "Average Discriminator loss: -0.011286174512019426\n",
      "Average Generator loss: 0.004004866768227557\n",
      "Inception Score (IS): tensor(2.8594)\n",
      "Fréchet inception distance (FID): 1.3459842205047607 \n",
      "\n"
     ]
    },
    {
     "name": "stderr",
     "output_type": "stream",
     "text": [
      "Lossy conversion from float64 to uint8. Range [0, 1]. Convert image to uint8 prior to saving to suppress this warning.\n"
     ]
    },
    {
     "name": "stdout",
     "output_type": "stream",
     "text": [
      "Epoch: 85/100\n",
      "Average Discriminator loss: -0.011238969987853386\n",
      "Average Generator loss: 0.0039658851672241605\n",
      "Inception Score (IS): tensor(2.8632)\n",
      "Fréchet inception distance (FID): 1.3289560079574585 \n",
      "\n"
     ]
    },
    {
     "name": "stderr",
     "output_type": "stream",
     "text": [
      "Lossy conversion from float64 to uint8. Range [0, 1]. Convert image to uint8 prior to saving to suppress this warning.\n"
     ]
    },
    {
     "name": "stdout",
     "output_type": "stream",
     "text": [
      "Epoch: 86/100\n",
      "Average Discriminator loss: -0.011189536480986442\n",
      "Average Generator loss: 0.003931741876827788\n",
      "Inception Score (IS): tensor(2.8701)\n",
      "Fréchet inception distance (FID): 1.314595341682434 \n",
      "\n"
     ]
    },
    {
     "name": "stderr",
     "output_type": "stream",
     "text": [
      "Lossy conversion from float64 to uint8. Range [0, 1]. Convert image to uint8 prior to saving to suppress this warning.\n"
     ]
    },
    {
     "name": "stdout",
     "output_type": "stream",
     "text": [
      "Epoch: 87/100\n",
      "Average Discriminator loss: -0.011152319641928933\n",
      "Average Generator loss: 0.003907254625538861\n",
      "Inception Score (IS): tensor(2.8751)\n",
      "Fréchet inception distance (FID): 1.3010197877883911 \n",
      "\n"
     ]
    },
    {
     "name": "stderr",
     "output_type": "stream",
     "text": [
      "Lossy conversion from float64 to uint8. Range [0, 1]. Convert image to uint8 prior to saving to suppress this warning.\n"
     ]
    },
    {
     "name": "stdout",
     "output_type": "stream",
     "text": [
      "Epoch: 88/100\n",
      "Average Discriminator loss: -0.011115939811740342\n",
      "Average Generator loss: 0.0038838239010195166\n",
      "Inception Score (IS): tensor(2.8760)\n",
      "Fréchet inception distance (FID): 1.2842751741409302 \n",
      "\n"
     ]
    },
    {
     "name": "stderr",
     "output_type": "stream",
     "text": [
      "Lossy conversion from float64 to uint8. Range [0, 1]. Convert image to uint8 prior to saving to suppress this warning.\n"
     ]
    },
    {
     "name": "stdout",
     "output_type": "stream",
     "text": [
      "Epoch: 89/100\n",
      "Average Discriminator loss: -0.011079351381535478\n",
      "Average Generator loss: 0.0038583758943432703\n",
      "Inception Score (IS): tensor(2.8851)\n",
      "Fréchet inception distance (FID): 1.272884726524353 \n",
      "\n"
     ]
    },
    {
     "name": "stderr",
     "output_type": "stream",
     "text": [
      "Lossy conversion from float64 to uint8. Range [0, 1]. Convert image to uint8 prior to saving to suppress this warning.\n"
     ]
    },
    {
     "name": "stdout",
     "output_type": "stream",
     "text": [
      "Epoch: 90/100\n",
      "Average Discriminator loss: -0.011042660644860505\n",
      "Average Generator loss: 0.003834805622716269\n",
      "Inception Score (IS): tensor(2.8917)\n",
      "Fréchet inception distance (FID): 1.2604937553405762 \n",
      "\n"
     ]
    },
    {
     "name": "stderr",
     "output_type": "stream",
     "text": [
      "Lossy conversion from float64 to uint8. Range [0, 1]. Convert image to uint8 prior to saving to suppress this warning.\n"
     ]
    },
    {
     "name": "stdout",
     "output_type": "stream",
     "text": [
      "Epoch: 91/100\n",
      "Average Discriminator loss: -0.011009558889958368\n",
      "Average Generator loss: 0.0038087429429605694\n",
      "Inception Score (IS): tensor(2.8996)\n",
      "Fréchet inception distance (FID): 1.2450454235076904 \n",
      "\n"
     ]
    },
    {
     "name": "stderr",
     "output_type": "stream",
     "text": [
      "Lossy conversion from float64 to uint8. Range [0, 1]. Convert image to uint8 prior to saving to suppress this warning.\n"
     ]
    },
    {
     "name": "stdout",
     "output_type": "stream",
     "text": [
      "Epoch: 92/100\n",
      "Average Discriminator loss: -0.010975899172444972\n",
      "Average Generator loss: 0.0037876233053331996\n",
      "Inception Score (IS): tensor(2.9079)\n",
      "Fréchet inception distance (FID): 1.2413004636764526 \n",
      "\n"
     ]
    },
    {
     "name": "stderr",
     "output_type": "stream",
     "text": [
      "Lossy conversion from float64 to uint8. Range [0, 1]. Convert image to uint8 prior to saving to suppress this warning.\n"
     ]
    },
    {
     "name": "stdout",
     "output_type": "stream",
     "text": [
      "Epoch: 93/100\n",
      "Average Discriminator loss: -0.010941422304275049\n",
      "Average Generator loss: 0.003766709040506682\n",
      "Inception Score (IS): tensor(2.9193)\n",
      "Fréchet inception distance (FID): 1.2343502044677734 \n",
      "\n"
     ]
    },
    {
     "name": "stderr",
     "output_type": "stream",
     "text": [
      "Lossy conversion from float64 to uint8. Range [0, 1]. Convert image to uint8 prior to saving to suppress this warning.\n"
     ]
    },
    {
     "name": "stdout",
     "output_type": "stream",
     "text": [
      "Epoch: 94/100\n",
      "Average Discriminator loss: -0.010908331435654813\n",
      "Average Generator loss: 0.003745676874327929\n",
      "Inception Score (IS): tensor(2.9268)\n",
      "Fréchet inception distance (FID): 1.218278408050537 \n",
      "\n"
     ]
    },
    {
     "name": "stderr",
     "output_type": "stream",
     "text": [
      "Lossy conversion from float64 to uint8. Range [0, 1]. Convert image to uint8 prior to saving to suppress this warning.\n"
     ]
    },
    {
     "name": "stdout",
     "output_type": "stream",
     "text": [
      "Epoch: 95/100\n",
      "Average Discriminator loss: -0.010871119504530069\n",
      "Average Generator loss: 0.0037094760999886937\n",
      "Inception Score (IS): tensor(2.9329)\n",
      "Fréchet inception distance (FID): 1.2014110088348389 \n",
      "\n"
     ]
    },
    {
     "name": "stderr",
     "output_type": "stream",
     "text": [
      "Lossy conversion from float64 to uint8. Range [0, 1]. Convert image to uint8 prior to saving to suppress this warning.\n"
     ]
    },
    {
     "name": "stdout",
     "output_type": "stream",
     "text": [
      "Epoch: 96/100\n",
      "Average Discriminator loss: -0.010828702697622209\n",
      "Average Generator loss: 0.00368319778276158\n",
      "Inception Score (IS): tensor(2.9362)\n",
      "Fréchet inception distance (FID): 1.191487193107605 \n",
      "\n"
     ]
    },
    {
     "name": "stderr",
     "output_type": "stream",
     "text": [
      "Lossy conversion from float64 to uint8. Range [0, 1]. Convert image to uint8 prior to saving to suppress this warning.\n"
     ]
    },
    {
     "name": "stdout",
     "output_type": "stream",
     "text": [
      "Epoch: 97/100\n",
      "Average Discriminator loss: -0.01078953450573934\n",
      "Average Generator loss: 0.0036582775988810387\n",
      "Inception Score (IS): tensor(2.9470)\n",
      "Fréchet inception distance (FID): 1.1809736490249634 \n",
      "\n"
     ]
    },
    {
     "name": "stderr",
     "output_type": "stream",
     "text": [
      "Lossy conversion from float64 to uint8. Range [0, 1]. Convert image to uint8 prior to saving to suppress this warning.\n"
     ]
    },
    {
     "name": "stdout",
     "output_type": "stream",
     "text": [
      "Epoch: 98/100\n",
      "Average Discriminator loss: -0.01074397524093223\n",
      "Average Generator loss: 0.00362519810305086\n",
      "Inception Score (IS): tensor(2.9536)\n",
      "Fréchet inception distance (FID): 1.1712243556976318 \n",
      "\n"
     ]
    },
    {
     "name": "stderr",
     "output_type": "stream",
     "text": [
      "Lossy conversion from float64 to uint8. Range [0, 1]. Convert image to uint8 prior to saving to suppress this warning.\n"
     ]
    },
    {
     "name": "stdout",
     "output_type": "stream",
     "text": [
      "Epoch: 99/100\n",
      "Average Discriminator loss: -0.010700180463436517\n",
      "Average Generator loss: 0.003593114649524934\n",
      "Inception Score (IS): tensor(2.9620)\n",
      "Fréchet inception distance (FID): 1.1549863815307617 \n",
      "\n"
     ]
    },
    {
     "name": "stderr",
     "output_type": "stream",
     "text": [
      "Lossy conversion from float64 to uint8. Range [0, 1]. Convert image to uint8 prior to saving to suppress this warning.\n"
     ]
    },
    {
     "name": "stdout",
     "output_type": "stream",
     "text": [
      "Epoch: 100/100\n",
      "Average Discriminator loss: -0.010629708414575688\n",
      "Average Generator loss: 0.003545922839909205\n",
      "Inception Score (IS): tensor(2.9716)\n",
      "Fréchet inception distance (FID): 1.1421915292739868 \n",
      "\n",
      "Training finished.\n"
     ]
    },
    {
     "data": {
      "image/png": "[encoded data removed]",
      "text/plain": [
       "<Figure size 640x480 with 1 Axes>"
      ]
     },
     "metadata": {},
     "output_type": "display_data"
    },
    {
     "data": {
      "image/png": "[encoded data removed]",
      "text/plain": [
       "<Figure size 640x480 with 1 Axes>"
      ]
     },
     "metadata": {},
     "output_type": "display_data"
    },
    {
     "data": {
      "image/png": "[encoded data removed]",
      "text/plain": [
       "<Figure size 640x480 with 1 Axes>"
      ]
     },
     "metadata": {},
     "output_type": "display_data"
    }
   ],
   "source": [
    "wgan.train()"
   ]
  },
  {
   "cell_type": "code",
   "execution_count": 8,
   "metadata": {},
   "outputs": [
    {
     "name": "stdout",
     "output_type": "stream",
     "text": [
      "Start training!\n"
     ]
    },
    {
     "name": "stderr",
     "output_type": "stream",
     "text": [
      "Lossy conversion from float64 to uint8. Range [0, 1]. Convert image to uint8 prior to saving to suppress this warning.\n"
     ]
    },
    {
     "name": "stdout",
     "output_type": "stream",
     "text": [
      "Epoch: 1/100\n",
      "Average Discriminator loss: -5.188667017775468\n",
      "Average Generator loss: 4.224603047546668\n",
      "\n",
      "Inception Score (IS): tensor(1.1746)\n",
      "Fréchet inception distance (FID): tensor(24.4173) \n",
      "\n"
     ]
    },
    {
     "name": "stderr",
     "output_type": "stream",
     "text": [
      "Lossy conversion from float64 to uint8. Range [0, 1]. Convert image to uint8 prior to saving to suppress this warning.\n"
     ]
    },
    {
     "name": "stdout",
     "output_type": "stream",
     "text": [
      "Epoch: 2/100\n",
      "Average Discriminator loss: -6.892020454057134\n",
      "Average Generator loss: 8.84148473607806\n",
      "\n",
      "Inception Score (IS): tensor(1.4227)\n",
      "Fréchet inception distance (FID): tensor(26.2806) \n",
      "\n"
     ]
    },
    {
     "name": "stderr",
     "output_type": "stream",
     "text": [
      "Lossy conversion from float64 to uint8. Range [0, 1]. Convert image to uint8 prior to saving to suppress this warning.\n"
     ]
    },
    {
     "name": "stdout",
     "output_type": "stream",
     "text": [
      "Epoch: 3/100\n",
      "Average Discriminator loss: -5.268871683882088\n",
      "Average Generator loss: 8.791640357010895\n",
      "\n",
      "Inception Score (IS): tensor(1.9006)\n",
      "Fréchet inception distance (FID): tensor(19.3572) \n",
      "\n"
     ]
    },
    {
     "name": "stderr",
     "output_type": "stream",
     "text": [
      "Lossy conversion from float64 to uint8. Range [0, 1]. Convert image to uint8 prior to saving to suppress this warning.\n"
     ]
    },
    {
     "name": "stdout",
     "output_type": "stream",
     "text": [
      "Epoch: 4/100\n",
      "Average Discriminator loss: -4.315402626633071\n",
      "Average Generator loss: 8.564311081734605\n",
      "\n",
      "Inception Score (IS): tensor(2.1524)\n",
      "Fréchet inception distance (FID): tensor(15.2026) \n",
      "\n"
     ]
    },
    {
     "name": "stderr",
     "output_type": "stream",
     "text": [
      "Lossy conversion from float64 to uint8. Range [0, 1]. Convert image to uint8 prior to saving to suppress this warning.\n"
     ]
    },
    {
     "name": "stdout",
     "output_type": "stream",
     "text": [
      "Epoch: 5/100\n",
      "Average Discriminator loss: -3.726014588983395\n",
      "Average Generator loss: 8.639023114435183\n",
      "\n",
      "Inception Score (IS): tensor(2.2332)\n",
      "Fréchet inception distance (FID): tensor(12.7154) \n",
      "\n"
     ]
    },
    {
     "name": "stderr",
     "output_type": "stream",
     "text": [
      "Lossy conversion from float64 to uint8. Range [0, 1]. Convert image to uint8 prior to saving to suppress this warning.\n"
     ]
    },
    {
     "name": "stdout",
     "output_type": "stream",
     "text": [
      "Epoch: 6/100\n",
      "Average Discriminator loss: -3.3431934383976407\n",
      "Average Generator loss: 8.930389577475113\n",
      "\n",
      "Inception Score (IS): tensor(2.3271)\n",
      "Fréchet inception distance (FID): tensor(11.1090) \n",
      "\n"
     ]
    },
    {
     "name": "stderr",
     "output_type": "stream",
     "text": [
      "Lossy conversion from float64 to uint8. Range [0, 1]. Convert image to uint8 prior to saving to suppress this warning.\n"
     ]
    },
    {
     "name": "stdout",
     "output_type": "stream",
     "text": [
      "Epoch: 7/100\n",
      "Average Discriminator loss: -3.096251322468231\n",
      "Average Generator loss: 9.250463227185357\n",
      "\n",
      "Inception Score (IS): tensor(2.3716)\n",
      "Fréchet inception distance (FID): tensor(9.7407) \n",
      "\n"
     ]
    },
    {
     "name": "stderr",
     "output_type": "stream",
     "text": [
      "Lossy conversion from float64 to uint8. Range [0, 1]. Convert image to uint8 prior to saving to suppress this warning.\n"
     ]
    },
    {
     "name": "stdout",
     "output_type": "stream",
     "text": [
      "Epoch: 8/100\n",
      "Average Discriminator loss: -2.936305544995822\n",
      "Average Generator loss: 9.594944269205325\n",
      "\n",
      "Inception Score (IS): tensor(2.3808)\n",
      "Fréchet inception distance (FID): tensor(8.4857) \n",
      "\n"
     ]
    },
    {
     "name": "stderr",
     "output_type": "stream",
     "text": [
      "Lossy conversion from float64 to uint8. Range [0, 1]. Convert image to uint8 prior to saving to suppress this warning.\n"
     ]
    },
    {
     "name": "stdout",
     "output_type": "stream",
     "text": [
      "Epoch: 9/100\n",
      "Average Discriminator loss: -2.8323426002217325\n",
      "Average Generator loss: 9.972396624372726\n",
      "\n",
      "Inception Score (IS): tensor(2.3838)\n",
      "Fréchet inception distance (FID): tensor(7.6805) \n",
      "\n"
     ]
    },
    {
     "name": "stderr",
     "output_type": "stream",
     "text": [
      "Lossy conversion from float64 to uint8. Range [0, 1]. Convert image to uint8 prior to saving to suppress this warning.\n"
     ]
    },
    {
     "name": "stdout",
     "output_type": "stream",
     "text": [
      "Epoch: 10/100\n",
      "Average Discriminator loss: -2.7539658446055957\n",
      "Average Generator loss: 10.263794616533396\n",
      "\n",
      "Inception Score (IS): tensor(2.3888)\n",
      "Fréchet inception distance (FID): tensor(6.9894) \n",
      "\n"
     ]
    },
    {
     "name": "stderr",
     "output_type": "stream",
     "text": [
      "Lossy conversion from float64 to uint8. Range [0, 1]. Convert image to uint8 prior to saving to suppress this warning.\n"
     ]
    },
    {
     "name": "stdout",
     "output_type": "stream",
     "text": [
      "Epoch: 11/100\n",
      "Average Discriminator loss: -2.707681304551574\n",
      "Average Generator loss: 10.449481172144136\n",
      "\n",
      "Inception Score (IS): tensor(2.4251)\n",
      "Fréchet inception distance (FID): tensor(6.3079) \n",
      "\n"
     ]
    },
    {
     "name": "stderr",
     "output_type": "stream",
     "text": [
      "Lossy conversion from float64 to uint8. Range [0, 1]. Convert image to uint8 prior to saving to suppress this warning.\n"
     ]
    },
    {
     "name": "stdout",
     "output_type": "stream",
     "text": [
      "Epoch: 12/100\n",
      "Average Discriminator loss: -2.684950784398004\n",
      "Average Generator loss: 10.537882787024236\n",
      "\n",
      "Inception Score (IS): tensor(2.4835)\n",
      "Fréchet inception distance (FID): tensor(5.8488) \n",
      "\n"
     ]
    },
    {
     "name": "stderr",
     "output_type": "stream",
     "text": [
      "Lossy conversion from float64 to uint8. Range [0, 1]. Convert image to uint8 prior to saving to suppress this warning.\n"
     ]
    },
    {
     "name": "stdout",
     "output_type": "stream",
     "text": [
      "Epoch: 13/100\n",
      "Average Discriminator loss: -2.633981955834688\n",
      "Average Generator loss: 10.514412996787174\n",
      "\n",
      "Inception Score (IS): tensor(2.5125)\n",
      "Fréchet inception distance (FID): tensor(5.3781) \n",
      "\n"
     ]
    },
    {
     "name": "stderr",
     "output_type": "stream",
     "text": [
      "Lossy conversion from float64 to uint8. Range [0, 1]. Convert image to uint8 prior to saving to suppress this warning.\n"
     ]
    },
    {
     "name": "stdout",
     "output_type": "stream",
     "text": [
      "Epoch: 14/100\n",
      "Average Discriminator loss: -2.599723955384377\n",
      "Average Generator loss: 10.298917225415344\n",
      "\n",
      "Inception Score (IS): tensor(2.5306)\n",
      "Fréchet inception distance (FID): tensor(4.9804) \n",
      "\n"
     ]
    },
    {
     "name": "stderr",
     "output_type": "stream",
     "text": [
      "Lossy conversion from float64 to uint8. Range [0, 1]. Convert image to uint8 prior to saving to suppress this warning.\n"
     ]
    },
    {
     "name": "stdout",
     "output_type": "stream",
     "text": [
      "Epoch: 15/100\n",
      "Average Discriminator loss: -2.5957944818095773\n",
      "Average Generator loss: 10.082542633590025\n",
      "\n",
      "Inception Score (IS): tensor(2.5574)\n",
      "Fréchet inception distance (FID): tensor(4.7052) \n",
      "\n"
     ]
    },
    {
     "name": "stderr",
     "output_type": "stream",
     "text": [
      "Lossy conversion from float64 to uint8. Range [0, 1]. Convert image to uint8 prior to saving to suppress this warning.\n"
     ]
    },
    {
     "name": "stdout",
     "output_type": "stream",
     "text": [
      "Epoch: 16/100\n",
      "Average Discriminator loss: -2.582096593842531\n",
      "Average Generator loss: 9.758747458875847\n",
      "\n",
      "Inception Score (IS): tensor(2.6020)\n",
      "Fréchet inception distance (FID): tensor(4.4087) \n",
      "\n"
     ]
    },
    {
     "name": "stderr",
     "output_type": "stream",
     "text": [
      "Lossy conversion from float64 to uint8. Range [0, 1]. Convert image to uint8 prior to saving to suppress this warning.\n"
     ]
    },
    {
     "name": "stdout",
     "output_type": "stream",
     "text": [
      "Epoch: 17/100\n",
      "Average Discriminator loss: -2.593141746641239\n",
      "Average Generator loss: 9.445095499480201\n",
      "\n",
      "Inception Score (IS): tensor(2.6286)\n",
      "Fréchet inception distance (FID): tensor(4.0712) \n",
      "\n"
     ]
    },
    {
     "name": "stderr",
     "output_type": "stream",
     "text": [
      "Lossy conversion from float64 to uint8. Range [0, 1]. Convert image to uint8 prior to saving to suppress this warning.\n"
     ]
    },
    {
     "name": "stdout",
     "output_type": "stream",
     "text": [
      "Epoch: 18/100\n",
      "Average Discriminator loss: -2.6235712211303137\n",
      "Average Generator loss: 9.124936324483224\n",
      "\n",
      "Inception Score (IS): tensor(2.6272)\n",
      "Fréchet inception distance (FID): tensor(3.8456) \n",
      "\n"
     ]
    },
    {
     "name": "stderr",
     "output_type": "stream",
     "text": [
      "Lossy conversion from float64 to uint8. Range [0, 1]. Convert image to uint8 prior to saving to suppress this warning.\n"
     ]
    },
    {
     "name": "stdout",
     "output_type": "stream",
     "text": [
      "Epoch: 19/100\n",
      "Average Discriminator loss: -2.6475808599488695\n",
      "Average Generator loss: 8.795983443994391\n",
      "\n",
      "Inception Score (IS): tensor(2.6470)\n",
      "Fréchet inception distance (FID): tensor(3.5728) \n",
      "\n"
     ]
    },
    {
     "name": "stderr",
     "output_type": "stream",
     "text": [
      "Lossy conversion from float64 to uint8. Range [0, 1]. Convert image to uint8 prior to saving to suppress this warning.\n"
     ]
    },
    {
     "name": "stdout",
     "output_type": "stream",
     "text": [
      "Epoch: 20/100\n",
      "Average Discriminator loss: -2.603068577378797\n",
      "Average Generator loss: 8.349782409700445\n",
      "\n",
      "Inception Score (IS): tensor(2.6717)\n",
      "Fréchet inception distance (FID): tensor(3.4075) \n",
      "\n"
     ]
    },
    {
     "name": "stderr",
     "output_type": "stream",
     "text": [
      "Lossy conversion from float64 to uint8. Range [0, 1]. Convert image to uint8 prior to saving to suppress this warning.\n"
     ]
    },
    {
     "name": "stdout",
     "output_type": "stream",
     "text": [
      "Epoch: 21/100\n",
      "Average Discriminator loss: -2.5677373931221257\n",
      "Average Generator loss: 7.994445965837992\n",
      "\n",
      "Inception Score (IS): tensor(2.6676)\n",
      "Fréchet inception distance (FID): tensor(3.2440) \n",
      "\n"
     ]
    },
    {
     "name": "stderr",
     "output_type": "stream",
     "text": [
      "Lossy conversion from float64 to uint8. Range [0, 1]. Convert image to uint8 prior to saving to suppress this warning.\n"
     ]
    },
    {
     "name": "stdout",
     "output_type": "stream",
     "text": [
      "Epoch: 22/100\n",
      "Average Discriminator loss: -2.558248593513192\n",
      "Average Generator loss: 7.692940225045355\n",
      "\n",
      "Inception Score (IS): tensor(2.6721)\n",
      "Fréchet inception distance (FID): tensor(3.1274) \n",
      "\n"
     ]
    },
    {
     "name": "stderr",
     "output_type": "stream",
     "text": [
      "Lossy conversion from float64 to uint8. Range [0, 1]. Convert image to uint8 prior to saving to suppress this warning.\n"
     ]
    },
    {
     "name": "stdout",
     "output_type": "stream",
     "text": [
      "Epoch: 23/100\n",
      "Average Discriminator loss: -2.568497069184165\n",
      "Average Generator loss: 7.439342858631126\n",
      "\n",
      "Inception Score (IS): tensor(2.6963)\n",
      "Fréchet inception distance (FID): tensor(3.0052) \n",
      "\n"
     ]
    },
    {
     "name": "stderr",
     "output_type": "stream",
     "text": [
      "Lossy conversion from float64 to uint8. Range [0, 1]. Convert image to uint8 prior to saving to suppress this warning.\n"
     ]
    },
    {
     "name": "stdout",
     "output_type": "stream",
     "text": [
      "Epoch: 24/100\n",
      "Average Discriminator loss: -2.5963211092803404\n",
      "Average Generator loss: 7.212047757558986\n",
      "\n",
      "Inception Score (IS): tensor(2.6998)\n",
      "Fréchet inception distance (FID): tensor(2.9504) \n",
      "\n"
     ]
    },
    {
     "name": "stderr",
     "output_type": "stream",
     "text": [
      "Lossy conversion from float64 to uint8. Range [0, 1]. Convert image to uint8 prior to saving to suppress this warning.\n"
     ]
    },
    {
     "name": "stdout",
     "output_type": "stream",
     "text": [
      "Epoch: 25/100\n",
      "Average Discriminator loss: -2.61390563570154\n",
      "Average Generator loss: 6.990402029575064\n",
      "\n",
      "Inception Score (IS): tensor(2.7077)\n",
      "Fréchet inception distance (FID): tensor(2.8741) \n",
      "\n"
     ]
    },
    {
     "name": "stderr",
     "output_type": "stream",
     "text": [
      "Lossy conversion from float64 to uint8. Range [0, 1]. Convert image to uint8 prior to saving to suppress this warning.\n"
     ]
    },
    {
     "name": "stdout",
     "output_type": "stream",
     "text": [
      "Epoch: 26/100\n",
      "Average Discriminator loss: -2.6373460972589795\n",
      "Average Generator loss: 6.710915942830668\n",
      "\n",
      "Inception Score (IS): tensor(2.7180)\n",
      "Fréchet inception distance (FID): tensor(2.7696) \n",
      "\n"
     ]
    },
    {
     "name": "stderr",
     "output_type": "stream",
     "text": [
      "Lossy conversion from float64 to uint8. Range [0, 1]. Convert image to uint8 prior to saving to suppress this warning.\n"
     ]
    },
    {
     "name": "stdout",
     "output_type": "stream",
     "text": [
      "Epoch: 27/100\n",
      "Average Discriminator loss: -2.6705491130133243\n",
      "Average Generator loss: 6.454726512836609\n",
      "\n",
      "Inception Score (IS): tensor(2.7138)\n",
      "Fréchet inception distance (FID): tensor(2.6600) \n",
      "\n"
     ]
    },
    {
     "name": "stderr",
     "output_type": "stream",
     "text": [
      "Lossy conversion from float64 to uint8. Range [0, 1]. Convert image to uint8 prior to saving to suppress this warning.\n"
     ]
    },
    {
     "name": "stdout",
     "output_type": "stream",
     "text": [
      "Epoch: 28/100\n",
      "Average Discriminator loss: -2.689361401608439\n",
      "Average Generator loss: 6.230586981153518\n",
      "\n",
      "Inception Score (IS): tensor(2.7269)\n",
      "Fréchet inception distance (FID): tensor(2.5468) \n",
      "\n"
     ]
    },
    {
     "name": "stderr",
     "output_type": "stream",
     "text": [
      "Lossy conversion from float64 to uint8. Range [0, 1]. Convert image to uint8 prior to saving to suppress this warning.\n"
     ]
    },
    {
     "name": "stdout",
     "output_type": "stream",
     "text": [
      "Epoch: 29/100\n",
      "Average Discriminator loss: -2.7421569560681633\n",
      "Average Generator loss: 6.054227414222271\n",
      "\n",
      "Inception Score (IS): tensor(2.7451)\n",
      "Fréchet inception distance (FID): tensor(2.4505) \n",
      "\n"
     ]
    },
    {
     "name": "stderr",
     "output_type": "stream",
     "text": [
      "Lossy conversion from float64 to uint8. Range [0, 1]. Convert image to uint8 prior to saving to suppress this warning.\n"
     ]
    },
    {
     "name": "stdout",
     "output_type": "stream",
     "text": [
      "Epoch: 30/100\n",
      "Average Discriminator loss: -2.724019056841986\n",
      "Average Generator loss: 5.887489085273547\n",
      "\n",
      "Inception Score (IS): tensor(2.7722)\n",
      "Fréchet inception distance (FID): tensor(2.3559) \n",
      "\n"
     ]
    },
    {
     "name": "stderr",
     "output_type": "stream",
     "text": [
      "Lossy conversion from float64 to uint8. Range [0, 1]. Convert image to uint8 prior to saving to suppress this warning.\n"
     ]
    },
    {
     "name": "stdout",
     "output_type": "stream",
     "text": [
      "Epoch: 31/100\n",
      "Average Discriminator loss: -2.70849187114115\n",
      "Average Generator loss: 5.613891889523742\n",
      "\n",
      "Inception Score (IS): tensor(2.7834)\n",
      "Fréchet inception distance (FID): tensor(2.2605) \n",
      "\n"
     ]
    },
    {
     "name": "stderr",
     "output_type": "stream",
     "text": [
      "Lossy conversion from float64 to uint8. Range [0, 1]. Convert image to uint8 prior to saving to suppress this warning.\n"
     ]
    },
    {
     "name": "stdout",
     "output_type": "stream",
     "text": [
      "Epoch: 32/100\n",
      "Average Discriminator loss: -2.6902360611457903\n",
      "Average Generator loss: 5.409430587020977\n",
      "\n",
      "Inception Score (IS): tensor(2.7833)\n",
      "Fréchet inception distance (FID): tensor(2.1644) \n",
      "\n"
     ]
    },
    {
     "name": "stderr",
     "output_type": "stream",
     "text": [
      "Lossy conversion from float64 to uint8. Range [0, 1]. Convert image to uint8 prior to saving to suppress this warning.\n"
     ]
    },
    {
     "name": "stdout",
     "output_type": "stream",
     "text": [
      "Epoch: 33/100\n",
      "Average Discriminator loss: -2.6966228724805394\n",
      "Average Generator loss: 5.2831601977924345\n",
      "\n",
      "Inception Score (IS): tensor(2.7851)\n",
      "Fréchet inception distance (FID): tensor(2.1059) \n",
      "\n"
     ]
    },
    {
     "name": "stderr",
     "output_type": "stream",
     "text": [
      "Lossy conversion from float64 to uint8. Range [0, 1]. Convert image to uint8 prior to saving to suppress this warning.\n"
     ]
    },
    {
     "name": "stdout",
     "output_type": "stream",
     "text": [
      "Epoch: 34/100\n",
      "Average Discriminator loss: -2.7157330080715103\n",
      "Average Generator loss: 5.2021006434259665\n",
      "\n",
      "Inception Score (IS): tensor(2.7942)\n",
      "Fréchet inception distance (FID): tensor(2.0479) \n",
      "\n"
     ]
    },
    {
     "name": "stderr",
     "output_type": "stream",
     "text": [
      "Lossy conversion from float64 to uint8. Range [0, 1]. Convert image to uint8 prior to saving to suppress this warning.\n"
     ]
    },
    {
     "name": "stdout",
     "output_type": "stream",
     "text": [
      "Epoch: 35/100\n",
      "Average Discriminator loss: -2.7516550275787113\n",
      "Average Generator loss: 5.122524693295796\n",
      "\n",
      "Inception Score (IS): tensor(2.8004)\n",
      "Fréchet inception distance (FID): tensor(1.9910) \n",
      "\n"
     ]
    },
    {
     "name": "stderr",
     "output_type": "stream",
     "text": [
      "Lossy conversion from float64 to uint8. Range [0, 1]. Convert image to uint8 prior to saving to suppress this warning.\n"
     ]
    },
    {
     "name": "stdout",
     "output_type": "stream",
     "text": [
      "Epoch: 36/100\n",
      "Average Discriminator loss: -2.7900224009136063\n",
      "Average Generator loss: 5.017723613210351\n",
      "\n",
      "Inception Score (IS): tensor(2.8082)\n",
      "Fréchet inception distance (FID): tensor(1.9633) \n",
      "\n"
     ]
    },
    {
     "name": "stderr",
     "output_type": "stream",
     "text": [
      "Lossy conversion from float64 to uint8. Range [0, 1]. Convert image to uint8 prior to saving to suppress this warning.\n"
     ]
    },
    {
     "name": "stdout",
     "output_type": "stream",
     "text": [
      "Epoch: 37/100\n",
      "Average Discriminator loss: -2.8442560133555865\n",
      "Average Generator loss: 4.905250440982228\n",
      "\n",
      "Inception Score (IS): tensor(2.8223)\n",
      "Fréchet inception distance (FID): tensor(1.9102) \n",
      "\n"
     ]
    },
    {
     "name": "stderr",
     "output_type": "stream",
     "text": [
      "Lossy conversion from float64 to uint8. Range [0, 1]. Convert image to uint8 prior to saving to suppress this warning.\n"
     ]
    },
    {
     "name": "stdout",
     "output_type": "stream",
     "text": [
      "Epoch: 38/100\n",
      "Average Discriminator loss: -2.880599220294641\n",
      "Average Generator loss: 4.819520794605527\n",
      "\n",
      "Inception Score (IS): tensor(2.8477)\n",
      "Fréchet inception distance (FID): tensor(1.8594) \n",
      "\n"
     ]
    },
    {
     "name": "stderr",
     "output_type": "stream",
     "text": [
      "Lossy conversion from float64 to uint8. Range [0, 1]. Convert image to uint8 prior to saving to suppress this warning.\n"
     ]
    },
    {
     "name": "stdout",
     "output_type": "stream",
     "text": [
      "Epoch: 39/100\n",
      "Average Discriminator loss: -2.9184027452739465\n",
      "Average Generator loss: 4.746431846381027\n",
      "\n",
      "Inception Score (IS): tensor(2.8495)\n",
      "Fréchet inception distance (FID): tensor(1.8134) \n",
      "\n"
     ]
    },
    {
     "name": "stderr",
     "output_type": "stream",
     "text": [
      "Lossy conversion from float64 to uint8. Range [0, 1]. Convert image to uint8 prior to saving to suppress this warning.\n"
     ]
    },
    {
     "name": "stdout",
     "output_type": "stream",
     "text": [
      "Epoch: 40/100\n",
      "Average Discriminator loss: -2.959097411791579\n",
      "Average Generator loss: 4.679398971962002\n",
      "\n",
      "Inception Score (IS): tensor(2.8574)\n",
      "Fréchet inception distance (FID): tensor(1.7563) \n",
      "\n"
     ]
    },
    {
     "name": "stderr",
     "output_type": "stream",
     "text": [
      "Lossy conversion from float64 to uint8. Range [0, 1]. Convert image to uint8 prior to saving to suppress this warning.\n"
     ]
    },
    {
     "name": "stdout",
     "output_type": "stream",
     "text": [
      "Epoch: 41/100\n",
      "Average Discriminator loss: -2.996033634347439\n",
      "Average Generator loss: 4.6261188130234\n",
      "\n",
      "Inception Score (IS): tensor(2.8682)\n",
      "Fréchet inception distance (FID): tensor(1.7114) \n",
      "\n"
     ]
    },
    {
     "name": "stderr",
     "output_type": "stream",
     "text": [
      "Lossy conversion from float64 to uint8. Range [0, 1]. Convert image to uint8 prior to saving to suppress this warning.\n"
     ]
    },
    {
     "name": "stdout",
     "output_type": "stream",
     "text": [
      "Epoch: 42/100\n",
      "Average Discriminator loss: -3.0082555384840246\n",
      "Average Generator loss: 4.5371860312116\n",
      "\n",
      "Inception Score (IS): tensor(2.8782)\n",
      "Fréchet inception distance (FID): tensor(1.6651) \n",
      "\n"
     ]
    },
    {
     "name": "stderr",
     "output_type": "stream",
     "text": [
      "Lossy conversion from float64 to uint8. Range [0, 1]. Convert image to uint8 prior to saving to suppress this warning.\n"
     ]
    },
    {
     "name": "stdout",
     "output_type": "stream",
     "text": [
      "Epoch: 43/100\n",
      "Average Discriminator loss: -3.0160558192513673\n",
      "Average Generator loss: 4.480323028162601\n",
      "\n",
      "Inception Score (IS): tensor(2.9017)\n",
      "Fréchet inception distance (FID): tensor(1.5993) \n",
      "\n"
     ]
    },
    {
     "name": "stderr",
     "output_type": "stream",
     "text": [
      "Lossy conversion from float64 to uint8. Range [0, 1]. Convert image to uint8 prior to saving to suppress this warning.\n"
     ]
    },
    {
     "name": "stdout",
     "output_type": "stream",
     "text": [
      "Epoch: 44/100\n",
      "Average Discriminator loss: -3.0651467427902253\n",
      "Average Generator loss: 4.399172694347408\n",
      "\n",
      "Inception Score (IS): tensor(2.9195)\n",
      "Fréchet inception distance (FID): tensor(1.5485) \n",
      "\n"
     ]
    },
    {
     "name": "stderr",
     "output_type": "stream",
     "text": [
      "Lossy conversion from float64 to uint8. Range [0, 1]. Convert image to uint8 prior to saving to suppress this warning.\n"
     ]
    },
    {
     "name": "stdout",
     "output_type": "stream",
     "text": [
      "Epoch: 45/100\n",
      "Average Discriminator loss: -3.1149041854906456\n",
      "Average Generator loss: 4.3059910580802425\n",
      "\n",
      "Inception Score (IS): tensor(2.9259)\n",
      "Fréchet inception distance (FID): tensor(1.5221) \n",
      "\n"
     ]
    },
    {
     "name": "stderr",
     "output_type": "stream",
     "text": [
      "Lossy conversion from float64 to uint8. Range [0, 1]. Convert image to uint8 prior to saving to suppress this warning.\n"
     ]
    },
    {
     "name": "stdout",
     "output_type": "stream",
     "text": [
      "Epoch: 46/100\n",
      "Average Discriminator loss: -3.13627607579506\n",
      "Average Generator loss: 4.184842864287147\n",
      "\n",
      "Inception Score (IS): tensor(2.9215)\n",
      "Fréchet inception distance (FID): tensor(1.4855) \n",
      "\n"
     ]
    },
    {
     "name": "stderr",
     "output_type": "stream",
     "text": [
      "Lossy conversion from float64 to uint8. Range [0, 1]. Convert image to uint8 prior to saving to suppress this warning.\n"
     ]
    },
    {
     "name": "stdout",
     "output_type": "stream",
     "text": [
      "Epoch: 47/100\n",
      "Average Discriminator loss: -3.1533064346148776\n",
      "Average Generator loss: 4.070832882983944\n",
      "\n",
      "Inception Score (IS): tensor(2.9363)\n",
      "Fréchet inception distance (FID): tensor(1.4491) \n",
      "\n"
     ]
    },
    {
     "name": "stderr",
     "output_type": "stream",
     "text": [
      "Lossy conversion from float64 to uint8. Range [0, 1]. Convert image to uint8 prior to saving to suppress this warning.\n"
     ]
    },
    {
     "name": "stdout",
     "output_type": "stream",
     "text": [
      "Epoch: 48/100\n",
      "Average Discriminator loss: -3.1499504998075563\n",
      "Average Generator loss: 3.9446813237542906\n",
      "\n",
      "Inception Score (IS): tensor(2.9469)\n",
      "Fréchet inception distance (FID): tensor(1.4226) \n",
      "\n"
     ]
    },
    {
     "name": "stderr",
     "output_type": "stream",
     "text": [
      "Lossy conversion from float64 to uint8. Range [0, 1]. Convert image to uint8 prior to saving to suppress this warning.\n"
     ]
    },
    {
     "name": "stdout",
     "output_type": "stream",
     "text": [
      "Epoch: 49/100\n",
      "Average Discriminator loss: -3.173851452719114\n",
      "Average Generator loss: 3.80450005855846\n",
      "\n",
      "Inception Score (IS): tensor(2.9543)\n",
      "Fréchet inception distance (FID): tensor(1.3991) \n",
      "\n"
     ]
    },
    {
     "name": "stderr",
     "output_type": "stream",
     "text": [
      "Lossy conversion from float64 to uint8. Range [0, 1]. Convert image to uint8 prior to saving to suppress this warning.\n"
     ]
    },
    {
     "name": "stdout",
     "output_type": "stream",
     "text": [
      "Epoch: 50/100\n",
      "Average Discriminator loss: -3.1857225847760073\n",
      "Average Generator loss: 3.6391667642960184\n",
      "\n",
      "Inception Score (IS): tensor(2.9585)\n",
      "Fréchet inception distance (FID): tensor(1.3737) \n",
      "\n"
     ]
    },
    {
     "name": "stderr",
     "output_type": "stream",
     "text": [
      "Lossy conversion from float64 to uint8. Range [0, 1]. Convert image to uint8 prior to saving to suppress this warning.\n"
     ]
    },
    {
     "name": "stdout",
     "output_type": "stream",
     "text": [
      "Epoch: 51/100\n",
      "Average Discriminator loss: -3.177000568607469\n",
      "Average Generator loss: 3.4599599662349716\n",
      "\n",
      "Inception Score (IS): tensor(2.9664)\n",
      "Fréchet inception distance (FID): tensor(1.3437) \n",
      "\n"
     ]
    },
    {
     "name": "stderr",
     "output_type": "stream",
     "text": [
      "Lossy conversion from float64 to uint8. Range [0, 1]. Convert image to uint8 prior to saving to suppress this warning.\n"
     ]
    },
    {
     "name": "stdout",
     "output_type": "stream",
     "text": [
      "Epoch: 52/100\n",
      "Average Discriminator loss: -3.1822154286539797\n",
      "Average Generator loss: 3.322678181561375\n",
      "\n",
      "Inception Score (IS): tensor(2.9797)\n",
      "Fréchet inception distance (FID): tensor(1.3194) \n",
      "\n"
     ]
    },
    {
     "name": "stderr",
     "output_type": "stream",
     "text": [
      "Lossy conversion from float64 to uint8. Range [0, 1]. Convert image to uint8 prior to saving to suppress this warning.\n"
     ]
    },
    {
     "name": "stdout",
     "output_type": "stream",
     "text": [
      "Epoch: 53/100\n",
      "Average Discriminator loss: -3.1929786649136567\n",
      "Average Generator loss: 3.1725686646107607\n",
      "\n",
      "Inception Score (IS): tensor(2.9846)\n",
      "Fréchet inception distance (FID): tensor(1.2935) \n",
      "\n"
     ]
    },
    {
     "name": "stderr",
     "output_type": "stream",
     "text": [
      "Lossy conversion from float64 to uint8. Range [0, 1]. Convert image to uint8 prior to saving to suppress this warning.\n"
     ]
    },
    {
     "name": "stdout",
     "output_type": "stream",
     "text": [
      "Epoch: 54/100\n",
      "Average Discriminator loss: -3.2034280004540543\n",
      "Average Generator loss: 2.9914172458173205\n",
      "\n",
      "Inception Score (IS): tensor(2.9868)\n",
      "Fréchet inception distance (FID): tensor(1.2588) \n",
      "\n"
     ]
    },
    {
     "name": "stderr",
     "output_type": "stream",
     "text": [
      "Lossy conversion from float64 to uint8. Range [0, 1]. Convert image to uint8 prior to saving to suppress this warning.\n"
     ]
    },
    {
     "name": "stdout",
     "output_type": "stream",
     "text": [
      "Epoch: 55/100\n",
      "Average Discriminator loss: -3.2171049380375374\n",
      "Average Generator loss: 2.832211438912056\n",
      "\n",
      "Inception Score (IS): tensor(2.9954)\n",
      "Fréchet inception distance (FID): tensor(1.2442) \n",
      "\n"
     ]
    },
    {
     "name": "stderr",
     "output_type": "stream",
     "text": [
      "Lossy conversion from float64 to uint8. Range [0, 1]. Convert image to uint8 prior to saving to suppress this warning.\n"
     ]
    },
    {
     "name": "stdout",
     "output_type": "stream",
     "text": [
      "Epoch: 56/100\n",
      "Average Discriminator loss: -3.2455396505273986\n",
      "Average Generator loss: 2.6650874295541436\n",
      "\n",
      "Inception Score (IS): tensor(3.0054)\n",
      "Fréchet inception distance (FID): tensor(1.2213) \n",
      "\n"
     ]
    },
    {
     "name": "stderr",
     "output_type": "stream",
     "text": [
      "Lossy conversion from float64 to uint8. Range [0, 1]. Convert image to uint8 prior to saving to suppress this warning.\n"
     ]
    },
    {
     "name": "stdout",
     "output_type": "stream",
     "text": [
      "Epoch: 57/100\n",
      "Average Discriminator loss: -3.260964089038468\n",
      "Average Generator loss: 2.4789627680787083\n",
      "\n",
      "Inception Score (IS): tensor(3.0128)\n",
      "Fréchet inception distance (FID): tensor(1.1936) \n",
      "\n"
     ]
    },
    {
     "name": "stderr",
     "output_type": "stream",
     "text": [
      "Lossy conversion from float64 to uint8. Range [0, 1]. Convert image to uint8 prior to saving to suppress this warning.\n"
     ]
    },
    {
     "name": "stdout",
     "output_type": "stream",
     "text": [
      "Epoch: 58/100\n",
      "Average Discriminator loss: -3.278431496995474\n",
      "Average Generator loss: 2.2918094723863374\n",
      "\n",
      "Inception Score (IS): tensor(3.0156)\n",
      "Fréchet inception distance (FID): tensor(1.1768) \n",
      "\n"
     ]
    },
    {
     "name": "stderr",
     "output_type": "stream",
     "text": [
      "Lossy conversion from float64 to uint8. Range [0, 1]. Convert image to uint8 prior to saving to suppress this warning.\n"
     ]
    },
    {
     "name": "stdout",
     "output_type": "stream",
     "text": [
      "Epoch: 59/100\n",
      "Average Discriminator loss: -3.31242201778259\n",
      "Average Generator loss: 2.114630409682745\n",
      "\n",
      "Inception Score (IS): tensor(3.0139)\n",
      "Fréchet inception distance (FID): tensor(1.1587) \n",
      "\n"
     ]
    },
    {
     "name": "stderr",
     "output_type": "stream",
     "text": [
      "Lossy conversion from float64 to uint8. Range [0, 1]. Convert image to uint8 prior to saving to suppress this warning.\n"
     ]
    },
    {
     "name": "stdout",
     "output_type": "stream",
     "text": [
      "Epoch: 60/100\n",
      "Average Discriminator loss: -3.2816007653665213\n",
      "Average Generator loss: 1.9118431595400867\n",
      "\n",
      "Inception Score (IS): tensor(3.0188)\n",
      "Fréchet inception distance (FID): tensor(1.1381) \n",
      "\n"
     ]
    },
    {
     "name": "stderr",
     "output_type": "stream",
     "text": [
      "Lossy conversion from float64 to uint8. Range [0, 1]. Convert image to uint8 prior to saving to suppress this warning.\n"
     ]
    },
    {
     "name": "stdout",
     "output_type": "stream",
     "text": [
      "Epoch: 61/100\n",
      "Average Discriminator loss: -3.284744411329541\n",
      "Average Generator loss: 1.768951452820679\n",
      "\n",
      "Inception Score (IS): tensor(3.0334)\n",
      "Fréchet inception distance (FID): tensor(1.1190) \n",
      "\n"
     ]
    },
    {
     "name": "stderr",
     "output_type": "stream",
     "text": [
      "Lossy conversion from float64 to uint8. Range [0, 1]. Convert image to uint8 prior to saving to suppress this warning.\n"
     ]
    },
    {
     "name": "stdout",
     "output_type": "stream",
     "text": [
      "Epoch: 62/100\n",
      "Average Discriminator loss: -3.300398764552547\n",
      "Average Generator loss: 1.5951543470322347\n",
      "\n",
      "Inception Score (IS): tensor(3.0390)\n",
      "Fréchet inception distance (FID): tensor(1.0983) \n",
      "\n"
     ]
    },
    {
     "name": "stderr",
     "output_type": "stream",
     "text": [
      "Lossy conversion from float64 to uint8. Range [0, 1]. Convert image to uint8 prior to saving to suppress this warning.\n"
     ]
    },
    {
     "name": "stdout",
     "output_type": "stream",
     "text": [
      "Epoch: 63/100\n",
      "Average Discriminator loss: -3.303629405470546\n",
      "Average Generator loss: 1.4130065190534937\n",
      "\n",
      "Inception Score (IS): tensor(3.0517)\n",
      "Fréchet inception distance (FID): tensor(1.0892) \n",
      "\n"
     ]
    },
    {
     "name": "stderr",
     "output_type": "stream",
     "text": [
      "Lossy conversion from float64 to uint8. Range [0, 1]. Convert image to uint8 prior to saving to suppress this warning.\n"
     ]
    },
    {
     "name": "stdout",
     "output_type": "stream",
     "text": [
      "Epoch: 64/100\n",
      "Average Discriminator loss: -3.3240981953537974\n",
      "Average Generator loss: 1.26835397645258\n",
      "\n",
      "Inception Score (IS): tensor(3.0531)\n",
      "Fréchet inception distance (FID): tensor(1.0704) \n",
      "\n"
     ]
    },
    {
     "name": "stderr",
     "output_type": "stream",
     "text": [
      "Lossy conversion from float64 to uint8. Range [0, 1]. Convert image to uint8 prior to saving to suppress this warning.\n"
     ]
    },
    {
     "name": "stdout",
     "output_type": "stream",
     "text": [
      "Epoch: 65/100\n",
      "Average Discriminator loss: -3.3426287897460205\n",
      "Average Generator loss: 1.1196130611252268\n",
      "\n",
      "Inception Score (IS): tensor(3.0629)\n",
      "Fréchet inception distance (FID): tensor(1.0523) \n",
      "\n"
     ]
    },
    {
     "name": "stderr",
     "output_type": "stream",
     "text": [
      "Lossy conversion from float64 to uint8. Range [0, 1]. Convert image to uint8 prior to saving to suppress this warning.\n"
     ]
    },
    {
     "name": "stdout",
     "output_type": "stream",
     "text": [
      "Epoch: 66/100\n",
      "Average Discriminator loss: -3.3615706137192625\n",
      "Average Generator loss: 0.9852977449591065\n",
      "\n",
      "Inception Score (IS): tensor(3.0720)\n",
      "Fréchet inception distance (FID): tensor(1.0357) \n",
      "\n"
     ]
    },
    {
     "name": "stderr",
     "output_type": "stream",
     "text": [
      "Lossy conversion from float64 to uint8. Range [0, 1]. Convert image to uint8 prior to saving to suppress this warning.\n"
     ]
    },
    {
     "name": "stdout",
     "output_type": "stream",
     "text": [
      "Epoch: 67/100\n",
      "Average Discriminator loss: -3.3907753260377786\n",
      "Average Generator loss: 0.8683311931940043\n",
      "\n",
      "Inception Score (IS): tensor(3.0752)\n",
      "Fréchet inception distance (FID): tensor(1.0158) \n",
      "\n"
     ]
    },
    {
     "name": "stderr",
     "output_type": "stream",
     "text": [
      "Lossy conversion from float64 to uint8. Range [0, 1]. Convert image to uint8 prior to saving to suppress this warning.\n"
     ]
    },
    {
     "name": "stdout",
     "output_type": "stream",
     "text": [
      "Epoch: 68/100\n",
      "Average Discriminator loss: -3.39255611643021\n",
      "Average Generator loss: 0.7395966423290528\n",
      "\n",
      "Inception Score (IS): tensor(3.0831)\n",
      "Fréchet inception distance (FID): tensor(0.9958) \n",
      "\n"
     ]
    },
    {
     "name": "stderr",
     "output_type": "stream",
     "text": [
      "Lossy conversion from float64 to uint8. Range [0, 1]. Convert image to uint8 prior to saving to suppress this warning.\n"
     ]
    },
    {
     "name": "stdout",
     "output_type": "stream",
     "text": [
      "Epoch: 69/100\n",
      "Average Discriminator loss: -3.3848440265376434\n",
      "Average Generator loss: 0.6177010894574804\n",
      "\n",
      "Inception Score (IS): tensor(3.0920)\n",
      "Fréchet inception distance (FID): tensor(0.9876) \n",
      "\n"
     ]
    },
    {
     "name": "stderr",
     "output_type": "stream",
     "text": [
      "Lossy conversion from float64 to uint8. Range [0, 1]. Convert image to uint8 prior to saving to suppress this warning.\n"
     ]
    },
    {
     "name": "stdout",
     "output_type": "stream",
     "text": [
      "Epoch: 70/100\n",
      "Average Discriminator loss: -3.3641160283824463\n",
      "Average Generator loss: 0.5384032336019334\n",
      "\n",
      "Inception Score (IS): tensor(3.0922)\n",
      "Fréchet inception distance (FID): tensor(0.9722) \n",
      "\n"
     ]
    },
    {
     "name": "stderr",
     "output_type": "stream",
     "text": [
      "Lossy conversion from float64 to uint8. Range [0, 1]. Convert image to uint8 prior to saving to suppress this warning.\n"
     ]
    },
    {
     "name": "stdout",
     "output_type": "stream",
     "text": [
      "Epoch: 71/100\n",
      "Average Discriminator loss: -3.3630390182008334\n",
      "Average Generator loss: 0.488012272992389\n",
      "\n",
      "Inception Score (IS): tensor(3.1029)\n",
      "Fréchet inception distance (FID): tensor(0.9546) \n",
      "\n"
     ]
    },
    {
     "name": "stderr",
     "output_type": "stream",
     "text": [
      "Lossy conversion from float64 to uint8. Range [0, 1]. Convert image to uint8 prior to saving to suppress this warning.\n"
     ]
    },
    {
     "name": "stdout",
     "output_type": "stream",
     "text": [
      "Epoch: 72/100\n",
      "Average Discriminator loss: -3.3556358812302562\n",
      "Average Generator loss: 0.41091632133514283\n",
      "\n",
      "Inception Score (IS): tensor(3.1059)\n",
      "Fréchet inception distance (FID): tensor(0.9403) \n",
      "\n"
     ]
    },
    {
     "name": "stderr",
     "output_type": "stream",
     "text": [
      "Lossy conversion from float64 to uint8. Range [0, 1]. Convert image to uint8 prior to saving to suppress this warning.\n"
     ]
    },
    {
     "name": "stdout",
     "output_type": "stream",
     "text": [
      "Epoch: 73/100\n",
      "Average Discriminator loss: -3.3636387149581877\n",
      "Average Generator loss: 0.35969664301418364\n",
      "\n",
      "Inception Score (IS): tensor(3.1118)\n",
      "Fréchet inception distance (FID): tensor(0.9279) \n",
      "\n"
     ]
    },
    {
     "name": "stderr",
     "output_type": "stream",
     "text": [
      "Lossy conversion from float64 to uint8. Range [0, 1]. Convert image to uint8 prior to saving to suppress this warning.\n"
     ]
    },
    {
     "name": "stdout",
     "output_type": "stream",
     "text": [
      "Epoch: 74/100\n",
      "Average Discriminator loss: -3.3286562936918775\n",
      "Average Generator loss: 0.32006679882301237\n",
      "\n",
      "Inception Score (IS): tensor(3.1128)\n",
      "Fréchet inception distance (FID): tensor(0.9146) \n",
      "\n"
     ]
    },
    {
     "name": "stderr",
     "output_type": "stream",
     "text": [
      "Lossy conversion from float64 to uint8. Range [0, 1]. Convert image to uint8 prior to saving to suppress this warning.\n"
     ]
    },
    {
     "name": "stdout",
     "output_type": "stream",
     "text": [
      "Epoch: 75/100\n",
      "Average Discriminator loss: -3.319840091494923\n",
      "Average Generator loss: 0.3418218624451731\n",
      "\n",
      "Inception Score (IS): tensor(3.1157)\n",
      "Fréchet inception distance (FID): tensor(0.8990) \n",
      "\n"
     ]
    },
    {
     "name": "stderr",
     "output_type": "stream",
     "text": [
      "Lossy conversion from float64 to uint8. Range [0, 1]. Convert image to uint8 prior to saving to suppress this warning.\n"
     ]
    },
    {
     "name": "stdout",
     "output_type": "stream",
     "text": [
      "Epoch: 76/100\n",
      "Average Discriminator loss: -3.312008095364741\n",
      "Average Generator loss: 0.38981331134649866\n",
      "\n",
      "Inception Score (IS): tensor(3.1192)\n",
      "Fréchet inception distance (FID): tensor(0.8871) \n",
      "\n"
     ]
    },
    {
     "name": "stderr",
     "output_type": "stream",
     "text": [
      "Lossy conversion from float64 to uint8. Range [0, 1]. Convert image to uint8 prior to saving to suppress this warning.\n"
     ]
    },
    {
     "name": "stdout",
     "output_type": "stream",
     "text": [
      "Epoch: 77/100\n",
      "Average Discriminator loss: -3.313109796763439\n",
      "Average Generator loss: 0.4307542860773437\n",
      "\n",
      "Inception Score (IS): tensor(3.1230)\n",
      "Fréchet inception distance (FID): tensor(0.8712) \n",
      "\n"
     ]
    },
    {
     "name": "stderr",
     "output_type": "stream",
     "text": [
      "Lossy conversion from float64 to uint8. Range [0, 1]. Convert image to uint8 prior to saving to suppress this warning.\n"
     ]
    },
    {
     "name": "stdout",
     "output_type": "stream",
     "text": [
      "Epoch: 78/100\n",
      "Average Discriminator loss: -3.3146733919049587\n",
      "Average Generator loss: 0.47840826153475974\n",
      "\n",
      "Inception Score (IS): tensor(3.1293)\n",
      "Fréchet inception distance (FID): tensor(0.8546) \n",
      "\n"
     ]
    },
    {
     "name": "stderr",
     "output_type": "stream",
     "text": [
      "Lossy conversion from float64 to uint8. Range [0, 1]. Convert image to uint8 prior to saving to suppress this warning.\n"
     ]
    },
    {
     "name": "stdout",
     "output_type": "stream",
     "text": [
      "Epoch: 79/100\n",
      "Average Discriminator loss: -3.320406173025486\n",
      "Average Generator loss: 0.5129806310874288\n",
      "\n",
      "Inception Score (IS): tensor(3.1273)\n",
      "Fréchet inception distance (FID): tensor(0.8394) \n",
      "\n"
     ]
    },
    {
     "name": "stderr",
     "output_type": "stream",
     "text": [
      "Lossy conversion from float64 to uint8. Range [0, 1]. Convert image to uint8 prior to saving to suppress this warning.\n"
     ]
    },
    {
     "name": "stdout",
     "output_type": "stream",
     "text": [
      "Epoch: 80/100\n",
      "Average Discriminator loss: -3.3381117040028747\n",
      "Average Generator loss: 0.5339533606985918\n",
      "\n",
      "Inception Score (IS): tensor(3.1322)\n",
      "Fréchet inception distance (FID): tensor(0.8272) \n",
      "\n"
     ]
    },
    {
     "name": "stderr",
     "output_type": "stream",
     "text": [
      "Lossy conversion from float64 to uint8. Range [0, 1]. Convert image to uint8 prior to saving to suppress this warning.\n"
     ]
    },
    {
     "name": "stdout",
     "output_type": "stream",
     "text": [
      "Epoch: 81/100\n",
      "Average Discriminator loss: -3.3511413016102103\n",
      "Average Generator loss: 0.532274379494891\n",
      "\n",
      "Inception Score (IS): tensor(3.1412)\n",
      "Fréchet inception distance (FID): tensor(0.8166) \n",
      "\n"
     ]
    },
    {
     "name": "stderr",
     "output_type": "stream",
     "text": [
      "Lossy conversion from float64 to uint8. Range [0, 1]. Convert image to uint8 prior to saving to suppress this warning.\n"
     ]
    },
    {
     "name": "stdout",
     "output_type": "stream",
     "text": [
      "Epoch: 82/100\n",
      "Average Discriminator loss: -3.370638422188049\n",
      "Average Generator loss: 0.5288183507407602\n",
      "\n",
      "Inception Score (IS): tensor(3.1463)\n",
      "Fréchet inception distance (FID): tensor(0.8116) \n",
      "\n"
     ]
    },
    {
     "name": "stderr",
     "output_type": "stream",
     "text": [
      "Lossy conversion from float64 to uint8. Range [0, 1]. Convert image to uint8 prior to saving to suppress this warning.\n"
     ]
    },
    {
     "name": "stdout",
     "output_type": "stream",
     "text": [
      "Epoch: 83/100\n",
      "Average Discriminator loss: -3.364607719566983\n",
      "Average Generator loss: 0.49371213756747956\n",
      "\n",
      "Inception Score (IS): tensor(3.1612)\n",
      "Fréchet inception distance (FID): tensor(0.7997) \n",
      "\n"
     ]
    },
    {
     "name": "stderr",
     "output_type": "stream",
     "text": [
      "Lossy conversion from float64 to uint8. Range [0, 1]. Convert image to uint8 prior to saving to suppress this warning.\n"
     ]
    },
    {
     "name": "stdout",
     "output_type": "stream",
     "text": [
      "Epoch: 84/100\n",
      "Average Discriminator loss: -3.3516411722838986\n",
      "Average Generator loss: 0.4889325163121334\n",
      "\n",
      "Inception Score (IS): tensor(3.1601)\n",
      "Fréchet inception distance (FID): tensor(0.7881) \n",
      "\n"
     ]
    },
    {
     "name": "stderr",
     "output_type": "stream",
     "text": [
      "Lossy conversion from float64 to uint8. Range [0, 1]. Convert image to uint8 prior to saving to suppress this warning.\n"
     ]
    },
    {
     "name": "stdout",
     "output_type": "stream",
     "text": [
      "Epoch: 85/100\n",
      "Average Discriminator loss: -3.3612056865703828\n",
      "Average Generator loss: 0.5033167818485342\n",
      "\n",
      "Inception Score (IS): tensor(3.1634)\n",
      "Fréchet inception distance (FID): tensor(0.7802) \n",
      "\n"
     ]
    },
    {
     "name": "stderr",
     "output_type": "stream",
     "text": [
      "Lossy conversion from float64 to uint8. Range [0, 1]. Convert image to uint8 prior to saving to suppress this warning.\n"
     ]
    },
    {
     "name": "stdout",
     "output_type": "stream",
     "text": [
      "Epoch: 86/100\n",
      "Average Discriminator loss: -3.3831319848078842\n",
      "Average Generator loss: 0.4996584497589882\n",
      "\n",
      "Inception Score (IS): tensor(3.1657)\n",
      "Fréchet inception distance (FID): tensor(0.7722) \n",
      "\n"
     ]
    },
    {
     "name": "stderr",
     "output_type": "stream",
     "text": [
      "Lossy conversion from float64 to uint8. Range [0, 1]. Convert image to uint8 prior to saving to suppress this warning.\n"
     ]
    },
    {
     "name": "stdout",
     "output_type": "stream",
     "text": [
      "Epoch: 87/100\n",
      "Average Discriminator loss: -3.4004472891116366\n",
      "Average Generator loss: 0.4760739742236137\n",
      "\n",
      "Inception Score (IS): tensor(3.1694)\n",
      "Fréchet inception distance (FID): tensor(0.7586) \n",
      "\n"
     ]
    },
    {
     "name": "stderr",
     "output_type": "stream",
     "text": [
      "Lossy conversion from float64 to uint8. Range [0, 1]. Convert image to uint8 prior to saving to suppress this warning.\n"
     ]
    },
    {
     "name": "stdout",
     "output_type": "stream",
     "text": [
      "Epoch: 88/100\n",
      "Average Discriminator loss: -3.388308125409126\n",
      "Average Generator loss: 0.43017846059883424\n",
      "\n",
      "Inception Score (IS): tensor(3.1784)\n",
      "Fréchet inception distance (FID): tensor(0.7496) \n",
      "\n"
     ]
    },
    {
     "name": "stderr",
     "output_type": "stream",
     "text": [
      "Lossy conversion from float64 to uint8. Range [0, 1]. Convert image to uint8 prior to saving to suppress this warning.\n"
     ]
    },
    {
     "name": "stdout",
     "output_type": "stream",
     "text": [
      "Epoch: 89/100\n",
      "Average Discriminator loss: -3.3937998052844223\n",
      "Average Generator loss: 0.4106911721002623\n",
      "\n",
      "Inception Score (IS): tensor(3.1836)\n",
      "Fréchet inception distance (FID): tensor(0.7418) \n",
      "\n"
     ]
    },
    {
     "name": "stderr",
     "output_type": "stream",
     "text": [
      "Lossy conversion from float64 to uint8. Range [0, 1]. Convert image to uint8 prior to saving to suppress this warning.\n"
     ]
    },
    {
     "name": "stdout",
     "output_type": "stream",
     "text": [
      "Epoch: 90/100\n",
      "Average Discriminator loss: -3.413048896719927\n",
      "Average Generator loss: 0.37813931123653366\n",
      "\n",
      "Inception Score (IS): tensor(3.1873)\n",
      "Fréchet inception distance (FID): tensor(0.7372) \n",
      "\n"
     ]
    },
    {
     "name": "stderr",
     "output_type": "stream",
     "text": [
      "Lossy conversion from float64 to uint8. Range [0, 1]. Convert image to uint8 prior to saving to suppress this warning.\n"
     ]
    },
    {
     "name": "stdout",
     "output_type": "stream",
     "text": [
      "Epoch: 91/100\n",
      "Average Discriminator loss: -3.4297618019699243\n",
      "Average Generator loss: 0.3236351579125413\n",
      "\n",
      "Inception Score (IS): tensor(3.1964)\n",
      "Fréchet inception distance (FID): tensor(0.7282) \n",
      "\n"
     ]
    },
    {
     "name": "stderr",
     "output_type": "stream",
     "text": [
      "Lossy conversion from float64 to uint8. Range [0, 1]. Convert image to uint8 prior to saving to suppress this warning.\n"
     ]
    },
    {
     "name": "stdout",
     "output_type": "stream",
     "text": [
      "Epoch: 92/100\n",
      "Average Discriminator loss: -3.4214288911459305\n",
      "Average Generator loss: 0.21460639302896017\n",
      "\n",
      "Inception Score (IS): tensor(3.1958)\n",
      "Fréchet inception distance (FID): tensor(0.7162) \n",
      "\n"
     ]
    },
    {
     "name": "stderr",
     "output_type": "stream",
     "text": [
      "Lossy conversion from float64 to uint8. Range [0, 1]. Convert image to uint8 prior to saving to suppress this warning.\n"
     ]
    },
    {
     "name": "stdout",
     "output_type": "stream",
     "text": [
      "Epoch: 93/100\n",
      "Average Discriminator loss: -3.3923798059746275\n",
      "Average Generator loss: 0.11232346355882203\n",
      "\n",
      "Inception Score (IS): tensor(3.2099)\n",
      "Fréchet inception distance (FID): tensor(0.7070) \n",
      "\n"
     ]
    },
    {
     "name": "stderr",
     "output_type": "stream",
     "text": [
      "Lossy conversion from float64 to uint8. Range [0, 1]. Convert image to uint8 prior to saving to suppress this warning.\n"
     ]
    },
    {
     "name": "stdout",
     "output_type": "stream",
     "text": [
      "Epoch: 94/100\n",
      "Average Discriminator loss: -3.3721937537406697\n",
      "Average Generator loss: 0.05130979693934232\n",
      "\n",
      "Inception Score (IS): tensor(3.2146)\n",
      "Fréchet inception distance (FID): tensor(0.7014) \n",
      "\n"
     ]
    },
    {
     "name": "stderr",
     "output_type": "stream",
     "text": [
      "Lossy conversion from float64 to uint8. Range [0, 1]. Convert image to uint8 prior to saving to suppress this warning.\n"
     ]
    },
    {
     "name": "stdout",
     "output_type": "stream",
     "text": [
      "Epoch: 95/100\n",
      "Average Discriminator loss: -3.3589671068657667\n",
      "Average Generator loss: 0.024279018247175797\n",
      "\n",
      "Inception Score (IS): tensor(3.2232)\n",
      "Fréchet inception distance (FID): tensor(0.6933) \n",
      "\n"
     ]
    },
    {
     "name": "stderr",
     "output_type": "stream",
     "text": [
      "Lossy conversion from float64 to uint8. Range [0, 1]. Convert image to uint8 prior to saving to suppress this warning.\n"
     ]
    },
    {
     "name": "stdout",
     "output_type": "stream",
     "text": [
      "Epoch: 96/100\n",
      "Average Discriminator loss: -3.350923245698094\n",
      "Average Generator loss: 0.023543021666546725\n",
      "\n",
      "Inception Score (IS): tensor(3.2266)\n",
      "Fréchet inception distance (FID): tensor(0.6842) \n",
      "\n"
     ]
    },
    {
     "name": "stderr",
     "output_type": "stream",
     "text": [
      "Lossy conversion from float64 to uint8. Range [0, 1]. Convert image to uint8 prior to saving to suppress this warning.\n"
     ]
    },
    {
     "name": "stdout",
     "output_type": "stream",
     "text": [
      "Epoch: 97/100\n",
      "Average Discriminator loss: -3.3449743340836218\n",
      "Average Generator loss: 0.040937866261285545\n",
      "\n",
      "Inception Score (IS): tensor(3.2340)\n",
      "Fréchet inception distance (FID): tensor(0.6738) \n",
      "\n"
     ]
    },
    {
     "name": "stderr",
     "output_type": "stream",
     "text": [
      "Lossy conversion from float64 to uint8. Range [0, 1]. Convert image to uint8 prior to saving to suppress this warning.\n"
     ]
    },
    {
     "name": "stdout",
     "output_type": "stream",
     "text": [
      "Epoch: 98/100\n",
      "Average Discriminator loss: -3.3434098873458984\n",
      "Average Generator loss: 0.0597077114083563\n",
      "\n",
      "Inception Score (IS): tensor(3.2384)\n",
      "Fréchet inception distance (FID): tensor(0.6674) \n",
      "\n"
     ]
    },
    {
     "name": "stderr",
     "output_type": "stream",
     "text": [
      "Lossy conversion from float64 to uint8. Range [0, 1]. Convert image to uint8 prior to saving to suppress this warning.\n"
     ]
    },
    {
     "name": "stdout",
     "output_type": "stream",
     "text": [
      "Epoch: 99/100\n",
      "Average Discriminator loss: -3.3440680085852397\n",
      "Average Generator loss: 0.0846171872369507\n",
      "\n",
      "Inception Score (IS): tensor(3.2459)\n",
      "Fréchet inception distance (FID): tensor(0.6589) \n",
      "\n"
     ]
    },
    {
     "name": "stderr",
     "output_type": "stream",
     "text": [
      "Lossy conversion from float64 to uint8. Range [0, 1]. Convert image to uint8 prior to saving to suppress this warning.\n"
     ]
    },
    {
     "name": "stdout",
     "output_type": "stream",
     "text": [
      "Epoch: 100/100\n",
      "Average Discriminator loss: -3.345583526899035\n",
      "Average Generator loss: 0.1114061108413033\n",
      "\n",
      "Inception Score (IS): tensor(3.2539)\n",
      "Fréchet inception distance (FID): tensor(0.6494) \n",
      "\n",
      "Training finished!\n"
     ]
    },
    {
     "data": {
      "image/png": "[encoded data removed]",
      "text/plain": [
       "<Figure size 640x480 with 1 Axes>"
      ]
     },
     "metadata": {},
     "output_type": "display_data"
    },
    {
     "data": {
      "image/png": "[encoded data removed]",
      "text/plain": [
       "<Figure size 640x480 with 1 Axes>"
      ]
     },
     "metadata": {},
     "output_type": "display_data"
    },
    {
     "data": {
      "image/png": "[encoded data removed]",
      "text/plain": [
       "<Figure size 640x480 with 1 Axes>"
      ]
     },
     "metadata": {},
     "output_type": "display_data"
    }
   ],
   "source": [
    "wgan_gp.train()"
   ]
  }
 ],
 "metadata": {
  "kernelspec": {
   "display_name": "base",
   "language": "python",
   "name": "python3"
  },
  "language_info": {
   "codemirror_mode": {
    "name": "ipython",
    "version": 3
   },
   "file_extension": ".py",
   "mimetype": "text/x-python",
   "name": "python",
   "nbconvert_exporter": "python",
   "pygments_lexer": "ipython3",
   "version": "3.9.16"
  },
  "orig_nbformat": 4
 },
 "nbformat": 4,
 "nbformat_minor": 2
}
